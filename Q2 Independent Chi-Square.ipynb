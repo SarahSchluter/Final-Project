{
 "cells": [
  {
   "cell_type": "markdown",
   "id": "27f01a18",
   "metadata": {},
   "source": [
    "# Which age group of animals has the highest adoption rate?"
   ]
  },
  {
   "cell_type": "markdown",
   "id": "08f4493f",
   "metadata": {},
   "source": [
    "### 6 IV (age group), categorical"
   ]
  },
  {
   "cell_type": "markdown",
   "id": "72c4b0a2",
   "metadata": {},
   "source": [
    "### 2 levels DV (adoptions), categorical"
   ]
  },
  {
   "cell_type": "markdown",
   "id": "012463e0",
   "metadata": {},
   "source": [
    "### Analysis Independent Chi-Square"
   ]
  },
  {
   "cell_type": "markdown",
   "id": "96352391",
   "metadata": {},
   "source": [
    "# import packages"
   ]
  },
  {
   "cell_type": "code",
   "execution_count": 7,
   "id": "bbe532cf",
   "metadata": {},
   "outputs": [],
   "source": [
    "import pandas as pd\n",
    "import numpy as np\n",
    "import matplotlib.pyplot as plt\n",
    "%matplotlib inline\n",
    "import seaborn as sns\n",
    "import statsmodels\n",
    "import scipy\n",
    "from scipy import stats\n",
    "from scipy.stats import boxcox\n",
    "from statsmodels.stats.multicomp import pairwise_tukeyhsd\n",
    "from statsmodels.stats.multicomp import MultiComparison\n",
    "from statsmodels.stats.proportion import proportions_ztest\n",
    "from statsmodels.stats.proportion import proportions_chisquare"
   ]
  },
  {
   "cell_type": "markdown",
   "id": "72eca3d0",
   "metadata": {},
   "source": [
    "# read in data"
   ]
  },
  {
   "cell_type": "code",
   "execution_count": 8,
   "id": "c6e40070",
   "metadata": {},
   "outputs": [],
   "source": [
    "shelter = pd.read_csv(r'C:\\Users\\hazre\\OneDrive\\OneNote\\GitHub\\Final-Project\\MasterShelter.csv')"
   ]
  },
  {
   "cell_type": "code",
   "execution_count": 9,
   "id": "60a8dd9e",
   "metadata": {},
   "outputs": [
    {
     "data": {
      "text/html": [
       "<div>\n",
       "<style scoped>\n",
       "    .dataframe tbody tr th:only-of-type {\n",
       "        vertical-align: middle;\n",
       "    }\n",
       "\n",
       "    .dataframe tbody tr th {\n",
       "        vertical-align: top;\n",
       "    }\n",
       "\n",
       "    .dataframe thead th {\n",
       "        text-align: right;\n",
       "    }\n",
       "</style>\n",
       "<table border=\"1\" class=\"dataframe\">\n",
       "  <thead>\n",
       "    <tr style=\"text-align: right;\">\n",
       "      <th></th>\n",
       "      <th>speciesname</th>\n",
       "      <th>intakeMonth</th>\n",
       "      <th>intakeMonthR</th>\n",
       "      <th>id</th>\n",
       "      <th>movementMonth</th>\n",
       "      <th>DogAgeGroup</th>\n",
       "      <th>intakeYear</th>\n",
       "      <th>movementDate1R</th>\n",
       "      <th>intakereason</th>\n",
       "      <th>movementYear</th>\n",
       "      <th>movementtype</th>\n",
       "      <th>sexname</th>\n",
       "      <th>CatAgeGroup</th>\n",
       "    </tr>\n",
       "  </thead>\n",
       "  <tbody>\n",
       "    <tr>\n",
       "      <th>0</th>\n",
       "      <td>Cat</td>\n",
       "      <td>11</td>\n",
       "      <td>February</td>\n",
       "      <td>15801</td>\n",
       "      <td>5</td>\n",
       "      <td>Senior</td>\n",
       "      <td>2009</td>\n",
       "      <td>May</td>\n",
       "      <td>Moving</td>\n",
       "      <td>2017</td>\n",
       "      <td>Adoption</td>\n",
       "      <td>Female</td>\n",
       "      <td>Senior</td>\n",
       "    </tr>\n",
       "    <tr>\n",
       "      <th>1</th>\n",
       "      <td>Dog</td>\n",
       "      <td>12</td>\n",
       "      <td>February</td>\n",
       "      <td>15932</td>\n",
       "      <td>4</td>\n",
       "      <td>Senior</td>\n",
       "      <td>2009</td>\n",
       "      <td>April</td>\n",
       "      <td>Moving</td>\n",
       "      <td>2017</td>\n",
       "      <td>Adoption</td>\n",
       "      <td>Male</td>\n",
       "      <td>Mature</td>\n",
       "    </tr>\n",
       "    <tr>\n",
       "      <th>2</th>\n",
       "      <td>Dog</td>\n",
       "      <td>8</td>\n",
       "      <td>February</td>\n",
       "      <td>28859</td>\n",
       "      <td>4</td>\n",
       "      <td>Mature</td>\n",
       "      <td>2012</td>\n",
       "      <td>April</td>\n",
       "      <td>Abandoned</td>\n",
       "      <td>2017</td>\n",
       "      <td>Adoption</td>\n",
       "      <td>Female</td>\n",
       "      <td>Mature</td>\n",
       "    </tr>\n",
       "    <tr>\n",
       "      <th>3</th>\n",
       "      <td>Dog</td>\n",
       "      <td>8</td>\n",
       "      <td>February</td>\n",
       "      <td>28859</td>\n",
       "      <td>2</td>\n",
       "      <td>Mature</td>\n",
       "      <td>2012</td>\n",
       "      <td>February</td>\n",
       "      <td>Abandoned</td>\n",
       "      <td>2020</td>\n",
       "      <td>Reclaimed</td>\n",
       "      <td>Female</td>\n",
       "      <td>Mature</td>\n",
       "    </tr>\n",
       "    <tr>\n",
       "      <th>4</th>\n",
       "      <td>Cat</td>\n",
       "      <td>1</td>\n",
       "      <td>January</td>\n",
       "      <td>30812</td>\n",
       "      <td>4</td>\n",
       "      <td>Senior</td>\n",
       "      <td>2013</td>\n",
       "      <td>April</td>\n",
       "      <td>Abandoned</td>\n",
       "      <td>2017</td>\n",
       "      <td>Foster</td>\n",
       "      <td>Female</td>\n",
       "      <td>Mature</td>\n",
       "    </tr>\n",
       "  </tbody>\n",
       "</table>\n",
       "</div>"
      ],
      "text/plain": [
       "  speciesname  intakeMonth intakeMonthR     id  movementMonth DogAgeGroup  \\\n",
       "0         Cat           11     February  15801              5      Senior   \n",
       "1         Dog           12     February  15932              4      Senior   \n",
       "2         Dog            8     February  28859              4      Mature   \n",
       "3         Dog            8     February  28859              2      Mature   \n",
       "4         Cat            1      January  30812              4      Senior   \n",
       "\n",
       "   intakeYear movementDate1R intakereason  movementYear movementtype sexname  \\\n",
       "0        2009            May       Moving          2017     Adoption  Female   \n",
       "1        2009          April       Moving          2017     Adoption    Male   \n",
       "2        2012          April    Abandoned          2017     Adoption  Female   \n",
       "3        2012       February    Abandoned          2020    Reclaimed  Female   \n",
       "4        2013          April    Abandoned          2017       Foster  Female   \n",
       "\n",
       "  CatAgeGroup  \n",
       "0      Senior  \n",
       "1      Mature  \n",
       "2      Mature  \n",
       "3      Mature  \n",
       "4      Mature  "
      ]
     },
     "execution_count": 9,
     "metadata": {},
     "output_type": "execute_result"
    }
   ],
   "source": [
    "pd.set_option('display.max_columns', None)\n",
    "shelter.head()"
   ]
  },
  {
   "cell_type": "markdown",
   "id": "17cae0d0",
   "metadata": {},
   "source": [
    "# data wrangling"
   ]
  },
  {
   "cell_type": "markdown",
   "id": "0beb3260",
   "metadata": {},
   "source": [
    "## create a dictionary to convert movementtype into 'adopted' and 'not adopted'"
   ]
  },
  {
   "cell_type": "code",
   "execution_count": 15,
   "id": "06e1756f",
   "metadata": {},
   "outputs": [
    {
     "data": {
      "text/plain": [
       "0          12874\n",
       "1          11236\n",
       "Escaped        8\n",
       "Name: movementtype, dtype: int64"
      ]
     },
     "execution_count": 15,
     "metadata": {},
     "output_type": "execute_result"
    }
   ],
   "source": [
    "shelter.movementtype.value_counts()"
   ]
  },
  {
   "cell_type": "code",
   "execution_count": 23,
   "id": "e9bcd721",
   "metadata": {},
   "outputs": [],
   "source": [
    "dictionary = {'movementtype':\n",
    "             {\"Adoption\" : 0,\n",
    "             \"Escaped\" : 1,\n",
    "             \"Foster\": 1,\n",
    "             \"Reclaimed\": 1,\n",
    "             \"Released To Wild\": 1,\n",
    "             \"Stolen\": 1,\n",
    "             \"Transfer\": 1,}}\n",
    "shelter.replace(dictionary, inplace = True)"
   ]
  },
  {
   "cell_type": "code",
   "execution_count": 24,
   "id": "989bba7f",
   "metadata": {},
   "outputs": [
    {
     "data": {
      "text/plain": [
       "0    12874\n",
       "1    11244\n",
       "Name: movementtype, dtype: int64"
      ]
     },
     "execution_count": 24,
     "metadata": {},
     "output_type": "execute_result"
    }
   ],
   "source": [
    "shelter.movementtype.value_counts()"
   ]
  },
  {
   "cell_type": "code",
   "execution_count": 25,
   "id": "b4e7b73c",
   "metadata": {},
   "outputs": [
    {
     "data": {
      "text/html": [
       "<div>\n",
       "<style scoped>\n",
       "    .dataframe tbody tr th:only-of-type {\n",
       "        vertical-align: middle;\n",
       "    }\n",
       "\n",
       "    .dataframe tbody tr th {\n",
       "        vertical-align: top;\n",
       "    }\n",
       "\n",
       "    .dataframe thead th {\n",
       "        text-align: right;\n",
       "    }\n",
       "</style>\n",
       "<table border=\"1\" class=\"dataframe\">\n",
       "  <thead>\n",
       "    <tr style=\"text-align: right;\">\n",
       "      <th></th>\n",
       "      <th>speciesname</th>\n",
       "      <th>intakeMonth</th>\n",
       "      <th>intakeMonthR</th>\n",
       "      <th>id</th>\n",
       "      <th>movementMonth</th>\n",
       "      <th>DogAgeGroup</th>\n",
       "      <th>intakeYear</th>\n",
       "      <th>movementDate1R</th>\n",
       "      <th>intakereason</th>\n",
       "      <th>movementYear</th>\n",
       "      <th>movementtype</th>\n",
       "      <th>sexname</th>\n",
       "      <th>CatAgeGroup</th>\n",
       "    </tr>\n",
       "  </thead>\n",
       "  <tbody>\n",
       "    <tr>\n",
       "      <th>0</th>\n",
       "      <td>Cat</td>\n",
       "      <td>11</td>\n",
       "      <td>February</td>\n",
       "      <td>15801</td>\n",
       "      <td>5</td>\n",
       "      <td>Senior</td>\n",
       "      <td>2009</td>\n",
       "      <td>May</td>\n",
       "      <td>Moving</td>\n",
       "      <td>2017</td>\n",
       "      <td>0</td>\n",
       "      <td>Female</td>\n",
       "      <td>Senior</td>\n",
       "    </tr>\n",
       "    <tr>\n",
       "      <th>1</th>\n",
       "      <td>Dog</td>\n",
       "      <td>12</td>\n",
       "      <td>February</td>\n",
       "      <td>15932</td>\n",
       "      <td>4</td>\n",
       "      <td>Senior</td>\n",
       "      <td>2009</td>\n",
       "      <td>April</td>\n",
       "      <td>Moving</td>\n",
       "      <td>2017</td>\n",
       "      <td>0</td>\n",
       "      <td>Male</td>\n",
       "      <td>Mature</td>\n",
       "    </tr>\n",
       "    <tr>\n",
       "      <th>2</th>\n",
       "      <td>Dog</td>\n",
       "      <td>8</td>\n",
       "      <td>February</td>\n",
       "      <td>28859</td>\n",
       "      <td>4</td>\n",
       "      <td>Mature</td>\n",
       "      <td>2012</td>\n",
       "      <td>April</td>\n",
       "      <td>Abandoned</td>\n",
       "      <td>2017</td>\n",
       "      <td>0</td>\n",
       "      <td>Female</td>\n",
       "      <td>Mature</td>\n",
       "    </tr>\n",
       "    <tr>\n",
       "      <th>3</th>\n",
       "      <td>Dog</td>\n",
       "      <td>8</td>\n",
       "      <td>February</td>\n",
       "      <td>28859</td>\n",
       "      <td>2</td>\n",
       "      <td>Mature</td>\n",
       "      <td>2012</td>\n",
       "      <td>February</td>\n",
       "      <td>Abandoned</td>\n",
       "      <td>2020</td>\n",
       "      <td>1</td>\n",
       "      <td>Female</td>\n",
       "      <td>Mature</td>\n",
       "    </tr>\n",
       "    <tr>\n",
       "      <th>4</th>\n",
       "      <td>Cat</td>\n",
       "      <td>1</td>\n",
       "      <td>January</td>\n",
       "      <td>30812</td>\n",
       "      <td>4</td>\n",
       "      <td>Senior</td>\n",
       "      <td>2013</td>\n",
       "      <td>April</td>\n",
       "      <td>Abandoned</td>\n",
       "      <td>2017</td>\n",
       "      <td>1</td>\n",
       "      <td>Female</td>\n",
       "      <td>Mature</td>\n",
       "    </tr>\n",
       "  </tbody>\n",
       "</table>\n",
       "</div>"
      ],
      "text/plain": [
       "  speciesname  intakeMonth intakeMonthR     id  movementMonth DogAgeGroup  \\\n",
       "0         Cat           11     February  15801              5      Senior   \n",
       "1         Dog           12     February  15932              4      Senior   \n",
       "2         Dog            8     February  28859              4      Mature   \n",
       "3         Dog            8     February  28859              2      Mature   \n",
       "4         Cat            1      January  30812              4      Senior   \n",
       "\n",
       "   intakeYear movementDate1R intakereason  movementYear  movementtype sexname  \\\n",
       "0        2009            May       Moving          2017             0  Female   \n",
       "1        2009          April       Moving          2017             0    Male   \n",
       "2        2012          April    Abandoned          2017             0  Female   \n",
       "3        2012       February    Abandoned          2020             1  Female   \n",
       "4        2013          April    Abandoned          2017             1  Female   \n",
       "\n",
       "  CatAgeGroup  \n",
       "0      Senior  \n",
       "1      Mature  \n",
       "2      Mature  \n",
       "3      Mature  \n",
       "4      Mature  "
      ]
     },
     "execution_count": 25,
     "metadata": {},
     "output_type": "execute_result"
    }
   ],
   "source": [
    "shelter.head()"
   ]
  },
  {
   "cell_type": "code",
   "execution_count": 28,
   "id": "07b87558",
   "metadata": {},
   "outputs": [
    {
     "data": {
      "text/plain": [
       "Adult         11200\n",
       "Adolescent     8234\n",
       "Mature         1852\n",
       "Kitten         1399\n",
       "Senior         1050\n",
       "Geriatric       290\n",
       "Unknown          93\n",
       "Name: CatAgeGroup, dtype: int64"
      ]
     },
     "execution_count": 28,
     "metadata": {},
     "output_type": "execute_result"
    }
   ],
   "source": [
    "shelter.CatAgeGroup.value_counts()"
   ]
  },
  {
   "cell_type": "markdown",
   "id": "d7021009",
   "metadata": {},
   "source": [
    "### the unknown variable really should be removed- but I can't figure out how"
   ]
  },
  {
   "cell_type": "markdown",
   "id": "2148b6be",
   "metadata": {},
   "source": [
    "### create a contingency table cats"
   ]
  },
  {
   "cell_type": "code",
   "execution_count": 26,
   "id": "2755a479",
   "metadata": {},
   "outputs": [],
   "source": [
    "shelter_crosstab = pd.crosstab(shelter['CatAgeGroup'], shelter['movementtype'])"
   ]
  },
  {
   "cell_type": "code",
   "execution_count": 27,
   "id": "33c4303b",
   "metadata": {},
   "outputs": [
    {
     "data": {
      "text/html": [
       "<div>\n",
       "<style scoped>\n",
       "    .dataframe tbody tr th:only-of-type {\n",
       "        vertical-align: middle;\n",
       "    }\n",
       "\n",
       "    .dataframe tbody tr th {\n",
       "        vertical-align: top;\n",
       "    }\n",
       "\n",
       "    .dataframe thead th {\n",
       "        text-align: right;\n",
       "    }\n",
       "</style>\n",
       "<table border=\"1\" class=\"dataframe\">\n",
       "  <thead>\n",
       "    <tr style=\"text-align: right;\">\n",
       "      <th>movementtype</th>\n",
       "      <th>0</th>\n",
       "      <th>1</th>\n",
       "    </tr>\n",
       "    <tr>\n",
       "      <th>CatAgeGroup</th>\n",
       "      <th></th>\n",
       "      <th></th>\n",
       "    </tr>\n",
       "  </thead>\n",
       "  <tbody>\n",
       "    <tr>\n",
       "      <th>Adolescent</th>\n",
       "      <td>4345</td>\n",
       "      <td>3889</td>\n",
       "    </tr>\n",
       "    <tr>\n",
       "      <th>Adult</th>\n",
       "      <td>6623</td>\n",
       "      <td>4577</td>\n",
       "    </tr>\n",
       "    <tr>\n",
       "      <th>Geriatric</th>\n",
       "      <td>65</td>\n",
       "      <td>225</td>\n",
       "    </tr>\n",
       "    <tr>\n",
       "      <th>Kitten</th>\n",
       "      <td>532</td>\n",
       "      <td>867</td>\n",
       "    </tr>\n",
       "    <tr>\n",
       "      <th>Mature</th>\n",
       "      <td>952</td>\n",
       "      <td>900</td>\n",
       "    </tr>\n",
       "    <tr>\n",
       "      <th>Senior</th>\n",
       "      <td>356</td>\n",
       "      <td>694</td>\n",
       "    </tr>\n",
       "    <tr>\n",
       "      <th>Unknown</th>\n",
       "      <td>1</td>\n",
       "      <td>92</td>\n",
       "    </tr>\n",
       "  </tbody>\n",
       "</table>\n",
       "</div>"
      ],
      "text/plain": [
       "movementtype     0     1\n",
       "CatAgeGroup             \n",
       "Adolescent    4345  3889\n",
       "Adult         6623  4577\n",
       "Geriatric       65   225\n",
       "Kitten         532   867\n",
       "Mature         952   900\n",
       "Senior         356   694\n",
       "Unknown          1    92"
      ]
     },
     "execution_count": 27,
     "metadata": {},
     "output_type": "execute_result"
    }
   ],
   "source": [
    "shelter_crosstab"
   ]
  },
  {
   "cell_type": "markdown",
   "id": "8dbb8b36",
   "metadata": {},
   "source": [
    "# run the independent chi square for cats"
   ]
  },
  {
   "cell_type": "code",
   "execution_count": 34,
   "id": "4115f648",
   "metadata": {},
   "outputs": [
    {
     "data": {
      "text/plain": [
       "(659.6650187514585,\n",
       " 3.1171058934956828e-139,\n",
       " 6,\n",
       " array([[4395.24487934, 3838.75512066],\n",
       "        [5978.47251016, 5221.52748984],\n",
       "        [ 154.79973464,  135.20026536],\n",
       "        [ 746.77527158,  652.22472842],\n",
       "        [ 988.58313293,  863.41686707],\n",
       "        [ 560.48179783,  489.51820217],\n",
       "        [  49.64267352,   43.35732648]]))"
      ]
     },
     "execution_count": 34,
     "metadata": {},
     "output_type": "execute_result"
    }
   ],
   "source": [
    "stats.chi2_contingency(shelter_crosstab)"
   ]
  },
  {
   "cell_type": "markdown",
   "id": "6ead0387",
   "metadata": {},
   "source": [
    "#### the pvalue is < .05 and there is a significant relationship between age groups and being adopted"
   ]
  },
  {
   "cell_type": "markdown",
   "id": "e68f10ff",
   "metadata": {},
   "source": [
    "# test assumptions of 5 cases per expected cell"
   ]
  },
  {
   "cell_type": "markdown",
   "id": "2d451491",
   "metadata": {},
   "source": [
    "#### all values are oer 5 so the assumption has been met"
   ]
  },
  {
   "cell_type": "code",
   "execution_count": 36,
   "id": "ec379952",
   "metadata": {},
   "outputs": [
    {
     "data": {
      "text/plain": [
       "Adult         10407\n",
       "Adolescent     8234\n",
       "Mature         1887\n",
       "Puppy          1399\n",
       "Senior         1060\n",
       "Geriatric      1038\n",
       "Unknown          93\n",
       "Name: DogAgeGroup, dtype: int64"
      ]
     },
     "execution_count": 36,
     "metadata": {},
     "output_type": "execute_result"
    }
   ],
   "source": [
    "shelter.DogAgeGroup.value_counts()"
   ]
  },
  {
   "cell_type": "markdown",
   "id": "b4562ad1",
   "metadata": {},
   "source": [
    "### again unknown should be removed"
   ]
  },
  {
   "cell_type": "markdown",
   "id": "69d059c8",
   "metadata": {},
   "source": [
    "### create a contigency table dogs"
   ]
  },
  {
   "cell_type": "code",
   "execution_count": 37,
   "id": "2ec9c286",
   "metadata": {},
   "outputs": [],
   "source": [
    "shelter_crosstab = pd.crosstab(shelter['DogAgeGroup'], shelter['movementtype'])"
   ]
  },
  {
   "cell_type": "code",
   "execution_count": 38,
   "id": "359e1fcf",
   "metadata": {},
   "outputs": [
    {
     "data": {
      "text/html": [
       "<div>\n",
       "<style scoped>\n",
       "    .dataframe tbody tr th:only-of-type {\n",
       "        vertical-align: middle;\n",
       "    }\n",
       "\n",
       "    .dataframe tbody tr th {\n",
       "        vertical-align: top;\n",
       "    }\n",
       "\n",
       "    .dataframe thead th {\n",
       "        text-align: right;\n",
       "    }\n",
       "</style>\n",
       "<table border=\"1\" class=\"dataframe\">\n",
       "  <thead>\n",
       "    <tr style=\"text-align: right;\">\n",
       "      <th>movementtype</th>\n",
       "      <th>0</th>\n",
       "      <th>1</th>\n",
       "    </tr>\n",
       "    <tr>\n",
       "      <th>DogAgeGroup</th>\n",
       "      <th></th>\n",
       "      <th></th>\n",
       "    </tr>\n",
       "  </thead>\n",
       "  <tbody>\n",
       "    <tr>\n",
       "      <th>Adolescent</th>\n",
       "      <td>4345</td>\n",
       "      <td>3889</td>\n",
       "    </tr>\n",
       "    <tr>\n",
       "      <th>Adult</th>\n",
       "      <td>6184</td>\n",
       "      <td>4223</td>\n",
       "    </tr>\n",
       "    <tr>\n",
       "      <th>Geriatric</th>\n",
       "      <td>287</td>\n",
       "      <td>751</td>\n",
       "    </tr>\n",
       "    <tr>\n",
       "      <th>Mature</th>\n",
       "      <td>1026</td>\n",
       "      <td>861</td>\n",
       "    </tr>\n",
       "    <tr>\n",
       "      <th>Puppy</th>\n",
       "      <td>532</td>\n",
       "      <td>867</td>\n",
       "    </tr>\n",
       "    <tr>\n",
       "      <th>Senior</th>\n",
       "      <td>499</td>\n",
       "      <td>561</td>\n",
       "    </tr>\n",
       "    <tr>\n",
       "      <th>Unknown</th>\n",
       "      <td>1</td>\n",
       "      <td>92</td>\n",
       "    </tr>\n",
       "  </tbody>\n",
       "</table>\n",
       "</div>"
      ],
      "text/plain": [
       "movementtype     0     1\n",
       "DogAgeGroup             \n",
       "Adolescent    4345  3889\n",
       "Adult         6184  4223\n",
       "Geriatric      287   751\n",
       "Mature        1026   861\n",
       "Puppy          532   867\n",
       "Senior         499   561\n",
       "Unknown          1    92"
      ]
     },
     "execution_count": 38,
     "metadata": {},
     "output_type": "execute_result"
    }
   ],
   "source": [
    "shelter_crosstab"
   ]
  },
  {
   "cell_type": "markdown",
   "id": "8a77e96c",
   "metadata": {},
   "source": [
    "# run the Independent Chi Square for dogs"
   ]
  },
  {
   "cell_type": "code",
   "execution_count": 39,
   "id": "60c42819",
   "metadata": {},
   "outputs": [
    {
     "data": {
      "text/plain": [
       "(682.450282115378,\n",
       " 3.761851839148993e-144,\n",
       " 6,\n",
       " array([[4395.24487934, 3838.75512066],\n",
       "        [5555.17530475, 4851.82469525],\n",
       "        [ 554.07629157,  483.92370843],\n",
       "        [1007.26585952,  879.73414048],\n",
       "        [ 746.77527158,  652.22472842],\n",
       "        [ 565.81971971,  494.18028029],\n",
       "        [  49.64267352,   43.35732648]]))"
      ]
     },
     "execution_count": 39,
     "metadata": {},
     "output_type": "execute_result"
    }
   ],
   "source": [
    "stats.chi2_contingency(shelter_crosstab)"
   ]
  },
  {
   "cell_type": "markdown",
   "id": "526c00e6",
   "metadata": {},
   "source": [
    "#### pvalue is <0.05 and there is a significant relationship between animal age and being adopted"
   ]
  },
  {
   "cell_type": "markdown",
   "id": "06e6ad62",
   "metadata": {},
   "source": [
    "# "
   ]
  }
 ],
 "metadata": {
  "kernelspec": {
   "display_name": "Python 3",
   "language": "python",
   "name": "python3"
  },
  "language_info": {
   "codemirror_mode": {
    "name": "ipython",
    "version": 3
   },
   "file_extension": ".py",
   "mimetype": "text/x-python",
   "name": "python",
   "nbconvert_exporter": "python",
   "pygments_lexer": "ipython3",
   "version": "3.8.8"
  }
 },
 "nbformat": 4,
 "nbformat_minor": 5
}
