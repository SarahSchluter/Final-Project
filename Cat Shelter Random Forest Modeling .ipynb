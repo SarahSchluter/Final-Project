{
 "cells": [
  {
   "cell_type": "markdown",
   "id": "e918018a",
   "metadata": {},
   "source": [
    "# import packages"
   ]
  },
  {
   "cell_type": "code",
   "execution_count": 1,
   "id": "143da2ab",
   "metadata": {},
   "outputs": [],
   "source": [
    "import pandas as pd\n",
    "import numpy as np\n",
    "import matplotlib.pyplot as plt\n",
    "from pylab import *\n",
    "import seaborn as sns\n",
    "%matplotlib inline\n",
    "import statsmodels.api as sm\n",
    "import statsmodels.stats.api as sms\n",
    "from scipy.stats import boxcox\n"
   ]
  },
  {
   "cell_type": "markdown",
   "id": "c83d0f0c",
   "metadata": {},
   "source": [
    "# import data"
   ]
  },
  {
   "cell_type": "code",
   "execution_count": 2,
   "id": "89e5ea6f",
   "metadata": {},
   "outputs": [],
   "source": [
    "shelter = pd.read_csv(r'C:\\Users\\hazre\\OneDrive\\OneNote\\GitHub\\Final-Project\\shelter.csv')"
   ]
  },
  {
   "cell_type": "markdown",
   "id": "f523b0e3",
   "metadata": {},
   "source": [
    "### check it"
   ]
  },
  {
   "cell_type": "code",
   "execution_count": 3,
   "id": "ce8b51db",
   "metadata": {},
   "outputs": [
    {
     "data": {
      "text/html": [
       "<div>\n",
       "<style scoped>\n",
       "    .dataframe tbody tr th:only-of-type {\n",
       "        vertical-align: middle;\n",
       "    }\n",
       "\n",
       "    .dataframe tbody tr th {\n",
       "        vertical-align: top;\n",
       "    }\n",
       "\n",
       "    .dataframe thead th {\n",
       "        text-align: right;\n",
       "    }\n",
       "</style>\n",
       "<table border=\"1\" class=\"dataframe\">\n",
       "  <thead>\n",
       "    <tr style=\"text-align: right;\">\n",
       "      <th></th>\n",
       "      <th>id</th>\n",
       "      <th>intakereason</th>\n",
       "      <th>breedname</th>\n",
       "      <th>speciesname</th>\n",
       "      <th>sexname</th>\n",
       "      <th>movementtype</th>\n",
       "      <th>intakeDate</th>\n",
       "      <th>movementDate</th>\n",
       "      <th>CatAgeGroup</th>\n",
       "      <th>DogAgeGroup</th>\n",
       "      <th>movementMonth</th>\n",
       "      <th>movementDay</th>\n",
       "      <th>movementYear</th>\n",
       "      <th>intakeMonth</th>\n",
       "      <th>intakeDay</th>\n",
       "      <th>intakeYear</th>\n",
       "    </tr>\n",
       "  </thead>\n",
       "  <tbody>\n",
       "    <tr>\n",
       "      <th>0</th>\n",
       "      <td>15801</td>\n",
       "      <td>Moving</td>\n",
       "      <td>Domestic Short Hair</td>\n",
       "      <td>Cat</td>\n",
       "      <td>Female</td>\n",
       "      <td>Adoption</td>\n",
       "      <td>11/28/2009</td>\n",
       "      <td>05/13/2017</td>\n",
       "      <td>Senior</td>\n",
       "      <td>Senior</td>\n",
       "      <td>5</td>\n",
       "      <td>13</td>\n",
       "      <td>2017</td>\n",
       "      <td>11</td>\n",
       "      <td>28</td>\n",
       "      <td>2009</td>\n",
       "    </tr>\n",
       "    <tr>\n",
       "      <th>1</th>\n",
       "      <td>15932</td>\n",
       "      <td>Moving</td>\n",
       "      <td>German Shepherd Dog/Mix</td>\n",
       "      <td>Dog</td>\n",
       "      <td>Male</td>\n",
       "      <td>Adoption</td>\n",
       "      <td>12/08/2009</td>\n",
       "      <td>04/24/2017</td>\n",
       "      <td>Mature</td>\n",
       "      <td>Senior</td>\n",
       "      <td>4</td>\n",
       "      <td>24</td>\n",
       "      <td>2017</td>\n",
       "      <td>12</td>\n",
       "      <td>8</td>\n",
       "      <td>2009</td>\n",
       "    </tr>\n",
       "    <tr>\n",
       "      <th>2</th>\n",
       "      <td>28859</td>\n",
       "      <td>Abandoned</td>\n",
       "      <td>Shep Mix/Siberian Husky</td>\n",
       "      <td>Dog</td>\n",
       "      <td>Female</td>\n",
       "      <td>Adoption</td>\n",
       "      <td>08/10/2012</td>\n",
       "      <td>04/15/2017</td>\n",
       "      <td>Mature</td>\n",
       "      <td>Mature</td>\n",
       "      <td>4</td>\n",
       "      <td>15</td>\n",
       "      <td>2017</td>\n",
       "      <td>8</td>\n",
       "      <td>10</td>\n",
       "      <td>2012</td>\n",
       "    </tr>\n",
       "    <tr>\n",
       "      <th>3</th>\n",
       "      <td>28859</td>\n",
       "      <td>Abandoned</td>\n",
       "      <td>Shep Mix/Siberian Husky</td>\n",
       "      <td>Dog</td>\n",
       "      <td>Female</td>\n",
       "      <td>Reclaimed</td>\n",
       "      <td>08/10/2012</td>\n",
       "      <td>02/29/2020</td>\n",
       "      <td>Mature</td>\n",
       "      <td>Mature</td>\n",
       "      <td>2</td>\n",
       "      <td>29</td>\n",
       "      <td>2020</td>\n",
       "      <td>8</td>\n",
       "      <td>10</td>\n",
       "      <td>2012</td>\n",
       "    </tr>\n",
       "    <tr>\n",
       "      <th>4</th>\n",
       "      <td>30812</td>\n",
       "      <td>Abandoned</td>\n",
       "      <td>Domestic Short Hair</td>\n",
       "      <td>Cat</td>\n",
       "      <td>Female</td>\n",
       "      <td>Foster</td>\n",
       "      <td>01/11/2013</td>\n",
       "      <td>04/18/2017</td>\n",
       "      <td>Mature</td>\n",
       "      <td>Senior</td>\n",
       "      <td>4</td>\n",
       "      <td>18</td>\n",
       "      <td>2017</td>\n",
       "      <td>1</td>\n",
       "      <td>11</td>\n",
       "      <td>2013</td>\n",
       "    </tr>\n",
       "    <tr>\n",
       "      <th>...</th>\n",
       "      <td>...</td>\n",
       "      <td>...</td>\n",
       "      <td>...</td>\n",
       "      <td>...</td>\n",
       "      <td>...</td>\n",
       "      <td>...</td>\n",
       "      <td>...</td>\n",
       "      <td>...</td>\n",
       "      <td>...</td>\n",
       "      <td>...</td>\n",
       "      <td>...</td>\n",
       "      <td>...</td>\n",
       "      <td>...</td>\n",
       "      <td>...</td>\n",
       "      <td>...</td>\n",
       "      <td>...</td>\n",
       "    </tr>\n",
       "    <tr>\n",
       "      <th>18059</th>\n",
       "      <td>72252</td>\n",
       "      <td>Stray</td>\n",
       "      <td>Beagle</td>\n",
       "      <td>Dog</td>\n",
       "      <td>Female</td>\n",
       "      <td>Reclaimed</td>\n",
       "      <td>01/15/2022</td>\n",
       "      <td>01/16/2022</td>\n",
       "      <td>Geriatric</td>\n",
       "      <td>Geriatric</td>\n",
       "      <td>1</td>\n",
       "      <td>16</td>\n",
       "      <td>2022</td>\n",
       "      <td>1</td>\n",
       "      <td>15</td>\n",
       "      <td>2022</td>\n",
       "    </tr>\n",
       "    <tr>\n",
       "      <th>18060</th>\n",
       "      <td>72253</td>\n",
       "      <td>Owner requested Euthanasia</td>\n",
       "      <td>Chihuahua</td>\n",
       "      <td>Dog</td>\n",
       "      <td>Female</td>\n",
       "      <td>Foster</td>\n",
       "      <td>01/15/2022</td>\n",
       "      <td>01/20/2022</td>\n",
       "      <td>Geriatric</td>\n",
       "      <td>Geriatric</td>\n",
       "      <td>1</td>\n",
       "      <td>20</td>\n",
       "      <td>2022</td>\n",
       "      <td>1</td>\n",
       "      <td>15</td>\n",
       "      <td>2022</td>\n",
       "    </tr>\n",
       "    <tr>\n",
       "      <th>18061</th>\n",
       "      <td>72253</td>\n",
       "      <td>Owner requested Euthanasia</td>\n",
       "      <td>Chihuahua</td>\n",
       "      <td>Dog</td>\n",
       "      <td>Female</td>\n",
       "      <td>Adoption</td>\n",
       "      <td>01/15/2022</td>\n",
       "      <td>01/24/2022</td>\n",
       "      <td>Geriatric</td>\n",
       "      <td>Geriatric</td>\n",
       "      <td>1</td>\n",
       "      <td>24</td>\n",
       "      <td>2022</td>\n",
       "      <td>1</td>\n",
       "      <td>15</td>\n",
       "      <td>2022</td>\n",
       "    </tr>\n",
       "    <tr>\n",
       "      <th>18062</th>\n",
       "      <td>72260</td>\n",
       "      <td>Moving</td>\n",
       "      <td>Domestic Short Hair</td>\n",
       "      <td>Cat</td>\n",
       "      <td>Female</td>\n",
       "      <td>Transfer</td>\n",
       "      <td>01/18/2022</td>\n",
       "      <td>01/19/2022</td>\n",
       "      <td>Adult</td>\n",
       "      <td>Adult</td>\n",
       "      <td>1</td>\n",
       "      <td>19</td>\n",
       "      <td>2022</td>\n",
       "      <td>1</td>\n",
       "      <td>18</td>\n",
       "      <td>2022</td>\n",
       "    </tr>\n",
       "    <tr>\n",
       "      <th>18063</th>\n",
       "      <td>72285</td>\n",
       "      <td>Landlord issues</td>\n",
       "      <td>Shih Tzu</td>\n",
       "      <td>Dog</td>\n",
       "      <td>Male</td>\n",
       "      <td>Foster</td>\n",
       "      <td>01/20/2022</td>\n",
       "      <td>01/20/2022</td>\n",
       "      <td>Adolescent</td>\n",
       "      <td>Adolescent</td>\n",
       "      <td>1</td>\n",
       "      <td>20</td>\n",
       "      <td>2022</td>\n",
       "      <td>1</td>\n",
       "      <td>20</td>\n",
       "      <td>2022</td>\n",
       "    </tr>\n",
       "  </tbody>\n",
       "</table>\n",
       "<p>18064 rows × 16 columns</p>\n",
       "</div>"
      ],
      "text/plain": [
       "          id                intakereason                breedname speciesname  \\\n",
       "0      15801                      Moving      Domestic Short Hair         Cat   \n",
       "1      15932                      Moving  German Shepherd Dog/Mix         Dog   \n",
       "2      28859                   Abandoned  Shep Mix/Siberian Husky         Dog   \n",
       "3      28859                   Abandoned  Shep Mix/Siberian Husky         Dog   \n",
       "4      30812                   Abandoned      Domestic Short Hair         Cat   \n",
       "...      ...                         ...                      ...         ...   \n",
       "18059  72252                       Stray                   Beagle         Dog   \n",
       "18060  72253  Owner requested Euthanasia                Chihuahua         Dog   \n",
       "18061  72253  Owner requested Euthanasia                Chihuahua         Dog   \n",
       "18062  72260                      Moving      Domestic Short Hair         Cat   \n",
       "18063  72285             Landlord issues                 Shih Tzu         Dog   \n",
       "\n",
       "      sexname movementtype  intakeDate movementDate CatAgeGroup DogAgeGroup  \\\n",
       "0      Female     Adoption  11/28/2009   05/13/2017      Senior      Senior   \n",
       "1        Male     Adoption  12/08/2009   04/24/2017      Mature      Senior   \n",
       "2      Female     Adoption  08/10/2012   04/15/2017      Mature      Mature   \n",
       "3      Female    Reclaimed  08/10/2012   02/29/2020      Mature      Mature   \n",
       "4      Female       Foster  01/11/2013   04/18/2017      Mature      Senior   \n",
       "...       ...          ...         ...          ...         ...         ...   \n",
       "18059  Female    Reclaimed  01/15/2022   01/16/2022   Geriatric   Geriatric   \n",
       "18060  Female       Foster  01/15/2022   01/20/2022   Geriatric   Geriatric   \n",
       "18061  Female     Adoption  01/15/2022   01/24/2022   Geriatric   Geriatric   \n",
       "18062  Female     Transfer  01/18/2022   01/19/2022       Adult       Adult   \n",
       "18063    Male       Foster  01/20/2022   01/20/2022  Adolescent  Adolescent   \n",
       "\n",
       "       movementMonth  movementDay  movementYear  intakeMonth  intakeDay  \\\n",
       "0                  5           13          2017           11         28   \n",
       "1                  4           24          2017           12          8   \n",
       "2                  4           15          2017            8         10   \n",
       "3                  2           29          2020            8         10   \n",
       "4                  4           18          2017            1         11   \n",
       "...              ...          ...           ...          ...        ...   \n",
       "18059              1           16          2022            1         15   \n",
       "18060              1           20          2022            1         15   \n",
       "18061              1           24          2022            1         15   \n",
       "18062              1           19          2022            1         18   \n",
       "18063              1           20          2022            1         20   \n",
       "\n",
       "       intakeYear  \n",
       "0            2009  \n",
       "1            2009  \n",
       "2            2012  \n",
       "3            2012  \n",
       "4            2013  \n",
       "...           ...  \n",
       "18059        2022  \n",
       "18060        2022  \n",
       "18061        2022  \n",
       "18062        2022  \n",
       "18063        2022  \n",
       "\n",
       "[18064 rows x 16 columns]"
      ]
     },
     "execution_count": 3,
     "metadata": {},
     "output_type": "execute_result"
    }
   ],
   "source": [
    "shelter"
   ]
  },
  {
   "cell_type": "markdown",
   "id": "6cdd5d0d",
   "metadata": {},
   "source": [
    "# predict cat adoptions"
   ]
  },
  {
   "cell_type": "markdown",
   "id": "23617fea",
   "metadata": {},
   "source": [
    "# data wrangling"
   ]
  },
  {
   "cell_type": "markdown",
   "id": "e0d67d97",
   "metadata": {},
   "source": [
    "# create df with only the columns I want"
   ]
  },
  {
   "cell_type": "code",
   "execution_count": 4,
   "id": "277dce27",
   "metadata": {},
   "outputs": [
    {
     "data": {
      "text/plain": [
       "Index(['id', 'intakereason', 'breedname', 'speciesname', 'sexname',\n",
       "       'movementtype', 'intakeDate', 'movementDate', 'CatAgeGroup',\n",
       "       'DogAgeGroup', 'movementMonth', 'movementDay', 'movementYear',\n",
       "       'intakeMonth', 'intakeDay', 'intakeYear'],\n",
       "      dtype='object')"
      ]
     },
     "execution_count": 4,
     "metadata": {},
     "output_type": "execute_result"
    }
   ],
   "source": [
    "shelter.columns"
   ]
  },
  {
   "cell_type": "code",
   "execution_count": 5,
   "id": "1401e3bf",
   "metadata": {},
   "outputs": [],
   "source": [
    "shelter1 = shelter[{'sexname', 'movementtype', 'CatAgeGroup', 'movementMonth' }]"
   ]
  },
  {
   "cell_type": "code",
   "execution_count": 6,
   "id": "5ae0e861",
   "metadata": {},
   "outputs": [
    {
     "data": {
      "text/html": [
       "<div>\n",
       "<style scoped>\n",
       "    .dataframe tbody tr th:only-of-type {\n",
       "        vertical-align: middle;\n",
       "    }\n",
       "\n",
       "    .dataframe tbody tr th {\n",
       "        vertical-align: top;\n",
       "    }\n",
       "\n",
       "    .dataframe thead th {\n",
       "        text-align: right;\n",
       "    }\n",
       "</style>\n",
       "<table border=\"1\" class=\"dataframe\">\n",
       "  <thead>\n",
       "    <tr style=\"text-align: right;\">\n",
       "      <th></th>\n",
       "      <th>movementtype</th>\n",
       "      <th>movementMonth</th>\n",
       "      <th>CatAgeGroup</th>\n",
       "      <th>sexname</th>\n",
       "    </tr>\n",
       "  </thead>\n",
       "  <tbody>\n",
       "    <tr>\n",
       "      <th>0</th>\n",
       "      <td>Adoption</td>\n",
       "      <td>5</td>\n",
       "      <td>Senior</td>\n",
       "      <td>Female</td>\n",
       "    </tr>\n",
       "    <tr>\n",
       "      <th>1</th>\n",
       "      <td>Adoption</td>\n",
       "      <td>4</td>\n",
       "      <td>Mature</td>\n",
       "      <td>Male</td>\n",
       "    </tr>\n",
       "    <tr>\n",
       "      <th>2</th>\n",
       "      <td>Adoption</td>\n",
       "      <td>4</td>\n",
       "      <td>Mature</td>\n",
       "      <td>Female</td>\n",
       "    </tr>\n",
       "    <tr>\n",
       "      <th>3</th>\n",
       "      <td>Reclaimed</td>\n",
       "      <td>2</td>\n",
       "      <td>Mature</td>\n",
       "      <td>Female</td>\n",
       "    </tr>\n",
       "    <tr>\n",
       "      <th>4</th>\n",
       "      <td>Foster</td>\n",
       "      <td>4</td>\n",
       "      <td>Mature</td>\n",
       "      <td>Female</td>\n",
       "    </tr>\n",
       "    <tr>\n",
       "      <th>...</th>\n",
       "      <td>...</td>\n",
       "      <td>...</td>\n",
       "      <td>...</td>\n",
       "      <td>...</td>\n",
       "    </tr>\n",
       "    <tr>\n",
       "      <th>18059</th>\n",
       "      <td>Reclaimed</td>\n",
       "      <td>1</td>\n",
       "      <td>Geriatric</td>\n",
       "      <td>Female</td>\n",
       "    </tr>\n",
       "    <tr>\n",
       "      <th>18060</th>\n",
       "      <td>Foster</td>\n",
       "      <td>1</td>\n",
       "      <td>Geriatric</td>\n",
       "      <td>Female</td>\n",
       "    </tr>\n",
       "    <tr>\n",
       "      <th>18061</th>\n",
       "      <td>Adoption</td>\n",
       "      <td>1</td>\n",
       "      <td>Geriatric</td>\n",
       "      <td>Female</td>\n",
       "    </tr>\n",
       "    <tr>\n",
       "      <th>18062</th>\n",
       "      <td>Transfer</td>\n",
       "      <td>1</td>\n",
       "      <td>Adult</td>\n",
       "      <td>Female</td>\n",
       "    </tr>\n",
       "    <tr>\n",
       "      <th>18063</th>\n",
       "      <td>Foster</td>\n",
       "      <td>1</td>\n",
       "      <td>Adolescent</td>\n",
       "      <td>Male</td>\n",
       "    </tr>\n",
       "  </tbody>\n",
       "</table>\n",
       "<p>18064 rows × 4 columns</p>\n",
       "</div>"
      ],
      "text/plain": [
       "      movementtype  movementMonth CatAgeGroup sexname\n",
       "0         Adoption              5      Senior  Female\n",
       "1         Adoption              4      Mature    Male\n",
       "2         Adoption              4      Mature  Female\n",
       "3        Reclaimed              2      Mature  Female\n",
       "4           Foster              4      Mature  Female\n",
       "...            ...            ...         ...     ...\n",
       "18059    Reclaimed              1   Geriatric  Female\n",
       "18060       Foster              1   Geriatric  Female\n",
       "18061     Adoption              1   Geriatric  Female\n",
       "18062     Transfer              1       Adult  Female\n",
       "18063       Foster              1  Adolescent    Male\n",
       "\n",
       "[18064 rows x 4 columns]"
      ]
     },
     "execution_count": 6,
     "metadata": {},
     "output_type": "execute_result"
    }
   ],
   "source": [
    "shelter1"
   ]
  },
  {
   "cell_type": "markdown",
   "id": "15ef6ca2",
   "metadata": {},
   "source": [
    "# create new columns for CatAgeGroup"
   ]
  },
  {
   "cell_type": "code",
   "execution_count": 7,
   "id": "c93ba9ff",
   "metadata": {},
   "outputs": [
    {
     "data": {
      "text/plain": [
       "Adult         8210\n",
       "Adolescent    6388\n",
       "Mature        1405\n",
       "Kitten        1077\n",
       "Senior         760\n",
       "Geriatric      224\n",
       "Name: CatAgeGroup, dtype: int64"
      ]
     },
     "execution_count": 7,
     "metadata": {},
     "output_type": "execute_result"
    }
   ],
   "source": [
    "shelter1.CatAgeGroup.value_counts()"
   ]
  },
  {
   "cell_type": "code",
   "execution_count": 8,
   "id": "b7f573f9",
   "metadata": {},
   "outputs": [
    {
     "data": {
      "text/html": [
       "<div>\n",
       "<style scoped>\n",
       "    .dataframe tbody tr th:only-of-type {\n",
       "        vertical-align: middle;\n",
       "    }\n",
       "\n",
       "    .dataframe tbody tr th {\n",
       "        vertical-align: top;\n",
       "    }\n",
       "\n",
       "    .dataframe thead th {\n",
       "        text-align: right;\n",
       "    }\n",
       "</style>\n",
       "<table border=\"1\" class=\"dataframe\">\n",
       "  <thead>\n",
       "    <tr style=\"text-align: right;\">\n",
       "      <th></th>\n",
       "      <th>Adolescent</th>\n",
       "      <th>Adult</th>\n",
       "      <th>Geriatric</th>\n",
       "      <th>Kitten</th>\n",
       "      <th>Mature</th>\n",
       "      <th>Senior</th>\n",
       "    </tr>\n",
       "  </thead>\n",
       "  <tbody>\n",
       "    <tr>\n",
       "      <th>0</th>\n",
       "      <td>0</td>\n",
       "      <td>0</td>\n",
       "      <td>0</td>\n",
       "      <td>0</td>\n",
       "      <td>0</td>\n",
       "      <td>1</td>\n",
       "    </tr>\n",
       "    <tr>\n",
       "      <th>1</th>\n",
       "      <td>0</td>\n",
       "      <td>0</td>\n",
       "      <td>0</td>\n",
       "      <td>0</td>\n",
       "      <td>1</td>\n",
       "      <td>0</td>\n",
       "    </tr>\n",
       "    <tr>\n",
       "      <th>2</th>\n",
       "      <td>0</td>\n",
       "      <td>0</td>\n",
       "      <td>0</td>\n",
       "      <td>0</td>\n",
       "      <td>1</td>\n",
       "      <td>0</td>\n",
       "    </tr>\n",
       "    <tr>\n",
       "      <th>3</th>\n",
       "      <td>0</td>\n",
       "      <td>0</td>\n",
       "      <td>0</td>\n",
       "      <td>0</td>\n",
       "      <td>1</td>\n",
       "      <td>0</td>\n",
       "    </tr>\n",
       "    <tr>\n",
       "      <th>4</th>\n",
       "      <td>0</td>\n",
       "      <td>0</td>\n",
       "      <td>0</td>\n",
       "      <td>0</td>\n",
       "      <td>1</td>\n",
       "      <td>0</td>\n",
       "    </tr>\n",
       "    <tr>\n",
       "      <th>...</th>\n",
       "      <td>...</td>\n",
       "      <td>...</td>\n",
       "      <td>...</td>\n",
       "      <td>...</td>\n",
       "      <td>...</td>\n",
       "      <td>...</td>\n",
       "    </tr>\n",
       "    <tr>\n",
       "      <th>18059</th>\n",
       "      <td>0</td>\n",
       "      <td>0</td>\n",
       "      <td>1</td>\n",
       "      <td>0</td>\n",
       "      <td>0</td>\n",
       "      <td>0</td>\n",
       "    </tr>\n",
       "    <tr>\n",
       "      <th>18060</th>\n",
       "      <td>0</td>\n",
       "      <td>0</td>\n",
       "      <td>1</td>\n",
       "      <td>0</td>\n",
       "      <td>0</td>\n",
       "      <td>0</td>\n",
       "    </tr>\n",
       "    <tr>\n",
       "      <th>18061</th>\n",
       "      <td>0</td>\n",
       "      <td>0</td>\n",
       "      <td>1</td>\n",
       "      <td>0</td>\n",
       "      <td>0</td>\n",
       "      <td>0</td>\n",
       "    </tr>\n",
       "    <tr>\n",
       "      <th>18062</th>\n",
       "      <td>0</td>\n",
       "      <td>1</td>\n",
       "      <td>0</td>\n",
       "      <td>0</td>\n",
       "      <td>0</td>\n",
       "      <td>0</td>\n",
       "    </tr>\n",
       "    <tr>\n",
       "      <th>18063</th>\n",
       "      <td>1</td>\n",
       "      <td>0</td>\n",
       "      <td>0</td>\n",
       "      <td>0</td>\n",
       "      <td>0</td>\n",
       "      <td>0</td>\n",
       "    </tr>\n",
       "  </tbody>\n",
       "</table>\n",
       "<p>18064 rows × 6 columns</p>\n",
       "</div>"
      ],
      "text/plain": [
       "       Adolescent  Adult  Geriatric  Kitten  Mature  Senior\n",
       "0               0      0          0       0       0       1\n",
       "1               0      0          0       0       1       0\n",
       "2               0      0          0       0       1       0\n",
       "3               0      0          0       0       1       0\n",
       "4               0      0          0       0       1       0\n",
       "...           ...    ...        ...     ...     ...     ...\n",
       "18059           0      0          1       0       0       0\n",
       "18060           0      0          1       0       0       0\n",
       "18061           0      0          1       0       0       0\n",
       "18062           0      1          0       0       0       0\n",
       "18063           1      0          0       0       0       0\n",
       "\n",
       "[18064 rows x 6 columns]"
      ]
     },
     "execution_count": 8,
     "metadata": {},
     "output_type": "execute_result"
    }
   ],
   "source": [
    "dummy_ages = pd.get_dummies(shelter1['CatAgeGroup'])\n",
    "dummy_ages"
   ]
  },
  {
   "cell_type": "markdown",
   "id": "6f8362d0",
   "metadata": {},
   "source": [
    "## merge dummy code with data"
   ]
  },
  {
   "cell_type": "code",
   "execution_count": 9,
   "id": "c192f2f7",
   "metadata": {},
   "outputs": [],
   "source": [
    "shelter2 = pd.concat([shelter1, dummy_ages], axis = 1)"
   ]
  },
  {
   "cell_type": "code",
   "execution_count": 10,
   "id": "f42ac765",
   "metadata": {},
   "outputs": [
    {
     "data": {
      "text/html": [
       "<div>\n",
       "<style scoped>\n",
       "    .dataframe tbody tr th:only-of-type {\n",
       "        vertical-align: middle;\n",
       "    }\n",
       "\n",
       "    .dataframe tbody tr th {\n",
       "        vertical-align: top;\n",
       "    }\n",
       "\n",
       "    .dataframe thead th {\n",
       "        text-align: right;\n",
       "    }\n",
       "</style>\n",
       "<table border=\"1\" class=\"dataframe\">\n",
       "  <thead>\n",
       "    <tr style=\"text-align: right;\">\n",
       "      <th></th>\n",
       "      <th>movementtype</th>\n",
       "      <th>movementMonth</th>\n",
       "      <th>CatAgeGroup</th>\n",
       "      <th>sexname</th>\n",
       "      <th>Adolescent</th>\n",
       "      <th>Adult</th>\n",
       "      <th>Geriatric</th>\n",
       "      <th>Kitten</th>\n",
       "      <th>Mature</th>\n",
       "      <th>Senior</th>\n",
       "    </tr>\n",
       "  </thead>\n",
       "  <tbody>\n",
       "    <tr>\n",
       "      <th>0</th>\n",
       "      <td>Adoption</td>\n",
       "      <td>5</td>\n",
       "      <td>Senior</td>\n",
       "      <td>Female</td>\n",
       "      <td>0</td>\n",
       "      <td>0</td>\n",
       "      <td>0</td>\n",
       "      <td>0</td>\n",
       "      <td>0</td>\n",
       "      <td>1</td>\n",
       "    </tr>\n",
       "    <tr>\n",
       "      <th>1</th>\n",
       "      <td>Adoption</td>\n",
       "      <td>4</td>\n",
       "      <td>Mature</td>\n",
       "      <td>Male</td>\n",
       "      <td>0</td>\n",
       "      <td>0</td>\n",
       "      <td>0</td>\n",
       "      <td>0</td>\n",
       "      <td>1</td>\n",
       "      <td>0</td>\n",
       "    </tr>\n",
       "    <tr>\n",
       "      <th>2</th>\n",
       "      <td>Adoption</td>\n",
       "      <td>4</td>\n",
       "      <td>Mature</td>\n",
       "      <td>Female</td>\n",
       "      <td>0</td>\n",
       "      <td>0</td>\n",
       "      <td>0</td>\n",
       "      <td>0</td>\n",
       "      <td>1</td>\n",
       "      <td>0</td>\n",
       "    </tr>\n",
       "    <tr>\n",
       "      <th>3</th>\n",
       "      <td>Reclaimed</td>\n",
       "      <td>2</td>\n",
       "      <td>Mature</td>\n",
       "      <td>Female</td>\n",
       "      <td>0</td>\n",
       "      <td>0</td>\n",
       "      <td>0</td>\n",
       "      <td>0</td>\n",
       "      <td>1</td>\n",
       "      <td>0</td>\n",
       "    </tr>\n",
       "    <tr>\n",
       "      <th>4</th>\n",
       "      <td>Foster</td>\n",
       "      <td>4</td>\n",
       "      <td>Mature</td>\n",
       "      <td>Female</td>\n",
       "      <td>0</td>\n",
       "      <td>0</td>\n",
       "      <td>0</td>\n",
       "      <td>0</td>\n",
       "      <td>1</td>\n",
       "      <td>0</td>\n",
       "    </tr>\n",
       "    <tr>\n",
       "      <th>...</th>\n",
       "      <td>...</td>\n",
       "      <td>...</td>\n",
       "      <td>...</td>\n",
       "      <td>...</td>\n",
       "      <td>...</td>\n",
       "      <td>...</td>\n",
       "      <td>...</td>\n",
       "      <td>...</td>\n",
       "      <td>...</td>\n",
       "      <td>...</td>\n",
       "    </tr>\n",
       "    <tr>\n",
       "      <th>18059</th>\n",
       "      <td>Reclaimed</td>\n",
       "      <td>1</td>\n",
       "      <td>Geriatric</td>\n",
       "      <td>Female</td>\n",
       "      <td>0</td>\n",
       "      <td>0</td>\n",
       "      <td>1</td>\n",
       "      <td>0</td>\n",
       "      <td>0</td>\n",
       "      <td>0</td>\n",
       "    </tr>\n",
       "    <tr>\n",
       "      <th>18060</th>\n",
       "      <td>Foster</td>\n",
       "      <td>1</td>\n",
       "      <td>Geriatric</td>\n",
       "      <td>Female</td>\n",
       "      <td>0</td>\n",
       "      <td>0</td>\n",
       "      <td>1</td>\n",
       "      <td>0</td>\n",
       "      <td>0</td>\n",
       "      <td>0</td>\n",
       "    </tr>\n",
       "    <tr>\n",
       "      <th>18061</th>\n",
       "      <td>Adoption</td>\n",
       "      <td>1</td>\n",
       "      <td>Geriatric</td>\n",
       "      <td>Female</td>\n",
       "      <td>0</td>\n",
       "      <td>0</td>\n",
       "      <td>1</td>\n",
       "      <td>0</td>\n",
       "      <td>0</td>\n",
       "      <td>0</td>\n",
       "    </tr>\n",
       "    <tr>\n",
       "      <th>18062</th>\n",
       "      <td>Transfer</td>\n",
       "      <td>1</td>\n",
       "      <td>Adult</td>\n",
       "      <td>Female</td>\n",
       "      <td>0</td>\n",
       "      <td>1</td>\n",
       "      <td>0</td>\n",
       "      <td>0</td>\n",
       "      <td>0</td>\n",
       "      <td>0</td>\n",
       "    </tr>\n",
       "    <tr>\n",
       "      <th>18063</th>\n",
       "      <td>Foster</td>\n",
       "      <td>1</td>\n",
       "      <td>Adolescent</td>\n",
       "      <td>Male</td>\n",
       "      <td>1</td>\n",
       "      <td>0</td>\n",
       "      <td>0</td>\n",
       "      <td>0</td>\n",
       "      <td>0</td>\n",
       "      <td>0</td>\n",
       "    </tr>\n",
       "  </tbody>\n",
       "</table>\n",
       "<p>18064 rows × 10 columns</p>\n",
       "</div>"
      ],
      "text/plain": [
       "      movementtype  movementMonth CatAgeGroup sexname  Adolescent  Adult  \\\n",
       "0         Adoption              5      Senior  Female           0      0   \n",
       "1         Adoption              4      Mature    Male           0      0   \n",
       "2         Adoption              4      Mature  Female           0      0   \n",
       "3        Reclaimed              2      Mature  Female           0      0   \n",
       "4           Foster              4      Mature  Female           0      0   \n",
       "...            ...            ...         ...     ...         ...    ...   \n",
       "18059    Reclaimed              1   Geriatric  Female           0      0   \n",
       "18060       Foster              1   Geriatric  Female           0      0   \n",
       "18061     Adoption              1   Geriatric  Female           0      0   \n",
       "18062     Transfer              1       Adult  Female           0      1   \n",
       "18063       Foster              1  Adolescent    Male           1      0   \n",
       "\n",
       "       Geriatric  Kitten  Mature  Senior  \n",
       "0              0       0       0       1  \n",
       "1              0       0       1       0  \n",
       "2              0       0       1       0  \n",
       "3              0       0       1       0  \n",
       "4              0       0       1       0  \n",
       "...          ...     ...     ...     ...  \n",
       "18059          1       0       0       0  \n",
       "18060          1       0       0       0  \n",
       "18061          1       0       0       0  \n",
       "18062          0       0       0       0  \n",
       "18063          0       0       0       0  \n",
       "\n",
       "[18064 rows x 10 columns]"
      ]
     },
     "execution_count": 10,
     "metadata": {},
     "output_type": "execute_result"
    }
   ],
   "source": [
    "shelter2"
   ]
  },
  {
   "cell_type": "markdown",
   "id": "1a5c2e39",
   "metadata": {},
   "source": [
    "# recode sexname from male, female to 0,1"
   ]
  },
  {
   "cell_type": "code",
   "execution_count": 11,
   "id": "e0b19502",
   "metadata": {},
   "outputs": [],
   "source": [
    "def sexnameR (series):\n",
    "    if series == 'Male':\n",
    "        return 0\n",
    "    if series == 'Female':\n",
    "        return 1\n",
    "shelter2['sexnameR'] = shelter['sexname'].apply(sexnameR)"
   ]
  },
  {
   "cell_type": "code",
   "execution_count": 12,
   "id": "669eb3f8",
   "metadata": {},
   "outputs": [
    {
     "data": {
      "text/html": [
       "<div>\n",
       "<style scoped>\n",
       "    .dataframe tbody tr th:only-of-type {\n",
       "        vertical-align: middle;\n",
       "    }\n",
       "\n",
       "    .dataframe tbody tr th {\n",
       "        vertical-align: top;\n",
       "    }\n",
       "\n",
       "    .dataframe thead th {\n",
       "        text-align: right;\n",
       "    }\n",
       "</style>\n",
       "<table border=\"1\" class=\"dataframe\">\n",
       "  <thead>\n",
       "    <tr style=\"text-align: right;\">\n",
       "      <th></th>\n",
       "      <th>movementtype</th>\n",
       "      <th>movementMonth</th>\n",
       "      <th>CatAgeGroup</th>\n",
       "      <th>sexname</th>\n",
       "      <th>Adolescent</th>\n",
       "      <th>Adult</th>\n",
       "      <th>Geriatric</th>\n",
       "      <th>Kitten</th>\n",
       "      <th>Mature</th>\n",
       "      <th>Senior</th>\n",
       "      <th>sexnameR</th>\n",
       "    </tr>\n",
       "  </thead>\n",
       "  <tbody>\n",
       "    <tr>\n",
       "      <th>0</th>\n",
       "      <td>Adoption</td>\n",
       "      <td>5</td>\n",
       "      <td>Senior</td>\n",
       "      <td>Female</td>\n",
       "      <td>0</td>\n",
       "      <td>0</td>\n",
       "      <td>0</td>\n",
       "      <td>0</td>\n",
       "      <td>0</td>\n",
       "      <td>1</td>\n",
       "      <td>1</td>\n",
       "    </tr>\n",
       "    <tr>\n",
       "      <th>1</th>\n",
       "      <td>Adoption</td>\n",
       "      <td>4</td>\n",
       "      <td>Mature</td>\n",
       "      <td>Male</td>\n",
       "      <td>0</td>\n",
       "      <td>0</td>\n",
       "      <td>0</td>\n",
       "      <td>0</td>\n",
       "      <td>1</td>\n",
       "      <td>0</td>\n",
       "      <td>0</td>\n",
       "    </tr>\n",
       "    <tr>\n",
       "      <th>2</th>\n",
       "      <td>Adoption</td>\n",
       "      <td>4</td>\n",
       "      <td>Mature</td>\n",
       "      <td>Female</td>\n",
       "      <td>0</td>\n",
       "      <td>0</td>\n",
       "      <td>0</td>\n",
       "      <td>0</td>\n",
       "      <td>1</td>\n",
       "      <td>0</td>\n",
       "      <td>1</td>\n",
       "    </tr>\n",
       "    <tr>\n",
       "      <th>3</th>\n",
       "      <td>Reclaimed</td>\n",
       "      <td>2</td>\n",
       "      <td>Mature</td>\n",
       "      <td>Female</td>\n",
       "      <td>0</td>\n",
       "      <td>0</td>\n",
       "      <td>0</td>\n",
       "      <td>0</td>\n",
       "      <td>1</td>\n",
       "      <td>0</td>\n",
       "      <td>1</td>\n",
       "    </tr>\n",
       "    <tr>\n",
       "      <th>4</th>\n",
       "      <td>Foster</td>\n",
       "      <td>4</td>\n",
       "      <td>Mature</td>\n",
       "      <td>Female</td>\n",
       "      <td>0</td>\n",
       "      <td>0</td>\n",
       "      <td>0</td>\n",
       "      <td>0</td>\n",
       "      <td>1</td>\n",
       "      <td>0</td>\n",
       "      <td>1</td>\n",
       "    </tr>\n",
       "    <tr>\n",
       "      <th>...</th>\n",
       "      <td>...</td>\n",
       "      <td>...</td>\n",
       "      <td>...</td>\n",
       "      <td>...</td>\n",
       "      <td>...</td>\n",
       "      <td>...</td>\n",
       "      <td>...</td>\n",
       "      <td>...</td>\n",
       "      <td>...</td>\n",
       "      <td>...</td>\n",
       "      <td>...</td>\n",
       "    </tr>\n",
       "    <tr>\n",
       "      <th>18059</th>\n",
       "      <td>Reclaimed</td>\n",
       "      <td>1</td>\n",
       "      <td>Geriatric</td>\n",
       "      <td>Female</td>\n",
       "      <td>0</td>\n",
       "      <td>0</td>\n",
       "      <td>1</td>\n",
       "      <td>0</td>\n",
       "      <td>0</td>\n",
       "      <td>0</td>\n",
       "      <td>1</td>\n",
       "    </tr>\n",
       "    <tr>\n",
       "      <th>18060</th>\n",
       "      <td>Foster</td>\n",
       "      <td>1</td>\n",
       "      <td>Geriatric</td>\n",
       "      <td>Female</td>\n",
       "      <td>0</td>\n",
       "      <td>0</td>\n",
       "      <td>1</td>\n",
       "      <td>0</td>\n",
       "      <td>0</td>\n",
       "      <td>0</td>\n",
       "      <td>1</td>\n",
       "    </tr>\n",
       "    <tr>\n",
       "      <th>18061</th>\n",
       "      <td>Adoption</td>\n",
       "      <td>1</td>\n",
       "      <td>Geriatric</td>\n",
       "      <td>Female</td>\n",
       "      <td>0</td>\n",
       "      <td>0</td>\n",
       "      <td>1</td>\n",
       "      <td>0</td>\n",
       "      <td>0</td>\n",
       "      <td>0</td>\n",
       "      <td>1</td>\n",
       "    </tr>\n",
       "    <tr>\n",
       "      <th>18062</th>\n",
       "      <td>Transfer</td>\n",
       "      <td>1</td>\n",
       "      <td>Adult</td>\n",
       "      <td>Female</td>\n",
       "      <td>0</td>\n",
       "      <td>1</td>\n",
       "      <td>0</td>\n",
       "      <td>0</td>\n",
       "      <td>0</td>\n",
       "      <td>0</td>\n",
       "      <td>1</td>\n",
       "    </tr>\n",
       "    <tr>\n",
       "      <th>18063</th>\n",
       "      <td>Foster</td>\n",
       "      <td>1</td>\n",
       "      <td>Adolescent</td>\n",
       "      <td>Male</td>\n",
       "      <td>1</td>\n",
       "      <td>0</td>\n",
       "      <td>0</td>\n",
       "      <td>0</td>\n",
       "      <td>0</td>\n",
       "      <td>0</td>\n",
       "      <td>0</td>\n",
       "    </tr>\n",
       "  </tbody>\n",
       "</table>\n",
       "<p>18064 rows × 11 columns</p>\n",
       "</div>"
      ],
      "text/plain": [
       "      movementtype  movementMonth CatAgeGroup sexname  Adolescent  Adult  \\\n",
       "0         Adoption              5      Senior  Female           0      0   \n",
       "1         Adoption              4      Mature    Male           0      0   \n",
       "2         Adoption              4      Mature  Female           0      0   \n",
       "3        Reclaimed              2      Mature  Female           0      0   \n",
       "4           Foster              4      Mature  Female           0      0   \n",
       "...            ...            ...         ...     ...         ...    ...   \n",
       "18059    Reclaimed              1   Geriatric  Female           0      0   \n",
       "18060       Foster              1   Geriatric  Female           0      0   \n",
       "18061     Adoption              1   Geriatric  Female           0      0   \n",
       "18062     Transfer              1       Adult  Female           0      1   \n",
       "18063       Foster              1  Adolescent    Male           1      0   \n",
       "\n",
       "       Geriatric  Kitten  Mature  Senior  sexnameR  \n",
       "0              0       0       0       1         1  \n",
       "1              0       0       1       0         0  \n",
       "2              0       0       1       0         1  \n",
       "3              0       0       1       0         1  \n",
       "4              0       0       1       0         1  \n",
       "...          ...     ...     ...     ...       ...  \n",
       "18059          1       0       0       0         1  \n",
       "18060          1       0       0       0         1  \n",
       "18061          1       0       0       0         1  \n",
       "18062          0       0       0       0         1  \n",
       "18063          0       0       0       0         0  \n",
       "\n",
       "[18064 rows x 11 columns]"
      ]
     },
     "execution_count": 12,
     "metadata": {},
     "output_type": "execute_result"
    }
   ],
   "source": [
    "shelter2"
   ]
  },
  {
   "cell_type": "markdown",
   "id": "b228f108",
   "metadata": {},
   "source": [
    "# recode movementtype to show 'Adoption' vs 'No adoption'"
   ]
  },
  {
   "cell_type": "code",
   "execution_count": 13,
   "id": "5da78cba",
   "metadata": {},
   "outputs": [
    {
     "data": {
      "text/plain": [
       "Adoption            10403\n",
       "Foster               4847\n",
       "Reclaimed            2381\n",
       "Transfer              392\n",
       "Released To Wild       25\n",
       "Escaped                 8\n",
       "Stolen                  8\n",
       "Name: movementtype, dtype: int64"
      ]
     },
     "execution_count": 13,
     "metadata": {},
     "output_type": "execute_result"
    }
   ],
   "source": [
    "shelter2.movementtype.value_counts()"
   ]
  },
  {
   "cell_type": "code",
   "execution_count": 14,
   "id": "2d928a00",
   "metadata": {},
   "outputs": [],
   "source": [
    "def movementtypeR (series):\n",
    "    if series == 'Adoption':\n",
    "        return 1\n",
    "    else:\n",
    "        return 0\n",
    "shelter2['movementtypeR'] = shelter['movementtype'].apply(movementtypeR)"
   ]
  },
  {
   "cell_type": "code",
   "execution_count": 15,
   "id": "db976047",
   "metadata": {},
   "outputs": [
    {
     "name": "stdout",
     "output_type": "stream",
     "text": [
      "<class 'pandas.core.frame.DataFrame'>\n",
      "RangeIndex: 18064 entries, 0 to 18063\n",
      "Data columns (total 12 columns):\n",
      " #   Column         Non-Null Count  Dtype \n",
      "---  ------         --------------  ----- \n",
      " 0   movementtype   18064 non-null  object\n",
      " 1   movementMonth  18064 non-null  int64 \n",
      " 2   CatAgeGroup    18064 non-null  object\n",
      " 3   sexname        18064 non-null  object\n",
      " 4   Adolescent     18064 non-null  uint8 \n",
      " 5   Adult          18064 non-null  uint8 \n",
      " 6   Geriatric      18064 non-null  uint8 \n",
      " 7   Kitten         18064 non-null  uint8 \n",
      " 8   Mature         18064 non-null  uint8 \n",
      " 9   Senior         18064 non-null  uint8 \n",
      " 10  sexnameR       18064 non-null  int64 \n",
      " 11  movementtypeR  18064 non-null  int64 \n",
      "dtypes: int64(3), object(3), uint8(6)\n",
      "memory usage: 952.7+ KB\n"
     ]
    }
   ],
   "source": [
    "shelter2.info()"
   ]
  },
  {
   "cell_type": "markdown",
   "id": "ac268295",
   "metadata": {},
   "source": [
    "## convert uint8 to int64"
   ]
  },
  {
   "cell_type": "code",
   "execution_count": 16,
   "id": "5ecb7e22",
   "metadata": {},
   "outputs": [
    {
     "name": "stdout",
     "output_type": "stream",
     "text": [
      "0        0\n",
      "1        0\n",
      "2        0\n",
      "3        0\n",
      "4        0\n",
      "        ..\n",
      "18059    0\n",
      "18060    0\n",
      "18061    0\n",
      "18062    0\n",
      "18063    1\n",
      "Name: Adolescent, Length: 18064, dtype: int64\n"
     ]
    }
   ],
   "source": [
    "shelter2['Adolescent'] = shelter2['Adolescent'].astype(np.int64)\n",
    "print (shelter2['Adolescent'])"
   ]
  },
  {
   "cell_type": "code",
   "execution_count": 17,
   "id": "0ef33757",
   "metadata": {},
   "outputs": [
    {
     "name": "stdout",
     "output_type": "stream",
     "text": [
      "0        0\n",
      "1        0\n",
      "2        0\n",
      "3        0\n",
      "4        0\n",
      "        ..\n",
      "18059    0\n",
      "18060    0\n",
      "18061    0\n",
      "18062    0\n",
      "18063    1\n",
      "Name: Adolescent, Length: 18064, dtype: int64\n"
     ]
    }
   ],
   "source": [
    "shelter2['Adolescent'] = shelter2['Adolescent'].astype(np.int64)\n",
    "print (shelter2['Adolescent'])"
   ]
  },
  {
   "cell_type": "code",
   "execution_count": 18,
   "id": "0149b290",
   "metadata": {},
   "outputs": [
    {
     "name": "stdout",
     "output_type": "stream",
     "text": [
      "0        0\n",
      "1        0\n",
      "2        0\n",
      "3        0\n",
      "4        0\n",
      "        ..\n",
      "18059    0\n",
      "18060    0\n",
      "18061    0\n",
      "18062    1\n",
      "18063    0\n",
      "Name: Adult, Length: 18064, dtype: int64\n"
     ]
    }
   ],
   "source": [
    "shelter2['Adult'] = shelter2['Adult'].astype(np.int64)\n",
    "print (shelter2['Adult'])"
   ]
  },
  {
   "cell_type": "code",
   "execution_count": 19,
   "id": "64a1cae4",
   "metadata": {},
   "outputs": [
    {
     "name": "stdout",
     "output_type": "stream",
     "text": [
      "0        0\n",
      "1        0\n",
      "2        0\n",
      "3        0\n",
      "4        0\n",
      "        ..\n",
      "18059    0\n",
      "18060    0\n",
      "18061    0\n",
      "18062    0\n",
      "18063    1\n",
      "Name: Adolescent, Length: 18064, dtype: int64\n"
     ]
    }
   ],
   "source": [
    "shelter2['Geriatric'] = shelter2['Geriatric'].astype(np.int64)\n",
    "print (shelter2['Adolescent'])"
   ]
  },
  {
   "cell_type": "code",
   "execution_count": 20,
   "id": "a1f68bc6",
   "metadata": {},
   "outputs": [
    {
     "name": "stdout",
     "output_type": "stream",
     "text": [
      "0        0\n",
      "1        0\n",
      "2        0\n",
      "3        0\n",
      "4        0\n",
      "        ..\n",
      "18059    0\n",
      "18060    0\n",
      "18061    0\n",
      "18062    0\n",
      "18063    1\n",
      "Name: Adolescent, Length: 18064, dtype: int64\n"
     ]
    }
   ],
   "source": [
    "shelter2['Kitten'] = shelter2['Kitten'].astype(np.int64)\n",
    "print (shelter2['Adolescent'])"
   ]
  },
  {
   "cell_type": "code",
   "execution_count": 21,
   "id": "0e334f11",
   "metadata": {},
   "outputs": [
    {
     "name": "stdout",
     "output_type": "stream",
     "text": [
      "0        0\n",
      "1        0\n",
      "2        0\n",
      "3        0\n",
      "4        0\n",
      "        ..\n",
      "18059    0\n",
      "18060    0\n",
      "18061    0\n",
      "18062    0\n",
      "18063    1\n",
      "Name: Adolescent, Length: 18064, dtype: int64\n"
     ]
    }
   ],
   "source": [
    "shelter2['Mature'] = shelter2['Mature'].astype(np.int64)\n",
    "print (shelter2['Adolescent'])"
   ]
  },
  {
   "cell_type": "code",
   "execution_count": 22,
   "id": "9c29bf46",
   "metadata": {},
   "outputs": [
    {
     "name": "stdout",
     "output_type": "stream",
     "text": [
      "0        0\n",
      "1        0\n",
      "2        0\n",
      "3        0\n",
      "4        0\n",
      "        ..\n",
      "18059    0\n",
      "18060    0\n",
      "18061    0\n",
      "18062    0\n",
      "18063    1\n",
      "Name: Adolescent, Length: 18064, dtype: int64\n"
     ]
    }
   ],
   "source": [
    "shelter2['Senior'] = shelter2['Senior'].astype(np.int64)\n",
    "print (shelter2['Adolescent'])"
   ]
  },
  {
   "cell_type": "code",
   "execution_count": 23,
   "id": "b2e2e89e",
   "metadata": {},
   "outputs": [
    {
     "name": "stdout",
     "output_type": "stream",
     "text": [
      "<class 'pandas.core.frame.DataFrame'>\n",
      "RangeIndex: 18064 entries, 0 to 18063\n",
      "Data columns (total 12 columns):\n",
      " #   Column         Non-Null Count  Dtype \n",
      "---  ------         --------------  ----- \n",
      " 0   movementtype   18064 non-null  object\n",
      " 1   movementMonth  18064 non-null  int64 \n",
      " 2   CatAgeGroup    18064 non-null  object\n",
      " 3   sexname        18064 non-null  object\n",
      " 4   Adolescent     18064 non-null  int64 \n",
      " 5   Adult          18064 non-null  int64 \n",
      " 6   Geriatric      18064 non-null  int64 \n",
      " 7   Kitten         18064 non-null  int64 \n",
      " 8   Mature         18064 non-null  int64 \n",
      " 9   Senior         18064 non-null  int64 \n",
      " 10  sexnameR       18064 non-null  int64 \n",
      " 11  movementtypeR  18064 non-null  int64 \n",
      "dtypes: int64(9), object(3)\n",
      "memory usage: 1.7+ MB\n"
     ]
    }
   ],
   "source": [
    "shelter2.info()"
   ]
  },
  {
   "cell_type": "markdown",
   "id": "372bdbfe",
   "metadata": {},
   "source": [
    "# Machine Learning                                          "
   ]
  },
  {
   "cell_type": "markdown",
   "id": "68df3f57",
   "metadata": {},
   "source": [
    "# import packages"
   ]
  },
  {
   "cell_type": "code",
   "execution_count": 24,
   "id": "f0f5c043",
   "metadata": {},
   "outputs": [],
   "source": [
    "from sklearn.model_selection import KFold\n",
    "from sklearn.model_selection import cross_val_score\n",
    "\n",
    "from sklearn.linear_model import LinearRegression\n",
    "from sklearn.model_selection import train_test_split\n",
    "import matplotlib.pyplot as plt\n",
    "%matplotlib inline\n",
    "from sklearn import metrics\n",
    "from sklearn.ensemble import RandomForestClassifier\n",
    "from sklearn.metrics import classification_report, confusion_matrix"
   ]
  },
  {
   "cell_type": "markdown",
   "id": "ebcbb707",
   "metadata": {},
   "source": [
    "## creating subsets for x, y variables"
   ]
  },
  {
   "cell_type": "code",
   "execution_count": 25,
   "id": "d9e9a038",
   "metadata": {},
   "outputs": [],
   "source": [
    "x= shelter2[[ 'Adult', 'Geriatric', 'Kitten', 'Mature', 'Adolescent', 'Senior', \n",
    "             'sexnameR', 'movementMonth']]\n",
    "y= shelter2['movementtypeR']\n"
   ]
  },
  {
   "cell_type": "markdown",
   "id": "822e7403",
   "metadata": {},
   "source": [
    "## Train test split"
   ]
  },
  {
   "cell_type": "code",
   "execution_count": 26,
   "id": "867da583",
   "metadata": {},
   "outputs": [],
   "source": [
    "x_train, x_test, y_train, y_test = train_test_split(x,y, test_size = 0.4, random_state = 101)"
   ]
  },
  {
   "cell_type": "markdown",
   "id": "562a9308",
   "metadata": {},
   "source": [
    "## initial random forest model"
   ]
  },
  {
   "cell_type": "code",
   "execution_count": 27,
   "id": "b6e257d6",
   "metadata": {},
   "outputs": [
    {
     "data": {
      "text/plain": [
       "RandomForestClassifier(n_estimators=500)"
      ]
     },
     "execution_count": 27,
     "metadata": {},
     "output_type": "execute_result"
    }
   ],
   "source": [
    "forest= RandomForestClassifier(n_estimators = 500)\n",
    "forest.fit(x_train, y_train)"
   ]
  },
  {
   "cell_type": "markdown",
   "id": "7e386236",
   "metadata": {},
   "source": [
    "# evaluate model fit"
   ]
  },
  {
   "cell_type": "code",
   "execution_count": 28,
   "id": "6e0397d1",
   "metadata": {},
   "outputs": [
    {
     "name": "stdout",
     "output_type": "stream",
     "text": [
      "[[ 820 2228]\n",
      " [ 591 3587]]\n",
      "              precision    recall  f1-score   support\n",
      "\n",
      "           0       0.58      0.27      0.37      3048\n",
      "           1       0.62      0.86      0.72      4178\n",
      "\n",
      "    accuracy                           0.61      7226\n",
      "   macro avg       0.60      0.56      0.54      7226\n",
      "weighted avg       0.60      0.61      0.57      7226\n",
      "\n"
     ]
    }
   ],
   "source": [
    "forestPredictions = forest.predict(x_test)\n",
    "print (confusion_matrix(y_test, forestPredictions))\n",
    "print (classification_report(y_test, forestPredictions))"
   ]
  },
  {
   "cell_type": "markdown",
   "id": "524b2289",
   "metadata": {},
   "source": [
    "# hyperparameter tuning"
   ]
  },
  {
   "cell_type": "markdown",
   "id": "5deb3fd8",
   "metadata": {},
   "source": [
    "# import packages"
   ]
  },
  {
   "cell_type": "code",
   "execution_count": 29,
   "id": "3b441b40",
   "metadata": {},
   "outputs": [],
   "source": [
    "from sklearn.model_selection import RandomizedSearchCV\n",
    "from sklearn.metrics import accuracy_score"
   ]
  },
  {
   "cell_type": "markdown",
   "id": "63f44378",
   "metadata": {},
   "source": [
    "# number of estimators"
   ]
  },
  {
   "cell_type": "code",
   "execution_count": 30,
   "id": "9ee67b29",
   "metadata": {},
   "outputs": [
    {
     "name": "stdout",
     "output_type": "stream",
     "text": [
      "1 : 0.611680044284528\n",
      "4 : 0.6122336008856906\n",
      "5 : 0.6039302518682536\n",
      "8 : 0.6091890395792969\n",
      "10 : 0.610988098533075\n",
      "20 : 0.6107113202324937\n",
      "50 : 0.610296152781622\n",
      "75 : 0.6064212565734847\n",
      "100 : 0.6090506504290064\n",
      "250 : 0.6104345419319125\n",
      "500 : 0.6104345419319125\n"
     ]
    }
   ],
   "source": [
    "n_estimators_array = [1, 4, 5, 8, 10, 20, 50, 75, 100, 250, 500]\n",
    "results = []\n",
    "for n in n_estimators_array:\n",
    "    forest = RandomForestClassifier(n_estimators=n)\n",
    "    forest.fit(x_train, y_train)\n",
    "    result = accuracy_score(y_test, forest.predict(x_test))\n",
    "    results.append(result)\n",
    "    print(n, ':', result)"
   ]
  },
  {
   "cell_type": "markdown",
   "id": "9840f5c5",
   "metadata": {},
   "source": [
    "# use 10 trees for best accuracy instead of the standard 500"
   ]
  },
  {
   "cell_type": "markdown",
   "id": "52396b6f",
   "metadata": {},
   "source": [
    "# plot it"
   ]
  },
  {
   "cell_type": "code",
   "execution_count": 31,
   "id": "000bdec8",
   "metadata": {},
   "outputs": [
    {
     "data": {
      "text/plain": [
       "[<matplotlib.lines.Line2D at 0x1546f99e340>]"
      ]
     },
     "execution_count": 31,
     "metadata": {},
     "output_type": "execute_result"
    },
    {
     "data": {
      "image/png": "[encoded data removed]",
      "text/plain": [
       "<Figure size 432x288 with 1 Axes>"
      ]
     },
     "metadata": {
      "needs_background": "light"
     },
     "output_type": "display_data"
    }
   ],
   "source": [
    "plt.plot(n_estimators_array, results)"
   ]
  },
  {
   "cell_type": "markdown",
   "id": "7bab2896",
   "metadata": {},
   "source": [
    "# tuning the remaining\n"
   ]
  },
  {
   "cell_type": "code",
   "execution_count": 32,
   "id": "123f3a17",
   "metadata": {},
   "outputs": [
    {
     "name": "stdout",
     "output_type": "stream",
     "text": [
      "{'max_features': ['auto', None, 'log2'], 'max_depth': [10, 20, 30, 40, 50, 60, 70, 80, 90, None], 'min_samples_leaf': [1, 2, 4]}\n"
     ]
    }
   ],
   "source": [
    "# Number of features to consider at every split\n",
    "max_features = ['auto', None, 'log2']\n",
    "# Maximum number of levels in tree\n",
    "max_depth = [10, 20, 30, 40, 50, 60, 70, 80, 90, None]\n",
    "# Minimum number of samples required at each leaf node\n",
    "min_samples_leaf = [1, 2, 4]\n",
    "# Method of selecting samples for training each tree\n",
    "random_grid = {'max_features': max_features,\n",
    "               'max_depth': max_depth,\n",
    "               'min_samples_leaf': min_samples_leaf}\n",
    "print(random_grid)"
   ]
  },
  {
   "cell_type": "markdown",
   "id": "665d193f",
   "metadata": {},
   "source": [
    "# this code gives a random search of the random_grid"
   ]
  },
  {
   "cell_type": "code",
   "execution_count": 33,
   "id": "0402d5dd",
   "metadata": {},
   "outputs": [],
   "source": [
    "rf= RandomForestClassifier(n_estimators=10)\n",
    "rf_random = RandomizedSearchCV(estimator = rf, param_distributions = random_grid, n_iter=90, cv=3, random_state=42)"
   ]
  },
  {
   "cell_type": "markdown",
   "id": "7560ef2d",
   "metadata": {},
   "source": [
    "# fit"
   ]
  },
  {
   "cell_type": "code",
   "execution_count": 34,
   "id": "a8c1ea07",
   "metadata": {},
   "outputs": [
    {
     "data": {
      "text/plain": [
       "RandomizedSearchCV(cv=3, estimator=RandomForestClassifier(n_estimators=10),\n",
       "                   n_iter=90,\n",
       "                   param_distributions={'max_depth': [10, 20, 30, 40, 50, 60,\n",
       "                                                      70, 80, 90, None],\n",
       "                                        'max_features': ['auto', None, 'log2'],\n",
       "                                        'min_samples_leaf': [1, 2, 4]},\n",
       "                   random_state=42)"
      ]
     },
     "execution_count": 34,
     "metadata": {},
     "output_type": "execute_result"
    }
   ],
   "source": [
    "rf_random.fit(x_train, y_train)"
   ]
  },
  {
   "cell_type": "markdown",
   "id": "1dfeb25b",
   "metadata": {},
   "source": [
    "# best accuracy hyperparameter"
   ]
  },
  {
   "cell_type": "code",
   "execution_count": 35,
   "id": "1c04e560",
   "metadata": {},
   "outputs": [
    {
     "data": {
      "text/plain": [
       "{'min_samples_leaf': 4, 'max_features': 'log2', 'max_depth': 10}"
      ]
     },
     "execution_count": 35,
     "metadata": {},
     "output_type": "execute_result"
    }
   ],
   "source": [
    "rf_random.best_params_"
   ]
  },
  {
   "cell_type": "markdown",
   "id": "750e863e",
   "metadata": {},
   "source": [
    "# model with the best accuracy has at least 2 samples per leaf, max features at log2, and a maximum depth of 10"
   ]
  },
  {
   "cell_type": "markdown",
   "id": "99fbc93f",
   "metadata": {},
   "source": [
    "# run random forest with these parameters"
   ]
  },
  {
   "cell_type": "code",
   "execution_count": 36,
   "id": "819c88b6",
   "metadata": {},
   "outputs": [
    {
     "data": {
      "text/plain": [
       "RandomForestClassifier(max_depth=10, max_features='log2', min_samples_leaf=2,\n",
       "                       n_estimators=10)"
      ]
     },
     "execution_count": 36,
     "metadata": {},
     "output_type": "execute_result"
    }
   ],
   "source": [
    "forest= RandomForestClassifier(n_estimators = 10, min_samples_leaf = 2, max_features = 'log2', max_depth=10)\n",
    "forest.fit(x_train, y_train)"
   ]
  },
  {
   "cell_type": "markdown",
   "id": "4f1d2b82",
   "metadata": {},
   "source": [
    "# run prediction and classification report for details"
   ]
  },
  {
   "cell_type": "code",
   "execution_count": 37,
   "id": "9aa5c9ed",
   "metadata": {},
   "outputs": [
    {
     "name": "stdout",
     "output_type": "stream",
     "text": [
      "[[ 856 2192]\n",
      " [ 640 3538]]\n",
      "              precision    recall  f1-score   support\n",
      "\n",
      "           0       0.57      0.28      0.38      3048\n",
      "           1       0.62      0.85      0.71      4178\n",
      "\n",
      "    accuracy                           0.61      7226\n",
      "   macro avg       0.59      0.56      0.55      7226\n",
      "weighted avg       0.60      0.61      0.57      7226\n",
      "\n"
     ]
    }
   ],
   "source": [
    "forestPredictions = forest.predict(x_test)\n",
    "print(confusion_matrix(y_test, forestPredictions))\n",
    "print(classification_report(y_test, forestPredictions))"
   ]
  },
  {
   "cell_type": "markdown",
   "id": "4a6e3adc",
   "metadata": {},
   "source": [
    "# 60% accuracy weighted"
   ]
  },
  {
   "cell_type": "markdown",
   "id": "838122fb",
   "metadata": {},
   "source": [
    "# feature importance"
   ]
  },
  {
   "cell_type": "code",
   "execution_count": 38,
   "id": "b3b58ca4",
   "metadata": {},
   "outputs": [
    {
     "data": {
      "text/plain": [
       "Adult            0.037244\n",
       "Geriatric        0.071852\n",
       "Kitten           0.085787\n",
       "Mature           0.026167\n",
       "Adolescent       0.048973\n",
       "Senior           0.068719\n",
       "sexnameR         0.045245\n",
       "movementMonth    0.616012\n",
       "dtype: float64"
      ]
     },
     "execution_count": 38,
     "metadata": {},
     "output_type": "execute_result"
    }
   ],
   "source": [
    "feature_importances = pd.Series(forest.feature_importances_, index=x.columns)\n",
    "feature_importances"
   ]
  },
  {
   "cell_type": "markdown",
   "id": "4c8b4f11",
   "metadata": {},
   "source": [
    "# sort values in order of feature importance"
   ]
  },
  {
   "cell_type": "code",
   "execution_count": 39,
   "id": "8159d5d3",
   "metadata": {},
   "outputs": [
    {
     "name": "stdout",
     "output_type": "stream",
     "text": [
      "movementMonth    0.616012\n",
      "Kitten           0.085787\n",
      "Geriatric        0.071852\n",
      "Senior           0.068719\n",
      "Adolescent       0.048973\n",
      "sexnameR         0.045245\n",
      "Adult            0.037244\n",
      "Mature           0.026167\n",
      "dtype: float64\n"
     ]
    }
   ],
   "source": [
    "feature_importances.sort_values(inplace=True, ascending=False)\n",
    "print(feature_importances)"
   ]
  },
  {
   "cell_type": "markdown",
   "id": "f3faf990",
   "metadata": {},
   "source": [
    "# visualization"
   ]
  },
  {
   "cell_type": "code",
   "execution_count": 40,
   "id": "5cbbadb1",
   "metadata": {},
   "outputs": [
    {
     "data": {
      "text/plain": [
       "<AxesSubplot:>"
      ]
     },
     "execution_count": 40,
     "metadata": {},
     "output_type": "execute_result"
    },
    {
     "data": {
      "image/png": "[encoded data removed]",
      "text/plain": [
       "<Figure size 504x432 with 1 Axes>"
      ]
     },
     "metadata": {
      "needs_background": "light"
     },
     "output_type": "display_data"
    }
   ],
   "source": [
    "feature_importances.plot(kind= 'barh', figsize= (7,6))"
   ]
  },
  {
   "cell_type": "code",
   "execution_count": null,
   "id": "69f604fb",
   "metadata": {},
   "outputs": [],
   "source": []
  }
 ],
 "metadata": {
  "kernelspec": {
   "display_name": "Python 3",
   "language": "python",
   "name": "python3"
  },
  "language_info": {
   "codemirror_mode": {
    "name": "ipython",
    "version": 3
   },
   "file_extension": ".py",
   "mimetype": "text/x-python",
   "name": "python",
   "nbconvert_exporter": "python",
   "pygments_lexer": "ipython3",
   "version": "3.8.8"
  }
 },
 "nbformat": 4,
 "nbformat_minor": 5
}
