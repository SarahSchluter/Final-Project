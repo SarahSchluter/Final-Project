{
 "cells": [
  {
   "cell_type": "markdown",
   "id": "ed88ff35",
   "metadata": {},
   "source": [
    "# import packages"
   ]
  },
  {
   "cell_type": "code",
   "execution_count": 1,
   "id": "80d23576",
   "metadata": {},
   "outputs": [],
   "source": [
    "import pandas as pd\n",
    "import numpy as np\n",
    "import matplotlib.pyplot as plt\n",
    "from pylab import *\n",
    "import seaborn as sns\n",
    "%matplotlib inline\n",
    "import statsmodels.api as sm\n",
    "import statsmodels.stats.api as sms\n",
    "from scipy.stats import boxcox\n"
   ]
  },
  {
   "cell_type": "markdown",
   "id": "3cf66a56",
   "metadata": {},
   "source": [
    "# import data"
   ]
  },
  {
   "cell_type": "code",
   "execution_count": 2,
   "id": "19778173",
   "metadata": {},
   "outputs": [],
   "source": [
    "shelter = pd.read_csv(r'C:\\Users\\hazre\\OneDrive\\OneNote\\GitHub\\Final-Project\\shelter.csv')"
   ]
  },
  {
   "cell_type": "markdown",
   "id": "ba4ad00b",
   "metadata": {},
   "source": [
    "### check it"
   ]
  },
  {
   "cell_type": "code",
   "execution_count": 3,
   "id": "4c83cd56",
   "metadata": {},
   "outputs": [
    {
     "data": {
      "text/html": [
       "<div>\n",
       "<style scoped>\n",
       "    .dataframe tbody tr th:only-of-type {\n",
       "        vertical-align: middle;\n",
       "    }\n",
       "\n",
       "    .dataframe tbody tr th {\n",
       "        vertical-align: top;\n",
       "    }\n",
       "\n",
       "    .dataframe thead th {\n",
       "        text-align: right;\n",
       "    }\n",
       "</style>\n",
       "<table border=\"1\" class=\"dataframe\">\n",
       "  <thead>\n",
       "    <tr style=\"text-align: right;\">\n",
       "      <th></th>\n",
       "      <th>id</th>\n",
       "      <th>intakereason</th>\n",
       "      <th>breedname</th>\n",
       "      <th>speciesname</th>\n",
       "      <th>sexname</th>\n",
       "      <th>movementtype</th>\n",
       "      <th>intakeDate</th>\n",
       "      <th>movementDate</th>\n",
       "      <th>CatAgeGroup</th>\n",
       "      <th>DogAgeGroup</th>\n",
       "      <th>movementMonth</th>\n",
       "      <th>movementDay</th>\n",
       "      <th>movementYear</th>\n",
       "      <th>intakeMonth</th>\n",
       "      <th>intakeDay</th>\n",
       "      <th>intakeYear</th>\n",
       "    </tr>\n",
       "  </thead>\n",
       "  <tbody>\n",
       "    <tr>\n",
       "      <th>0</th>\n",
       "      <td>15801</td>\n",
       "      <td>Moving</td>\n",
       "      <td>Domestic Short Hair</td>\n",
       "      <td>Cat</td>\n",
       "      <td>Female</td>\n",
       "      <td>Adoption</td>\n",
       "      <td>11/28/2009</td>\n",
       "      <td>05/13/2017</td>\n",
       "      <td>Senior</td>\n",
       "      <td>Senior</td>\n",
       "      <td>5</td>\n",
       "      <td>13</td>\n",
       "      <td>2017</td>\n",
       "      <td>11</td>\n",
       "      <td>28</td>\n",
       "      <td>2009</td>\n",
       "    </tr>\n",
       "    <tr>\n",
       "      <th>1</th>\n",
       "      <td>15932</td>\n",
       "      <td>Moving</td>\n",
       "      <td>German Shepherd Dog/Mix</td>\n",
       "      <td>Dog</td>\n",
       "      <td>Male</td>\n",
       "      <td>Adoption</td>\n",
       "      <td>12/08/2009</td>\n",
       "      <td>04/24/2017</td>\n",
       "      <td>Mature</td>\n",
       "      <td>Senior</td>\n",
       "      <td>4</td>\n",
       "      <td>24</td>\n",
       "      <td>2017</td>\n",
       "      <td>12</td>\n",
       "      <td>8</td>\n",
       "      <td>2009</td>\n",
       "    </tr>\n",
       "    <tr>\n",
       "      <th>2</th>\n",
       "      <td>28859</td>\n",
       "      <td>Abandoned</td>\n",
       "      <td>Shep Mix/Siberian Husky</td>\n",
       "      <td>Dog</td>\n",
       "      <td>Female</td>\n",
       "      <td>Adoption</td>\n",
       "      <td>08/10/2012</td>\n",
       "      <td>04/15/2017</td>\n",
       "      <td>Mature</td>\n",
       "      <td>Mature</td>\n",
       "      <td>4</td>\n",
       "      <td>15</td>\n",
       "      <td>2017</td>\n",
       "      <td>8</td>\n",
       "      <td>10</td>\n",
       "      <td>2012</td>\n",
       "    </tr>\n",
       "    <tr>\n",
       "      <th>3</th>\n",
       "      <td>28859</td>\n",
       "      <td>Abandoned</td>\n",
       "      <td>Shep Mix/Siberian Husky</td>\n",
       "      <td>Dog</td>\n",
       "      <td>Female</td>\n",
       "      <td>Reclaimed</td>\n",
       "      <td>08/10/2012</td>\n",
       "      <td>02/29/2020</td>\n",
       "      <td>Mature</td>\n",
       "      <td>Mature</td>\n",
       "      <td>2</td>\n",
       "      <td>29</td>\n",
       "      <td>2020</td>\n",
       "      <td>8</td>\n",
       "      <td>10</td>\n",
       "      <td>2012</td>\n",
       "    </tr>\n",
       "    <tr>\n",
       "      <th>4</th>\n",
       "      <td>30812</td>\n",
       "      <td>Abandoned</td>\n",
       "      <td>Domestic Short Hair</td>\n",
       "      <td>Cat</td>\n",
       "      <td>Female</td>\n",
       "      <td>Foster</td>\n",
       "      <td>01/11/2013</td>\n",
       "      <td>04/18/2017</td>\n",
       "      <td>Mature</td>\n",
       "      <td>Senior</td>\n",
       "      <td>4</td>\n",
       "      <td>18</td>\n",
       "      <td>2017</td>\n",
       "      <td>1</td>\n",
       "      <td>11</td>\n",
       "      <td>2013</td>\n",
       "    </tr>\n",
       "    <tr>\n",
       "      <th>...</th>\n",
       "      <td>...</td>\n",
       "      <td>...</td>\n",
       "      <td>...</td>\n",
       "      <td>...</td>\n",
       "      <td>...</td>\n",
       "      <td>...</td>\n",
       "      <td>...</td>\n",
       "      <td>...</td>\n",
       "      <td>...</td>\n",
       "      <td>...</td>\n",
       "      <td>...</td>\n",
       "      <td>...</td>\n",
       "      <td>...</td>\n",
       "      <td>...</td>\n",
       "      <td>...</td>\n",
       "      <td>...</td>\n",
       "    </tr>\n",
       "    <tr>\n",
       "      <th>18059</th>\n",
       "      <td>72252</td>\n",
       "      <td>Stray</td>\n",
       "      <td>Beagle</td>\n",
       "      <td>Dog</td>\n",
       "      <td>Female</td>\n",
       "      <td>Reclaimed</td>\n",
       "      <td>01/15/2022</td>\n",
       "      <td>01/16/2022</td>\n",
       "      <td>Geriatric</td>\n",
       "      <td>Geriatric</td>\n",
       "      <td>1</td>\n",
       "      <td>16</td>\n",
       "      <td>2022</td>\n",
       "      <td>1</td>\n",
       "      <td>15</td>\n",
       "      <td>2022</td>\n",
       "    </tr>\n",
       "    <tr>\n",
       "      <th>18060</th>\n",
       "      <td>72253</td>\n",
       "      <td>Owner requested Euthanasia</td>\n",
       "      <td>Chihuahua</td>\n",
       "      <td>Dog</td>\n",
       "      <td>Female</td>\n",
       "      <td>Foster</td>\n",
       "      <td>01/15/2022</td>\n",
       "      <td>01/20/2022</td>\n",
       "      <td>Geriatric</td>\n",
       "      <td>Geriatric</td>\n",
       "      <td>1</td>\n",
       "      <td>20</td>\n",
       "      <td>2022</td>\n",
       "      <td>1</td>\n",
       "      <td>15</td>\n",
       "      <td>2022</td>\n",
       "    </tr>\n",
       "    <tr>\n",
       "      <th>18061</th>\n",
       "      <td>72253</td>\n",
       "      <td>Owner requested Euthanasia</td>\n",
       "      <td>Chihuahua</td>\n",
       "      <td>Dog</td>\n",
       "      <td>Female</td>\n",
       "      <td>Adoption</td>\n",
       "      <td>01/15/2022</td>\n",
       "      <td>01/24/2022</td>\n",
       "      <td>Geriatric</td>\n",
       "      <td>Geriatric</td>\n",
       "      <td>1</td>\n",
       "      <td>24</td>\n",
       "      <td>2022</td>\n",
       "      <td>1</td>\n",
       "      <td>15</td>\n",
       "      <td>2022</td>\n",
       "    </tr>\n",
       "    <tr>\n",
       "      <th>18062</th>\n",
       "      <td>72260</td>\n",
       "      <td>Moving</td>\n",
       "      <td>Domestic Short Hair</td>\n",
       "      <td>Cat</td>\n",
       "      <td>Female</td>\n",
       "      <td>Transfer</td>\n",
       "      <td>01/18/2022</td>\n",
       "      <td>01/19/2022</td>\n",
       "      <td>Adult</td>\n",
       "      <td>Adult</td>\n",
       "      <td>1</td>\n",
       "      <td>19</td>\n",
       "      <td>2022</td>\n",
       "      <td>1</td>\n",
       "      <td>18</td>\n",
       "      <td>2022</td>\n",
       "    </tr>\n",
       "    <tr>\n",
       "      <th>18063</th>\n",
       "      <td>72285</td>\n",
       "      <td>Landlord issues</td>\n",
       "      <td>Shih Tzu</td>\n",
       "      <td>Dog</td>\n",
       "      <td>Male</td>\n",
       "      <td>Foster</td>\n",
       "      <td>01/20/2022</td>\n",
       "      <td>01/20/2022</td>\n",
       "      <td>Adolescent</td>\n",
       "      <td>Adolescent</td>\n",
       "      <td>1</td>\n",
       "      <td>20</td>\n",
       "      <td>2022</td>\n",
       "      <td>1</td>\n",
       "      <td>20</td>\n",
       "      <td>2022</td>\n",
       "    </tr>\n",
       "  </tbody>\n",
       "</table>\n",
       "<p>18064 rows × 16 columns</p>\n",
       "</div>"
      ],
      "text/plain": [
       "          id                intakereason                breedname speciesname  \\\n",
       "0      15801                      Moving      Domestic Short Hair         Cat   \n",
       "1      15932                      Moving  German Shepherd Dog/Mix         Dog   \n",
       "2      28859                   Abandoned  Shep Mix/Siberian Husky         Dog   \n",
       "3      28859                   Abandoned  Shep Mix/Siberian Husky         Dog   \n",
       "4      30812                   Abandoned      Domestic Short Hair         Cat   \n",
       "...      ...                         ...                      ...         ...   \n",
       "18059  72252                       Stray                   Beagle         Dog   \n",
       "18060  72253  Owner requested Euthanasia                Chihuahua         Dog   \n",
       "18061  72253  Owner requested Euthanasia                Chihuahua         Dog   \n",
       "18062  72260                      Moving      Domestic Short Hair         Cat   \n",
       "18063  72285             Landlord issues                 Shih Tzu         Dog   \n",
       "\n",
       "      sexname movementtype  intakeDate movementDate CatAgeGroup DogAgeGroup  \\\n",
       "0      Female     Adoption  11/28/2009   05/13/2017      Senior      Senior   \n",
       "1        Male     Adoption  12/08/2009   04/24/2017      Mature      Senior   \n",
       "2      Female     Adoption  08/10/2012   04/15/2017      Mature      Mature   \n",
       "3      Female    Reclaimed  08/10/2012   02/29/2020      Mature      Mature   \n",
       "4      Female       Foster  01/11/2013   04/18/2017      Mature      Senior   \n",
       "...       ...          ...         ...          ...         ...         ...   \n",
       "18059  Female    Reclaimed  01/15/2022   01/16/2022   Geriatric   Geriatric   \n",
       "18060  Female       Foster  01/15/2022   01/20/2022   Geriatric   Geriatric   \n",
       "18061  Female     Adoption  01/15/2022   01/24/2022   Geriatric   Geriatric   \n",
       "18062  Female     Transfer  01/18/2022   01/19/2022       Adult       Adult   \n",
       "18063    Male       Foster  01/20/2022   01/20/2022  Adolescent  Adolescent   \n",
       "\n",
       "       movementMonth  movementDay  movementYear  intakeMonth  intakeDay  \\\n",
       "0                  5           13          2017           11         28   \n",
       "1                  4           24          2017           12          8   \n",
       "2                  4           15          2017            8         10   \n",
       "3                  2           29          2020            8         10   \n",
       "4                  4           18          2017            1         11   \n",
       "...              ...          ...           ...          ...        ...   \n",
       "18059              1           16          2022            1         15   \n",
       "18060              1           20          2022            1         15   \n",
       "18061              1           24          2022            1         15   \n",
       "18062              1           19          2022            1         18   \n",
       "18063              1           20          2022            1         20   \n",
       "\n",
       "       intakeYear  \n",
       "0            2009  \n",
       "1            2009  \n",
       "2            2012  \n",
       "3            2012  \n",
       "4            2013  \n",
       "...           ...  \n",
       "18059        2022  \n",
       "18060        2022  \n",
       "18061        2022  \n",
       "18062        2022  \n",
       "18063        2022  \n",
       "\n",
       "[18064 rows x 16 columns]"
      ]
     },
     "execution_count": 3,
     "metadata": {},
     "output_type": "execute_result"
    }
   ],
   "source": [
    "shelter"
   ]
  },
  {
   "cell_type": "markdown",
   "id": "070a914e",
   "metadata": {},
   "source": [
    "# predict dog adoptions"
   ]
  },
  {
   "cell_type": "markdown",
   "id": "704410ff",
   "metadata": {},
   "source": [
    "# data wrangling"
   ]
  },
  {
   "cell_type": "markdown",
   "id": "2cf9caf1",
   "metadata": {},
   "source": [
    "# create df with only the information I need "
   ]
  },
  {
   "cell_type": "code",
   "execution_count": 4,
   "id": "2dd13a2f",
   "metadata": {},
   "outputs": [
    {
     "data": {
      "text/plain": [
       "Index(['id', 'intakereason', 'breedname', 'speciesname', 'sexname',\n",
       "       'movementtype', 'intakeDate', 'movementDate', 'CatAgeGroup',\n",
       "       'DogAgeGroup', 'movementMonth', 'movementDay', 'movementYear',\n",
       "       'intakeMonth', 'intakeDay', 'intakeYear'],\n",
       "      dtype='object')"
      ]
     },
     "execution_count": 4,
     "metadata": {},
     "output_type": "execute_result"
    }
   ],
   "source": [
    "shelter.columns"
   ]
  },
  {
   "cell_type": "code",
   "execution_count": 5,
   "id": "3e40b161",
   "metadata": {},
   "outputs": [],
   "source": [
    "shelter1 = shelter[{'sexname', 'movementtype', 'DogAgeGroup', 'movementMonth' }]"
   ]
  },
  {
   "cell_type": "code",
   "execution_count": 6,
   "id": "7d18c261",
   "metadata": {},
   "outputs": [
    {
     "data": {
      "text/html": [
       "<div>\n",
       "<style scoped>\n",
       "    .dataframe tbody tr th:only-of-type {\n",
       "        vertical-align: middle;\n",
       "    }\n",
       "\n",
       "    .dataframe tbody tr th {\n",
       "        vertical-align: top;\n",
       "    }\n",
       "\n",
       "    .dataframe thead th {\n",
       "        text-align: right;\n",
       "    }\n",
       "</style>\n",
       "<table border=\"1\" class=\"dataframe\">\n",
       "  <thead>\n",
       "    <tr style=\"text-align: right;\">\n",
       "      <th></th>\n",
       "      <th>movementMonth</th>\n",
       "      <th>sexname</th>\n",
       "      <th>DogAgeGroup</th>\n",
       "      <th>movementtype</th>\n",
       "    </tr>\n",
       "  </thead>\n",
       "  <tbody>\n",
       "    <tr>\n",
       "      <th>0</th>\n",
       "      <td>5</td>\n",
       "      <td>Female</td>\n",
       "      <td>Senior</td>\n",
       "      <td>Adoption</td>\n",
       "    </tr>\n",
       "    <tr>\n",
       "      <th>1</th>\n",
       "      <td>4</td>\n",
       "      <td>Male</td>\n",
       "      <td>Senior</td>\n",
       "      <td>Adoption</td>\n",
       "    </tr>\n",
       "    <tr>\n",
       "      <th>2</th>\n",
       "      <td>4</td>\n",
       "      <td>Female</td>\n",
       "      <td>Mature</td>\n",
       "      <td>Adoption</td>\n",
       "    </tr>\n",
       "    <tr>\n",
       "      <th>3</th>\n",
       "      <td>2</td>\n",
       "      <td>Female</td>\n",
       "      <td>Mature</td>\n",
       "      <td>Reclaimed</td>\n",
       "    </tr>\n",
       "    <tr>\n",
       "      <th>4</th>\n",
       "      <td>4</td>\n",
       "      <td>Female</td>\n",
       "      <td>Senior</td>\n",
       "      <td>Foster</td>\n",
       "    </tr>\n",
       "    <tr>\n",
       "      <th>...</th>\n",
       "      <td>...</td>\n",
       "      <td>...</td>\n",
       "      <td>...</td>\n",
       "      <td>...</td>\n",
       "    </tr>\n",
       "    <tr>\n",
       "      <th>18059</th>\n",
       "      <td>1</td>\n",
       "      <td>Female</td>\n",
       "      <td>Geriatric</td>\n",
       "      <td>Reclaimed</td>\n",
       "    </tr>\n",
       "    <tr>\n",
       "      <th>18060</th>\n",
       "      <td>1</td>\n",
       "      <td>Female</td>\n",
       "      <td>Geriatric</td>\n",
       "      <td>Foster</td>\n",
       "    </tr>\n",
       "    <tr>\n",
       "      <th>18061</th>\n",
       "      <td>1</td>\n",
       "      <td>Female</td>\n",
       "      <td>Geriatric</td>\n",
       "      <td>Adoption</td>\n",
       "    </tr>\n",
       "    <tr>\n",
       "      <th>18062</th>\n",
       "      <td>1</td>\n",
       "      <td>Female</td>\n",
       "      <td>Adult</td>\n",
       "      <td>Transfer</td>\n",
       "    </tr>\n",
       "    <tr>\n",
       "      <th>18063</th>\n",
       "      <td>1</td>\n",
       "      <td>Male</td>\n",
       "      <td>Adolescent</td>\n",
       "      <td>Foster</td>\n",
       "    </tr>\n",
       "  </tbody>\n",
       "</table>\n",
       "<p>18064 rows × 4 columns</p>\n",
       "</div>"
      ],
      "text/plain": [
       "       movementMonth sexname DogAgeGroup movementtype\n",
       "0                  5  Female      Senior     Adoption\n",
       "1                  4    Male      Senior     Adoption\n",
       "2                  4  Female      Mature     Adoption\n",
       "3                  2  Female      Mature    Reclaimed\n",
       "4                  4  Female      Senior       Foster\n",
       "...              ...     ...         ...          ...\n",
       "18059              1  Female   Geriatric    Reclaimed\n",
       "18060              1  Female   Geriatric       Foster\n",
       "18061              1  Female   Geriatric     Adoption\n",
       "18062              1  Female       Adult     Transfer\n",
       "18063              1    Male  Adolescent       Foster\n",
       "\n",
       "[18064 rows x 4 columns]"
      ]
     },
     "execution_count": 6,
     "metadata": {},
     "output_type": "execute_result"
    }
   ],
   "source": [
    "shelter1"
   ]
  },
  {
   "cell_type": "markdown",
   "id": "ad948ebc",
   "metadata": {},
   "source": [
    "# create new columns for DogAgeGroup"
   ]
  },
  {
   "cell_type": "code",
   "execution_count": 7,
   "id": "cd208e50",
   "metadata": {},
   "outputs": [
    {
     "data": {
      "text/plain": [
       "Adult         7672\n",
       "Adolescent    6388\n",
       "Mature        1394\n",
       "Puppy         1077\n",
       "Senior         793\n",
       "Geriatric      740\n",
       "Name: DogAgeGroup, dtype: int64"
      ]
     },
     "execution_count": 7,
     "metadata": {},
     "output_type": "execute_result"
    }
   ],
   "source": [
    "shelter1.DogAgeGroup.value_counts()"
   ]
  },
  {
   "cell_type": "code",
   "execution_count": 8,
   "id": "db772b11",
   "metadata": {},
   "outputs": [
    {
     "data": {
      "text/html": [
       "<div>\n",
       "<style scoped>\n",
       "    .dataframe tbody tr th:only-of-type {\n",
       "        vertical-align: middle;\n",
       "    }\n",
       "\n",
       "    .dataframe tbody tr th {\n",
       "        vertical-align: top;\n",
       "    }\n",
       "\n",
       "    .dataframe thead th {\n",
       "        text-align: right;\n",
       "    }\n",
       "</style>\n",
       "<table border=\"1\" class=\"dataframe\">\n",
       "  <thead>\n",
       "    <tr style=\"text-align: right;\">\n",
       "      <th></th>\n",
       "      <th>Adolescent</th>\n",
       "      <th>Adult</th>\n",
       "      <th>Geriatric</th>\n",
       "      <th>Mature</th>\n",
       "      <th>Puppy</th>\n",
       "      <th>Senior</th>\n",
       "    </tr>\n",
       "  </thead>\n",
       "  <tbody>\n",
       "    <tr>\n",
       "      <th>0</th>\n",
       "      <td>0</td>\n",
       "      <td>0</td>\n",
       "      <td>0</td>\n",
       "      <td>0</td>\n",
       "      <td>0</td>\n",
       "      <td>1</td>\n",
       "    </tr>\n",
       "    <tr>\n",
       "      <th>1</th>\n",
       "      <td>0</td>\n",
       "      <td>0</td>\n",
       "      <td>0</td>\n",
       "      <td>0</td>\n",
       "      <td>0</td>\n",
       "      <td>1</td>\n",
       "    </tr>\n",
       "    <tr>\n",
       "      <th>2</th>\n",
       "      <td>0</td>\n",
       "      <td>0</td>\n",
       "      <td>0</td>\n",
       "      <td>1</td>\n",
       "      <td>0</td>\n",
       "      <td>0</td>\n",
       "    </tr>\n",
       "    <tr>\n",
       "      <th>3</th>\n",
       "      <td>0</td>\n",
       "      <td>0</td>\n",
       "      <td>0</td>\n",
       "      <td>1</td>\n",
       "      <td>0</td>\n",
       "      <td>0</td>\n",
       "    </tr>\n",
       "    <tr>\n",
       "      <th>4</th>\n",
       "      <td>0</td>\n",
       "      <td>0</td>\n",
       "      <td>0</td>\n",
       "      <td>0</td>\n",
       "      <td>0</td>\n",
       "      <td>1</td>\n",
       "    </tr>\n",
       "    <tr>\n",
       "      <th>...</th>\n",
       "      <td>...</td>\n",
       "      <td>...</td>\n",
       "      <td>...</td>\n",
       "      <td>...</td>\n",
       "      <td>...</td>\n",
       "      <td>...</td>\n",
       "    </tr>\n",
       "    <tr>\n",
       "      <th>18059</th>\n",
       "      <td>0</td>\n",
       "      <td>0</td>\n",
       "      <td>1</td>\n",
       "      <td>0</td>\n",
       "      <td>0</td>\n",
       "      <td>0</td>\n",
       "    </tr>\n",
       "    <tr>\n",
       "      <th>18060</th>\n",
       "      <td>0</td>\n",
       "      <td>0</td>\n",
       "      <td>1</td>\n",
       "      <td>0</td>\n",
       "      <td>0</td>\n",
       "      <td>0</td>\n",
       "    </tr>\n",
       "    <tr>\n",
       "      <th>18061</th>\n",
       "      <td>0</td>\n",
       "      <td>0</td>\n",
       "      <td>1</td>\n",
       "      <td>0</td>\n",
       "      <td>0</td>\n",
       "      <td>0</td>\n",
       "    </tr>\n",
       "    <tr>\n",
       "      <th>18062</th>\n",
       "      <td>0</td>\n",
       "      <td>1</td>\n",
       "      <td>0</td>\n",
       "      <td>0</td>\n",
       "      <td>0</td>\n",
       "      <td>0</td>\n",
       "    </tr>\n",
       "    <tr>\n",
       "      <th>18063</th>\n",
       "      <td>1</td>\n",
       "      <td>0</td>\n",
       "      <td>0</td>\n",
       "      <td>0</td>\n",
       "      <td>0</td>\n",
       "      <td>0</td>\n",
       "    </tr>\n",
       "  </tbody>\n",
       "</table>\n",
       "<p>18064 rows × 6 columns</p>\n",
       "</div>"
      ],
      "text/plain": [
       "       Adolescent  Adult  Geriatric  Mature  Puppy  Senior\n",
       "0               0      0          0       0      0       1\n",
       "1               0      0          0       0      0       1\n",
       "2               0      0          0       1      0       0\n",
       "3               0      0          0       1      0       0\n",
       "4               0      0          0       0      0       1\n",
       "...           ...    ...        ...     ...    ...     ...\n",
       "18059           0      0          1       0      0       0\n",
       "18060           0      0          1       0      0       0\n",
       "18061           0      0          1       0      0       0\n",
       "18062           0      1          0       0      0       0\n",
       "18063           1      0          0       0      0       0\n",
       "\n",
       "[18064 rows x 6 columns]"
      ]
     },
     "execution_count": 8,
     "metadata": {},
     "output_type": "execute_result"
    }
   ],
   "source": [
    "dummy_ages = pd.get_dummies(shelter1['DogAgeGroup'])\n",
    "dummy_ages"
   ]
  },
  {
   "cell_type": "markdown",
   "id": "1a9da838",
   "metadata": {},
   "source": [
    "# merge dummy code with data"
   ]
  },
  {
   "cell_type": "code",
   "execution_count": 9,
   "id": "4a18e1e3",
   "metadata": {},
   "outputs": [
    {
     "data": {
      "text/html": [
       "<div>\n",
       "<style scoped>\n",
       "    .dataframe tbody tr th:only-of-type {\n",
       "        vertical-align: middle;\n",
       "    }\n",
       "\n",
       "    .dataframe tbody tr th {\n",
       "        vertical-align: top;\n",
       "    }\n",
       "\n",
       "    .dataframe thead th {\n",
       "        text-align: right;\n",
       "    }\n",
       "</style>\n",
       "<table border=\"1\" class=\"dataframe\">\n",
       "  <thead>\n",
       "    <tr style=\"text-align: right;\">\n",
       "      <th></th>\n",
       "      <th>movementMonth</th>\n",
       "      <th>sexname</th>\n",
       "      <th>DogAgeGroup</th>\n",
       "      <th>movementtype</th>\n",
       "      <th>Adolescent</th>\n",
       "      <th>Adult</th>\n",
       "      <th>Geriatric</th>\n",
       "      <th>Mature</th>\n",
       "      <th>Puppy</th>\n",
       "      <th>Senior</th>\n",
       "    </tr>\n",
       "  </thead>\n",
       "  <tbody>\n",
       "    <tr>\n",
       "      <th>0</th>\n",
       "      <td>5</td>\n",
       "      <td>Female</td>\n",
       "      <td>Senior</td>\n",
       "      <td>Adoption</td>\n",
       "      <td>0</td>\n",
       "      <td>0</td>\n",
       "      <td>0</td>\n",
       "      <td>0</td>\n",
       "      <td>0</td>\n",
       "      <td>1</td>\n",
       "    </tr>\n",
       "    <tr>\n",
       "      <th>1</th>\n",
       "      <td>4</td>\n",
       "      <td>Male</td>\n",
       "      <td>Senior</td>\n",
       "      <td>Adoption</td>\n",
       "      <td>0</td>\n",
       "      <td>0</td>\n",
       "      <td>0</td>\n",
       "      <td>0</td>\n",
       "      <td>0</td>\n",
       "      <td>1</td>\n",
       "    </tr>\n",
       "    <tr>\n",
       "      <th>2</th>\n",
       "      <td>4</td>\n",
       "      <td>Female</td>\n",
       "      <td>Mature</td>\n",
       "      <td>Adoption</td>\n",
       "      <td>0</td>\n",
       "      <td>0</td>\n",
       "      <td>0</td>\n",
       "      <td>1</td>\n",
       "      <td>0</td>\n",
       "      <td>0</td>\n",
       "    </tr>\n",
       "    <tr>\n",
       "      <th>3</th>\n",
       "      <td>2</td>\n",
       "      <td>Female</td>\n",
       "      <td>Mature</td>\n",
       "      <td>Reclaimed</td>\n",
       "      <td>0</td>\n",
       "      <td>0</td>\n",
       "      <td>0</td>\n",
       "      <td>1</td>\n",
       "      <td>0</td>\n",
       "      <td>0</td>\n",
       "    </tr>\n",
       "    <tr>\n",
       "      <th>4</th>\n",
       "      <td>4</td>\n",
       "      <td>Female</td>\n",
       "      <td>Senior</td>\n",
       "      <td>Foster</td>\n",
       "      <td>0</td>\n",
       "      <td>0</td>\n",
       "      <td>0</td>\n",
       "      <td>0</td>\n",
       "      <td>0</td>\n",
       "      <td>1</td>\n",
       "    </tr>\n",
       "    <tr>\n",
       "      <th>...</th>\n",
       "      <td>...</td>\n",
       "      <td>...</td>\n",
       "      <td>...</td>\n",
       "      <td>...</td>\n",
       "      <td>...</td>\n",
       "      <td>...</td>\n",
       "      <td>...</td>\n",
       "      <td>...</td>\n",
       "      <td>...</td>\n",
       "      <td>...</td>\n",
       "    </tr>\n",
       "    <tr>\n",
       "      <th>18059</th>\n",
       "      <td>1</td>\n",
       "      <td>Female</td>\n",
       "      <td>Geriatric</td>\n",
       "      <td>Reclaimed</td>\n",
       "      <td>0</td>\n",
       "      <td>0</td>\n",
       "      <td>1</td>\n",
       "      <td>0</td>\n",
       "      <td>0</td>\n",
       "      <td>0</td>\n",
       "    </tr>\n",
       "    <tr>\n",
       "      <th>18060</th>\n",
       "      <td>1</td>\n",
       "      <td>Female</td>\n",
       "      <td>Geriatric</td>\n",
       "      <td>Foster</td>\n",
       "      <td>0</td>\n",
       "      <td>0</td>\n",
       "      <td>1</td>\n",
       "      <td>0</td>\n",
       "      <td>0</td>\n",
       "      <td>0</td>\n",
       "    </tr>\n",
       "    <tr>\n",
       "      <th>18061</th>\n",
       "      <td>1</td>\n",
       "      <td>Female</td>\n",
       "      <td>Geriatric</td>\n",
       "      <td>Adoption</td>\n",
       "      <td>0</td>\n",
       "      <td>0</td>\n",
       "      <td>1</td>\n",
       "      <td>0</td>\n",
       "      <td>0</td>\n",
       "      <td>0</td>\n",
       "    </tr>\n",
       "    <tr>\n",
       "      <th>18062</th>\n",
       "      <td>1</td>\n",
       "      <td>Female</td>\n",
       "      <td>Adult</td>\n",
       "      <td>Transfer</td>\n",
       "      <td>0</td>\n",
       "      <td>1</td>\n",
       "      <td>0</td>\n",
       "      <td>0</td>\n",
       "      <td>0</td>\n",
       "      <td>0</td>\n",
       "    </tr>\n",
       "    <tr>\n",
       "      <th>18063</th>\n",
       "      <td>1</td>\n",
       "      <td>Male</td>\n",
       "      <td>Adolescent</td>\n",
       "      <td>Foster</td>\n",
       "      <td>1</td>\n",
       "      <td>0</td>\n",
       "      <td>0</td>\n",
       "      <td>0</td>\n",
       "      <td>0</td>\n",
       "      <td>0</td>\n",
       "    </tr>\n",
       "  </tbody>\n",
       "</table>\n",
       "<p>18064 rows × 10 columns</p>\n",
       "</div>"
      ],
      "text/plain": [
       "       movementMonth sexname DogAgeGroup movementtype  Adolescent  Adult  \\\n",
       "0                  5  Female      Senior     Adoption           0      0   \n",
       "1                  4    Male      Senior     Adoption           0      0   \n",
       "2                  4  Female      Mature     Adoption           0      0   \n",
       "3                  2  Female      Mature    Reclaimed           0      0   \n",
       "4                  4  Female      Senior       Foster           0      0   \n",
       "...              ...     ...         ...          ...         ...    ...   \n",
       "18059              1  Female   Geriatric    Reclaimed           0      0   \n",
       "18060              1  Female   Geriatric       Foster           0      0   \n",
       "18061              1  Female   Geriatric     Adoption           0      0   \n",
       "18062              1  Female       Adult     Transfer           0      1   \n",
       "18063              1    Male  Adolescent       Foster           1      0   \n",
       "\n",
       "       Geriatric  Mature  Puppy  Senior  \n",
       "0              0       0      0       1  \n",
       "1              0       0      0       1  \n",
       "2              0       1      0       0  \n",
       "3              0       1      0       0  \n",
       "4              0       0      0       1  \n",
       "...          ...     ...    ...     ...  \n",
       "18059          1       0      0       0  \n",
       "18060          1       0      0       0  \n",
       "18061          1       0      0       0  \n",
       "18062          0       0      0       0  \n",
       "18063          0       0      0       0  \n",
       "\n",
       "[18064 rows x 10 columns]"
      ]
     },
     "execution_count": 9,
     "metadata": {},
     "output_type": "execute_result"
    }
   ],
   "source": [
    "shelter2 = pd.concat([shelter1, dummy_ages], axis = 1)\n",
    "shelter2"
   ]
  },
  {
   "cell_type": "markdown",
   "id": "22f41c75",
   "metadata": {},
   "source": [
    "# recode sexname from male, female to 0,1"
   ]
  },
  {
   "cell_type": "code",
   "execution_count": 10,
   "id": "0a5db6ac",
   "metadata": {},
   "outputs": [],
   "source": [
    "def sexnameR (series):\n",
    "    if series == 'Male':\n",
    "        return 0\n",
    "    if series == 'Female':\n",
    "        return 1\n",
    "shelter2['sexnameR'] = shelter['sexname'].apply(sexnameR)"
   ]
  },
  {
   "cell_type": "code",
   "execution_count": 11,
   "id": "e268fc39",
   "metadata": {},
   "outputs": [
    {
     "data": {
      "text/html": [
       "<div>\n",
       "<style scoped>\n",
       "    .dataframe tbody tr th:only-of-type {\n",
       "        vertical-align: middle;\n",
       "    }\n",
       "\n",
       "    .dataframe tbody tr th {\n",
       "        vertical-align: top;\n",
       "    }\n",
       "\n",
       "    .dataframe thead th {\n",
       "        text-align: right;\n",
       "    }\n",
       "</style>\n",
       "<table border=\"1\" class=\"dataframe\">\n",
       "  <thead>\n",
       "    <tr style=\"text-align: right;\">\n",
       "      <th></th>\n",
       "      <th>movementMonth</th>\n",
       "      <th>sexname</th>\n",
       "      <th>DogAgeGroup</th>\n",
       "      <th>movementtype</th>\n",
       "      <th>Adolescent</th>\n",
       "      <th>Adult</th>\n",
       "      <th>Geriatric</th>\n",
       "      <th>Mature</th>\n",
       "      <th>Puppy</th>\n",
       "      <th>Senior</th>\n",
       "      <th>sexnameR</th>\n",
       "    </tr>\n",
       "  </thead>\n",
       "  <tbody>\n",
       "    <tr>\n",
       "      <th>0</th>\n",
       "      <td>5</td>\n",
       "      <td>Female</td>\n",
       "      <td>Senior</td>\n",
       "      <td>Adoption</td>\n",
       "      <td>0</td>\n",
       "      <td>0</td>\n",
       "      <td>0</td>\n",
       "      <td>0</td>\n",
       "      <td>0</td>\n",
       "      <td>1</td>\n",
       "      <td>1</td>\n",
       "    </tr>\n",
       "    <tr>\n",
       "      <th>1</th>\n",
       "      <td>4</td>\n",
       "      <td>Male</td>\n",
       "      <td>Senior</td>\n",
       "      <td>Adoption</td>\n",
       "      <td>0</td>\n",
       "      <td>0</td>\n",
       "      <td>0</td>\n",
       "      <td>0</td>\n",
       "      <td>0</td>\n",
       "      <td>1</td>\n",
       "      <td>0</td>\n",
       "    </tr>\n",
       "    <tr>\n",
       "      <th>2</th>\n",
       "      <td>4</td>\n",
       "      <td>Female</td>\n",
       "      <td>Mature</td>\n",
       "      <td>Adoption</td>\n",
       "      <td>0</td>\n",
       "      <td>0</td>\n",
       "      <td>0</td>\n",
       "      <td>1</td>\n",
       "      <td>0</td>\n",
       "      <td>0</td>\n",
       "      <td>1</td>\n",
       "    </tr>\n",
       "    <tr>\n",
       "      <th>3</th>\n",
       "      <td>2</td>\n",
       "      <td>Female</td>\n",
       "      <td>Mature</td>\n",
       "      <td>Reclaimed</td>\n",
       "      <td>0</td>\n",
       "      <td>0</td>\n",
       "      <td>0</td>\n",
       "      <td>1</td>\n",
       "      <td>0</td>\n",
       "      <td>0</td>\n",
       "      <td>1</td>\n",
       "    </tr>\n",
       "    <tr>\n",
       "      <th>4</th>\n",
       "      <td>4</td>\n",
       "      <td>Female</td>\n",
       "      <td>Senior</td>\n",
       "      <td>Foster</td>\n",
       "      <td>0</td>\n",
       "      <td>0</td>\n",
       "      <td>0</td>\n",
       "      <td>0</td>\n",
       "      <td>0</td>\n",
       "      <td>1</td>\n",
       "      <td>1</td>\n",
       "    </tr>\n",
       "    <tr>\n",
       "      <th>...</th>\n",
       "      <td>...</td>\n",
       "      <td>...</td>\n",
       "      <td>...</td>\n",
       "      <td>...</td>\n",
       "      <td>...</td>\n",
       "      <td>...</td>\n",
       "      <td>...</td>\n",
       "      <td>...</td>\n",
       "      <td>...</td>\n",
       "      <td>...</td>\n",
       "      <td>...</td>\n",
       "    </tr>\n",
       "    <tr>\n",
       "      <th>18059</th>\n",
       "      <td>1</td>\n",
       "      <td>Female</td>\n",
       "      <td>Geriatric</td>\n",
       "      <td>Reclaimed</td>\n",
       "      <td>0</td>\n",
       "      <td>0</td>\n",
       "      <td>1</td>\n",
       "      <td>0</td>\n",
       "      <td>0</td>\n",
       "      <td>0</td>\n",
       "      <td>1</td>\n",
       "    </tr>\n",
       "    <tr>\n",
       "      <th>18060</th>\n",
       "      <td>1</td>\n",
       "      <td>Female</td>\n",
       "      <td>Geriatric</td>\n",
       "      <td>Foster</td>\n",
       "      <td>0</td>\n",
       "      <td>0</td>\n",
       "      <td>1</td>\n",
       "      <td>0</td>\n",
       "      <td>0</td>\n",
       "      <td>0</td>\n",
       "      <td>1</td>\n",
       "    </tr>\n",
       "    <tr>\n",
       "      <th>18061</th>\n",
       "      <td>1</td>\n",
       "      <td>Female</td>\n",
       "      <td>Geriatric</td>\n",
       "      <td>Adoption</td>\n",
       "      <td>0</td>\n",
       "      <td>0</td>\n",
       "      <td>1</td>\n",
       "      <td>0</td>\n",
       "      <td>0</td>\n",
       "      <td>0</td>\n",
       "      <td>1</td>\n",
       "    </tr>\n",
       "    <tr>\n",
       "      <th>18062</th>\n",
       "      <td>1</td>\n",
       "      <td>Female</td>\n",
       "      <td>Adult</td>\n",
       "      <td>Transfer</td>\n",
       "      <td>0</td>\n",
       "      <td>1</td>\n",
       "      <td>0</td>\n",
       "      <td>0</td>\n",
       "      <td>0</td>\n",
       "      <td>0</td>\n",
       "      <td>1</td>\n",
       "    </tr>\n",
       "    <tr>\n",
       "      <th>18063</th>\n",
       "      <td>1</td>\n",
       "      <td>Male</td>\n",
       "      <td>Adolescent</td>\n",
       "      <td>Foster</td>\n",
       "      <td>1</td>\n",
       "      <td>0</td>\n",
       "      <td>0</td>\n",
       "      <td>0</td>\n",
       "      <td>0</td>\n",
       "      <td>0</td>\n",
       "      <td>0</td>\n",
       "    </tr>\n",
       "  </tbody>\n",
       "</table>\n",
       "<p>18064 rows × 11 columns</p>\n",
       "</div>"
      ],
      "text/plain": [
       "       movementMonth sexname DogAgeGroup movementtype  Adolescent  Adult  \\\n",
       "0                  5  Female      Senior     Adoption           0      0   \n",
       "1                  4    Male      Senior     Adoption           0      0   \n",
       "2                  4  Female      Mature     Adoption           0      0   \n",
       "3                  2  Female      Mature    Reclaimed           0      0   \n",
       "4                  4  Female      Senior       Foster           0      0   \n",
       "...              ...     ...         ...          ...         ...    ...   \n",
       "18059              1  Female   Geriatric    Reclaimed           0      0   \n",
       "18060              1  Female   Geriatric       Foster           0      0   \n",
       "18061              1  Female   Geriatric     Adoption           0      0   \n",
       "18062              1  Female       Adult     Transfer           0      1   \n",
       "18063              1    Male  Adolescent       Foster           1      0   \n",
       "\n",
       "       Geriatric  Mature  Puppy  Senior  sexnameR  \n",
       "0              0       0      0       1         1  \n",
       "1              0       0      0       1         0  \n",
       "2              0       1      0       0         1  \n",
       "3              0       1      0       0         1  \n",
       "4              0       0      0       1         1  \n",
       "...          ...     ...    ...     ...       ...  \n",
       "18059          1       0      0       0         1  \n",
       "18060          1       0      0       0         1  \n",
       "18061          1       0      0       0         1  \n",
       "18062          0       0      0       0         1  \n",
       "18063          0       0      0       0         0  \n",
       "\n",
       "[18064 rows x 11 columns]"
      ]
     },
     "execution_count": 11,
     "metadata": {},
     "output_type": "execute_result"
    }
   ],
   "source": [
    "shelter2"
   ]
  },
  {
   "cell_type": "markdown",
   "id": "4f5e943d",
   "metadata": {},
   "source": [
    "# recode movementtype to show 'Adoption' vs 'No adoption'"
   ]
  },
  {
   "cell_type": "code",
   "execution_count": 12,
   "id": "e25adb75",
   "metadata": {},
   "outputs": [
    {
     "data": {
      "text/plain": [
       "Adoption            10403\n",
       "Foster               4847\n",
       "Reclaimed            2381\n",
       "Transfer              392\n",
       "Released To Wild       25\n",
       "Stolen                  8\n",
       "Escaped                 8\n",
       "Name: movementtype, dtype: int64"
      ]
     },
     "execution_count": 12,
     "metadata": {},
     "output_type": "execute_result"
    }
   ],
   "source": [
    "shelter2.movementtype.value_counts()"
   ]
  },
  {
   "cell_type": "code",
   "execution_count": 13,
   "id": "684ee1ed",
   "metadata": {},
   "outputs": [],
   "source": [
    "def movementtypeR (series):\n",
    "    if series == 'Adoption':\n",
    "        return 1\n",
    "    else:\n",
    "        return 0\n",
    "shelter2['movementtypeR'] = shelter['movementtype'].apply(movementtypeR)"
   ]
  },
  {
   "cell_type": "code",
   "execution_count": 14,
   "id": "6f1cef72",
   "metadata": {},
   "outputs": [
    {
     "name": "stdout",
     "output_type": "stream",
     "text": [
      "<class 'pandas.core.frame.DataFrame'>\n",
      "RangeIndex: 18064 entries, 0 to 18063\n",
      "Data columns (total 12 columns):\n",
      " #   Column         Non-Null Count  Dtype \n",
      "---  ------         --------------  ----- \n",
      " 0   movementMonth  18064 non-null  int64 \n",
      " 1   sexname        18064 non-null  object\n",
      " 2   DogAgeGroup    18064 non-null  object\n",
      " 3   movementtype   18064 non-null  object\n",
      " 4   Adolescent     18064 non-null  uint8 \n",
      " 5   Adult          18064 non-null  uint8 \n",
      " 6   Geriatric      18064 non-null  uint8 \n",
      " 7   Mature         18064 non-null  uint8 \n",
      " 8   Puppy          18064 non-null  uint8 \n",
      " 9   Senior         18064 non-null  uint8 \n",
      " 10  sexnameR       18064 non-null  int64 \n",
      " 11  movementtypeR  18064 non-null  int64 \n",
      "dtypes: int64(3), object(3), uint8(6)\n",
      "memory usage: 952.7+ KB\n"
     ]
    }
   ],
   "source": [
    "shelter2.info()"
   ]
  },
  {
   "cell_type": "markdown",
   "id": "a999acd5",
   "metadata": {},
   "source": [
    "# convert uint8 to int64"
   ]
  },
  {
   "cell_type": "code",
   "execution_count": 15,
   "id": "25fdc07e",
   "metadata": {},
   "outputs": [
    {
     "name": "stdout",
     "output_type": "stream",
     "text": [
      "0        0\n",
      "1        0\n",
      "2        0\n",
      "3        0\n",
      "4        0\n",
      "        ..\n",
      "18059    0\n",
      "18060    0\n",
      "18061    0\n",
      "18062    0\n",
      "18063    1\n",
      "Name: Adolescent, Length: 18064, dtype: int64\n"
     ]
    }
   ],
   "source": [
    "shelter2['Adolescent'] = shelter2['Adolescent'].astype(np.int64)\n",
    "print (shelter2['Adolescent'])"
   ]
  },
  {
   "cell_type": "code",
   "execution_count": 16,
   "id": "8cc75dcd",
   "metadata": {},
   "outputs": [
    {
     "name": "stdout",
     "output_type": "stream",
     "text": [
      "0        0\n",
      "1        0\n",
      "2        0\n",
      "3        0\n",
      "4        0\n",
      "        ..\n",
      "18059    0\n",
      "18060    0\n",
      "18061    0\n",
      "18062    1\n",
      "18063    0\n",
      "Name: Adult, Length: 18064, dtype: int64\n"
     ]
    }
   ],
   "source": [
    "shelter2['Adult'] = shelter2['Adult'].astype(np.int64)\n",
    "print (shelter2['Adult'])"
   ]
  },
  {
   "cell_type": "code",
   "execution_count": 17,
   "id": "3ad48080",
   "metadata": {},
   "outputs": [
    {
     "name": "stdout",
     "output_type": "stream",
     "text": [
      "0        0\n",
      "1        0\n",
      "2        0\n",
      "3        0\n",
      "4        0\n",
      "        ..\n",
      "18059    1\n",
      "18060    1\n",
      "18061    1\n",
      "18062    0\n",
      "18063    0\n",
      "Name: Geriatric, Length: 18064, dtype: int64\n"
     ]
    }
   ],
   "source": [
    "shelter2['Geriatric'] = shelter2['Geriatric'].astype(np.int64)\n",
    "print (shelter2['Geriatric'])"
   ]
  },
  {
   "cell_type": "code",
   "execution_count": 18,
   "id": "da7f829c",
   "metadata": {},
   "outputs": [
    {
     "name": "stdout",
     "output_type": "stream",
     "text": [
      "0        0\n",
      "1        0\n",
      "2        0\n",
      "3        0\n",
      "4        0\n",
      "        ..\n",
      "18059    0\n",
      "18060    0\n",
      "18061    0\n",
      "18062    0\n",
      "18063    0\n",
      "Name: Puppy, Length: 18064, dtype: int64\n"
     ]
    }
   ],
   "source": [
    "shelter2['Puppy'] = shelter2['Puppy'].astype(np.int64)\n",
    "print (shelter2['Puppy'])"
   ]
  },
  {
   "cell_type": "code",
   "execution_count": 19,
   "id": "60dded54",
   "metadata": {},
   "outputs": [
    {
     "name": "stdout",
     "output_type": "stream",
     "text": [
      "0        0\n",
      "1        0\n",
      "2        1\n",
      "3        1\n",
      "4        0\n",
      "        ..\n",
      "18059    0\n",
      "18060    0\n",
      "18061    0\n",
      "18062    0\n",
      "18063    0\n",
      "Name: Mature, Length: 18064, dtype: int64\n"
     ]
    }
   ],
   "source": [
    "shelter2['Mature'] = shelter2['Mature'].astype(np.int64)\n",
    "print (shelter2['Mature'])"
   ]
  },
  {
   "cell_type": "code",
   "execution_count": 20,
   "id": "9316d111",
   "metadata": {},
   "outputs": [
    {
     "name": "stdout",
     "output_type": "stream",
     "text": [
      "0        1\n",
      "1        1\n",
      "2        0\n",
      "3        0\n",
      "4        1\n",
      "        ..\n",
      "18059    0\n",
      "18060    0\n",
      "18061    0\n",
      "18062    0\n",
      "18063    0\n",
      "Name: Senior, Length: 18064, dtype: int64\n"
     ]
    }
   ],
   "source": [
    "shelter2['Senior'] = shelter2['Senior'].astype(np.int64)\n",
    "print (shelter2['Senior'])"
   ]
  },
  {
   "cell_type": "code",
   "execution_count": 21,
   "id": "12815772",
   "metadata": {},
   "outputs": [
    {
     "name": "stdout",
     "output_type": "stream",
     "text": [
      "<class 'pandas.core.frame.DataFrame'>\n",
      "RangeIndex: 18064 entries, 0 to 18063\n",
      "Data columns (total 12 columns):\n",
      " #   Column         Non-Null Count  Dtype \n",
      "---  ------         --------------  ----- \n",
      " 0   movementMonth  18064 non-null  int64 \n",
      " 1   sexname        18064 non-null  object\n",
      " 2   DogAgeGroup    18064 non-null  object\n",
      " 3   movementtype   18064 non-null  object\n",
      " 4   Adolescent     18064 non-null  int64 \n",
      " 5   Adult          18064 non-null  int64 \n",
      " 6   Geriatric      18064 non-null  int64 \n",
      " 7   Mature         18064 non-null  int64 \n",
      " 8   Puppy          18064 non-null  int64 \n",
      " 9   Senior         18064 non-null  int64 \n",
      " 10  sexnameR       18064 non-null  int64 \n",
      " 11  movementtypeR  18064 non-null  int64 \n",
      "dtypes: int64(9), object(3)\n",
      "memory usage: 1.7+ MB\n"
     ]
    }
   ],
   "source": [
    "shelter2.info()"
   ]
  },
  {
   "cell_type": "markdown",
   "id": "e98d2a91",
   "metadata": {},
   "source": [
    "# Machine Learning"
   ]
  },
  {
   "cell_type": "markdown",
   "id": "2524dac4",
   "metadata": {},
   "source": [
    "# import packages"
   ]
  },
  {
   "cell_type": "code",
   "execution_count": 22,
   "id": "758a212a",
   "metadata": {},
   "outputs": [],
   "source": [
    "from sklearn.model_selection import KFold\n",
    "from sklearn.model_selection import cross_val_score\n",
    "\n",
    "from sklearn.linear_model import LinearRegression\n",
    "from sklearn.model_selection import train_test_split\n",
    "import matplotlib.pyplot as plt\n",
    "%matplotlib inline\n",
    "from sklearn import metrics\n",
    "from sklearn.ensemble import RandomForestClassifier\n",
    "from sklearn.metrics import classification_report, confusion_matrix"
   ]
  },
  {
   "cell_type": "markdown",
   "id": "29c1030b",
   "metadata": {},
   "source": [
    "# creating subsets for x, y variables"
   ]
  },
  {
   "cell_type": "code",
   "execution_count": 23,
   "id": "f75ea2f6",
   "metadata": {},
   "outputs": [],
   "source": [
    "x= shelter2[[ 'Adult', 'Geriatric', 'Puppy', 'Mature', 'Adolescent', 'Senior', \n",
    "             'sexnameR', 'movementMonth']]\n",
    "y= shelter2['movementtypeR']"
   ]
  },
  {
   "cell_type": "markdown",
   "id": "dfa1a1f1",
   "metadata": {},
   "source": [
    "# Train test split"
   ]
  },
  {
   "cell_type": "code",
   "execution_count": 24,
   "id": "4f1b32eb",
   "metadata": {},
   "outputs": [],
   "source": [
    "x_train, x_test, y_train, y_test = train_test_split(x,y, test_size = 0.4, random_state = 101)"
   ]
  },
  {
   "cell_type": "markdown",
   "id": "e9753830",
   "metadata": {},
   "source": [
    "# initial random forest model"
   ]
  },
  {
   "cell_type": "code",
   "execution_count": 25,
   "id": "9e398447",
   "metadata": {},
   "outputs": [
    {
     "data": {
      "text/plain": [
       "RandomForestClassifier(n_estimators=500)"
      ]
     },
     "execution_count": 25,
     "metadata": {},
     "output_type": "execute_result"
    }
   ],
   "source": [
    "forest= RandomForestClassifier(n_estimators = 500)\n",
    "forest.fit(x_train, y_train)"
   ]
  },
  {
   "cell_type": "markdown",
   "id": "19e171a7",
   "metadata": {},
   "source": [
    "# evaluate model fit"
   ]
  },
  {
   "cell_type": "code",
   "execution_count": 26,
   "id": "8a6be46a",
   "metadata": {},
   "outputs": [
    {
     "name": "stdout",
     "output_type": "stream",
     "text": [
      "[[ 812 2236]\n",
      " [ 609 3569]]\n",
      "              precision    recall  f1-score   support\n",
      "\n",
      "           0       0.57      0.27      0.36      3048\n",
      "           1       0.61      0.85      0.72      4178\n",
      "\n",
      "    accuracy                           0.61      7226\n",
      "   macro avg       0.59      0.56      0.54      7226\n",
      "weighted avg       0.60      0.61      0.57      7226\n",
      "\n"
     ]
    }
   ],
   "source": [
    "forestPredictions = forest.predict(x_test)\n",
    "print (confusion_matrix(y_test, forestPredictions))\n",
    "print (classification_report(y_test, forestPredictions))"
   ]
  },
  {
   "cell_type": "markdown",
   "id": "3ea50c0b",
   "metadata": {},
   "source": [
    "# hyperparameter tuning"
   ]
  },
  {
   "cell_type": "markdown",
   "id": "11da042b",
   "metadata": {},
   "source": [
    "# import packages"
   ]
  },
  {
   "cell_type": "code",
   "execution_count": 27,
   "id": "5f778cce",
   "metadata": {},
   "outputs": [],
   "source": [
    "from sklearn.model_selection import RandomizedSearchCV\n",
    "from sklearn.metrics import accuracy_score"
   ]
  },
  {
   "cell_type": "markdown",
   "id": "6988e95a",
   "metadata": {},
   "source": [
    "# number of estimators"
   ]
  },
  {
   "cell_type": "code",
   "execution_count": 28,
   "id": "ecaa6a28",
   "metadata": {},
   "outputs": [
    {
     "name": "stdout",
     "output_type": "stream",
     "text": [
      "1 : 0.6066980348740659\n",
      "4 : 0.6024079712150567\n",
      "5 : 0.6071132023249377\n",
      "8 : 0.6018544146138942\n",
      "10 : 0.6007473014115693\n",
      "20 : 0.6054525325214504\n",
      "50 : 0.6066980348740659\n",
      "75 : 0.6061444782729034\n",
      "100 : 0.6078051480763909\n",
      "250 : 0.6054525325214504\n",
      "500 : 0.6057293108220315\n"
     ]
    }
   ],
   "source": [
    "n_estimators_array = [1, 4, 5, 8, 10, 20, 50, 75, 100, 250, 500]\n",
    "results = []\n",
    "for n in n_estimators_array:\n",
    "    forest = RandomForestClassifier(n_estimators=n)\n",
    "    forest.fit(x_train, y_train)\n",
    "    result = accuracy_score(y_test, forest.predict(x_test))\n",
    "    results.append(result)\n",
    "    print(n, ':', result)"
   ]
  },
  {
   "cell_type": "markdown",
   "id": "9d5f58b5",
   "metadata": {},
   "source": [
    "# use 50 trees for best accuracy instead of the standard 500"
   ]
  },
  {
   "cell_type": "markdown",
   "id": "9b5721b8",
   "metadata": {},
   "source": [
    "# plot it"
   ]
  },
  {
   "cell_type": "code",
   "execution_count": 29,
   "id": "12af8543",
   "metadata": {},
   "outputs": [
    {
     "data": {
      "text/plain": [
       "[<matplotlib.lines.Line2D at 0x1e5fb66a520>]"
      ]
     },
     "execution_count": 29,
     "metadata": {},
     "output_type": "execute_result"
    },
    {
     "data": {
      "image/png": "[encoded data removed]",
      "text/plain": [
       "<Figure size 432x288 with 1 Axes>"
      ]
     },
     "metadata": {
      "needs_background": "light"
     },
     "output_type": "display_data"
    }
   ],
   "source": [
    "plt.plot(n_estimators_array, results)"
   ]
  },
  {
   "cell_type": "markdown",
   "id": "6cfcdb3a",
   "metadata": {},
   "source": [
    "# tuning the remaining"
   ]
  },
  {
   "cell_type": "code",
   "execution_count": 30,
   "id": "63b4808e",
   "metadata": {},
   "outputs": [
    {
     "name": "stdout",
     "output_type": "stream",
     "text": [
      "{'max_features': ['auto', None, 'log2'], 'max_depth': [10, 20, 30, 40, 50, 60, 70, 80, 90, None], 'min_samples_leaf': [1, 2, 4]}\n"
     ]
    }
   ],
   "source": [
    "# Number of features to consider at every split\n",
    "max_features = ['auto', None, 'log2']\n",
    "# Maximum number of levels in tree\n",
    "max_depth = [10, 20, 30, 40, 50, 60, 70, 80, 90, None]\n",
    "# Minimum number of samples required at each leaf node\n",
    "min_samples_leaf = [1, 2, 4]\n",
    "# Method of selecting samples for training each tree\n",
    "random_grid = {'max_features': max_features,\n",
    "               'max_depth': max_depth,\n",
    "               'min_samples_leaf': min_samples_leaf}\n",
    "print(random_grid)"
   ]
  },
  {
   "cell_type": "markdown",
   "id": "fa93d7ab",
   "metadata": {},
   "source": [
    "# this code gives a random search of the random_grid"
   ]
  },
  {
   "cell_type": "code",
   "execution_count": 31,
   "id": "f9432f27",
   "metadata": {},
   "outputs": [],
   "source": [
    "rf= RandomForestClassifier(n_estimators=10)\n",
    "rf_random = RandomizedSearchCV(estimator = rf, param_distributions = random_grid, n_iter=90, cv=3, random_state=42)"
   ]
  },
  {
   "cell_type": "markdown",
   "id": "46224ebf",
   "metadata": {},
   "source": [
    "# fit"
   ]
  },
  {
   "cell_type": "code",
   "execution_count": 32,
   "id": "d53361d2",
   "metadata": {},
   "outputs": [
    {
     "data": {
      "text/plain": [
       "RandomizedSearchCV(cv=3, estimator=RandomForestClassifier(n_estimators=10),\n",
       "                   n_iter=90,\n",
       "                   param_distributions={'max_depth': [10, 20, 30, 40, 50, 60,\n",
       "                                                      70, 80, 90, None],\n",
       "                                        'max_features': ['auto', None, 'log2'],\n",
       "                                        'min_samples_leaf': [1, 2, 4]},\n",
       "                   random_state=42)"
      ]
     },
     "execution_count": 32,
     "metadata": {},
     "output_type": "execute_result"
    }
   ],
   "source": [
    "rf_random.fit(x_train, y_train)"
   ]
  },
  {
   "cell_type": "markdown",
   "id": "61cbb060",
   "metadata": {},
   "source": [
    "# best accuracy hyperparameter"
   ]
  },
  {
   "cell_type": "code",
   "execution_count": 33,
   "id": "199af84b",
   "metadata": {},
   "outputs": [
    {
     "data": {
      "text/plain": [
       "{'min_samples_leaf': 2, 'max_features': 'auto', 'max_depth': 30}"
      ]
     },
     "execution_count": 33,
     "metadata": {},
     "output_type": "execute_result"
    }
   ],
   "source": [
    "rf_random.best_params_"
   ]
  },
  {
   "cell_type": "markdown",
   "id": "d3282cd2",
   "metadata": {},
   "source": [
    "# model with the best accuracy has at least 2 samples per leaf, max features at auto, and a maximum depth of 70"
   ]
  },
  {
   "cell_type": "markdown",
   "id": "e1619ea1",
   "metadata": {},
   "source": [
    "# run random forest with these parameters"
   ]
  },
  {
   "cell_type": "code",
   "execution_count": 34,
   "id": "208721c5",
   "metadata": {},
   "outputs": [
    {
     "data": {
      "text/plain": [
       "RandomForestClassifier(max_depth=10, max_features='log2', min_samples_leaf=2,\n",
       "                       n_estimators=10)"
      ]
     },
     "execution_count": 34,
     "metadata": {},
     "output_type": "execute_result"
    }
   ],
   "source": [
    "forest= RandomForestClassifier(n_estimators = 10, min_samples_leaf = 2, max_features = 'log2', max_depth=10)\n",
    "forest.fit(x_train, y_train)"
   ]
  },
  {
   "cell_type": "markdown",
   "id": "8fdc3226",
   "metadata": {},
   "source": [
    "# run prediction and classification report for details"
   ]
  },
  {
   "cell_type": "code",
   "execution_count": 35,
   "id": "bb074a6a",
   "metadata": {},
   "outputs": [
    {
     "name": "stdout",
     "output_type": "stream",
     "text": [
      "[[ 870 2178]\n",
      " [ 682 3496]]\n",
      "              precision    recall  f1-score   support\n",
      "\n",
      "           0       0.56      0.29      0.38      3048\n",
      "           1       0.62      0.84      0.71      4178\n",
      "\n",
      "    accuracy                           0.60      7226\n",
      "   macro avg       0.59      0.56      0.54      7226\n",
      "weighted avg       0.59      0.60      0.57      7226\n",
      "\n"
     ]
    }
   ],
   "source": [
    "forestPredictions = forest.predict(x_test)\n",
    "print(confusion_matrix(y_test, forestPredictions))\n",
    "print(classification_report(y_test, forestPredictions))"
   ]
  },
  {
   "cell_type": "markdown",
   "id": "f6942b04",
   "metadata": {},
   "source": [
    "# 60% accuracy weighted"
   ]
  },
  {
   "cell_type": "markdown",
   "id": "08c80125",
   "metadata": {},
   "source": [
    "# feature importance"
   ]
  },
  {
   "cell_type": "code",
   "execution_count": 36,
   "id": "32bc79c0",
   "metadata": {},
   "outputs": [
    {
     "data": {
      "text/plain": [
       "Adult            0.048330\n",
       "Geriatric        0.128147\n",
       "Puppy            0.046288\n",
       "Mature           0.025660\n",
       "Adolescent       0.057084\n",
       "Senior           0.037475\n",
       "sexnameR         0.039988\n",
       "movementMonth    0.617027\n",
       "dtype: float64"
      ]
     },
     "execution_count": 36,
     "metadata": {},
     "output_type": "execute_result"
    }
   ],
   "source": [
    "feature_importances = pd.Series(forest.feature_importances_, index=x.columns)\n",
    "feature_importances"
   ]
  },
  {
   "cell_type": "markdown",
   "id": "d3e14d4d",
   "metadata": {},
   "source": [
    "# sort values in order of feature importance"
   ]
  },
  {
   "cell_type": "code",
   "execution_count": 37,
   "id": "ce5a49d4",
   "metadata": {},
   "outputs": [
    {
     "name": "stdout",
     "output_type": "stream",
     "text": [
      "movementMonth    0.617027\n",
      "Geriatric        0.128147\n",
      "Adolescent       0.057084\n",
      "Adult            0.048330\n",
      "Puppy            0.046288\n",
      "sexnameR         0.039988\n",
      "Senior           0.037475\n",
      "Mature           0.025660\n",
      "dtype: float64\n"
     ]
    }
   ],
   "source": [
    "feature_importances.sort_values(inplace=True, ascending=False)\n",
    "print(feature_importances)"
   ]
  },
  {
   "cell_type": "markdown",
   "id": "c8c9aa5b",
   "metadata": {},
   "source": [
    "# visualization"
   ]
  },
  {
   "cell_type": "code",
   "execution_count": 38,
   "id": "f259e929",
   "metadata": {},
   "outputs": [
    {
     "data": {
      "text/plain": [
       "<AxesSubplot:>"
      ]
     },
     "execution_count": 38,
     "metadata": {},
     "output_type": "execute_result"
    },
    {
     "data": {
      "image/png": "[encoded data removed]",
      "text/plain": [
       "<Figure size 504x432 with 1 Axes>"
      ]
     },
     "metadata": {
      "needs_background": "light"
     },
     "output_type": "display_data"
    }
   ],
   "source": [
    "feature_importances.plot(kind= 'barh', figsize= (7,6))"
   ]
  },
  {
   "cell_type": "code",
   "execution_count": null,
   "id": "9ceac98e",
   "metadata": {},
   "outputs": [],
   "source": []
  }
 ],
 "metadata": {
  "kernelspec": {
   "display_name": "Python 3",
   "language": "python",
   "name": "python3"
  },
  "language_info": {
   "codemirror_mode": {
    "name": "ipython",
    "version": 3
   },
   "file_extension": ".py",
   "mimetype": "text/x-python",
   "name": "python",
   "nbconvert_exporter": "python",
   "pygments_lexer": "ipython3",
   "version": "3.8.8"
  }
 },
 "nbformat": 4,
 "nbformat_minor": 5
}
