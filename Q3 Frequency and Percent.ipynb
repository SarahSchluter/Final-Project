{
 "cells": [
  {
   "cell_type": "markdown",
   "id": "286960e1",
   "metadata": {},
   "source": [
    "# Import package"
   ]
  },
  {
   "cell_type": "code",
   "execution_count": 1,
   "id": "025f466c",
   "metadata": {},
   "outputs": [],
   "source": [
    "import pandas as pd\n",
    "import matplotlib.mlab as mlab\n",
    "import matplotlib.pyplot as plt"
   ]
  },
  {
   "cell_type": "markdown",
   "id": "89913b58",
   "metadata": {},
   "source": [
    "# Evaluation Question #3: \n",
    "# What are the most common reasons cats and dogs are taken into shelters?"
   ]
  },
  {
   "cell_type": "markdown",
   "id": "6b97e270",
   "metadata": {},
   "source": [
    "# Read in data"
   ]
  },
  {
   "cell_type": "code",
   "execution_count": 2,
   "id": "87217baa",
   "metadata": {
    "scrolled": false
   },
   "outputs": [
    {
     "data": {
      "text/html": [
       "<div>\n",
       "<style scoped>\n",
       "    .dataframe tbody tr th:only-of-type {\n",
       "        vertical-align: middle;\n",
       "    }\n",
       "\n",
       "    .dataframe tbody tr th {\n",
       "        vertical-align: top;\n",
       "    }\n",
       "\n",
       "    .dataframe thead th {\n",
       "        text-align: right;\n",
       "    }\n",
       "</style>\n",
       "<table border=\"1\" class=\"dataframe\">\n",
       "  <thead>\n",
       "    <tr style=\"text-align: right;\">\n",
       "      <th></th>\n",
       "      <th>id</th>\n",
       "      <th>intakereason</th>\n",
       "      <th>breedname</th>\n",
       "      <th>speciesname</th>\n",
       "      <th>sexname</th>\n",
       "      <th>movementtype</th>\n",
       "      <th>intakeDate</th>\n",
       "      <th>movementDate</th>\n",
       "      <th>CatAgeGroup</th>\n",
       "      <th>DogAgeGroup</th>\n",
       "      <th>movementMonth</th>\n",
       "      <th>movementDay</th>\n",
       "      <th>movementYear</th>\n",
       "      <th>intakeMonth</th>\n",
       "      <th>intakeDay</th>\n",
       "      <th>intakeYear</th>\n",
       "    </tr>\n",
       "  </thead>\n",
       "  <tbody>\n",
       "    <tr>\n",
       "      <th>0</th>\n",
       "      <td>15801</td>\n",
       "      <td>Moving</td>\n",
       "      <td>Domestic Short Hair</td>\n",
       "      <td>Cat</td>\n",
       "      <td>Female</td>\n",
       "      <td>Adoption</td>\n",
       "      <td>11/28/2009</td>\n",
       "      <td>05/13/2017</td>\n",
       "      <td>Senior</td>\n",
       "      <td>Senior</td>\n",
       "      <td>5</td>\n",
       "      <td>13</td>\n",
       "      <td>2017</td>\n",
       "      <td>11</td>\n",
       "      <td>28</td>\n",
       "      <td>2009</td>\n",
       "    </tr>\n",
       "    <tr>\n",
       "      <th>1</th>\n",
       "      <td>15932</td>\n",
       "      <td>Moving</td>\n",
       "      <td>German Shepherd Dog/Mix</td>\n",
       "      <td>Dog</td>\n",
       "      <td>Male</td>\n",
       "      <td>Adoption</td>\n",
       "      <td>12/08/2009</td>\n",
       "      <td>04/24/2017</td>\n",
       "      <td>Mature</td>\n",
       "      <td>Senior</td>\n",
       "      <td>4</td>\n",
       "      <td>24</td>\n",
       "      <td>2017</td>\n",
       "      <td>12</td>\n",
       "      <td>8</td>\n",
       "      <td>2009</td>\n",
       "    </tr>\n",
       "    <tr>\n",
       "      <th>2</th>\n",
       "      <td>28859</td>\n",
       "      <td>Abandoned</td>\n",
       "      <td>Shep Mix/Siberian Husky</td>\n",
       "      <td>Dog</td>\n",
       "      <td>Female</td>\n",
       "      <td>Adoption</td>\n",
       "      <td>08/10/2012</td>\n",
       "      <td>04/15/2017</td>\n",
       "      <td>Mature</td>\n",
       "      <td>Mature</td>\n",
       "      <td>4</td>\n",
       "      <td>15</td>\n",
       "      <td>2017</td>\n",
       "      <td>8</td>\n",
       "      <td>10</td>\n",
       "      <td>2012</td>\n",
       "    </tr>\n",
       "    <tr>\n",
       "      <th>3</th>\n",
       "      <td>28859</td>\n",
       "      <td>Abandoned</td>\n",
       "      <td>Shep Mix/Siberian Husky</td>\n",
       "      <td>Dog</td>\n",
       "      <td>Female</td>\n",
       "      <td>Reclaimed</td>\n",
       "      <td>08/10/2012</td>\n",
       "      <td>02/29/2020</td>\n",
       "      <td>Mature</td>\n",
       "      <td>Mature</td>\n",
       "      <td>2</td>\n",
       "      <td>29</td>\n",
       "      <td>2020</td>\n",
       "      <td>8</td>\n",
       "      <td>10</td>\n",
       "      <td>2012</td>\n",
       "    </tr>\n",
       "    <tr>\n",
       "      <th>4</th>\n",
       "      <td>30812</td>\n",
       "      <td>Abandoned</td>\n",
       "      <td>Domestic Short Hair</td>\n",
       "      <td>Cat</td>\n",
       "      <td>Female</td>\n",
       "      <td>Foster</td>\n",
       "      <td>01/11/2013</td>\n",
       "      <td>04/18/2017</td>\n",
       "      <td>Mature</td>\n",
       "      <td>Senior</td>\n",
       "      <td>4</td>\n",
       "      <td>18</td>\n",
       "      <td>2017</td>\n",
       "      <td>1</td>\n",
       "      <td>11</td>\n",
       "      <td>2013</td>\n",
       "    </tr>\n",
       "  </tbody>\n",
       "</table>\n",
       "</div>"
      ],
      "text/plain": [
       "      id intakereason                breedname speciesname sexname  \\\n",
       "0  15801       Moving      Domestic Short Hair         Cat  Female   \n",
       "1  15932       Moving  German Shepherd Dog/Mix         Dog    Male   \n",
       "2  28859    Abandoned  Shep Mix/Siberian Husky         Dog  Female   \n",
       "3  28859    Abandoned  Shep Mix/Siberian Husky         Dog  Female   \n",
       "4  30812    Abandoned      Domestic Short Hair         Cat  Female   \n",
       "\n",
       "  movementtype  intakeDate movementDate CatAgeGroup DogAgeGroup  \\\n",
       "0     Adoption  11/28/2009   05/13/2017      Senior      Senior   \n",
       "1     Adoption  12/08/2009   04/24/2017      Mature      Senior   \n",
       "2     Adoption  08/10/2012   04/15/2017      Mature      Mature   \n",
       "3    Reclaimed  08/10/2012   02/29/2020      Mature      Mature   \n",
       "4       Foster  01/11/2013   04/18/2017      Mature      Senior   \n",
       "\n",
       "   movementMonth  movementDay  movementYear  intakeMonth  intakeDay  \\\n",
       "0              5           13          2017           11         28   \n",
       "1              4           24          2017           12          8   \n",
       "2              4           15          2017            8         10   \n",
       "3              2           29          2020            8         10   \n",
       "4              4           18          2017            1         11   \n",
       "\n",
       "   intakeYear  \n",
       "0        2009  \n",
       "1        2009  \n",
       "2        2012  \n",
       "3        2012  \n",
       "4        2013  "
      ]
     },
     "execution_count": 2,
     "metadata": {},
     "output_type": "execute_result"
    }
   ],
   "source": [
    "shelter = pd.read_csv('../../Final-Project/shelter.csv')\n",
    "pd.set_option('display.max_columns', None)\n",
    "shelter.head()"
   ]
  },
  {
   "cell_type": "markdown",
   "id": "88b8f7d5",
   "metadata": {},
   "source": [
    "# Analyze for cats only"
   ]
  },
  {
   "cell_type": "code",
   "execution_count": 3,
   "id": "46b8a649",
   "metadata": {
    "scrolled": true
   },
   "outputs": [
    {
     "data": {
      "text/plain": [
       "(11455, 16)"
      ]
     },
     "execution_count": 3,
     "metadata": {},
     "output_type": "execute_result"
    }
   ],
   "source": [
    "Cat = shelter[(shelter['speciesname'].isin(['Cat']))]\n",
    "Cat.shape"
   ]
  },
  {
   "cell_type": "markdown",
   "id": "f3d02f3a",
   "metadata": {},
   "source": [
    "## Count of intake reasons"
   ]
  },
  {
   "cell_type": "code",
   "execution_count": 4,
   "id": "5ccc22d1",
   "metadata": {},
   "outputs": [
    {
     "data": {
      "text/plain": [
       "Stray                                5841\n",
       "Litter relinquishment                1759\n",
       "Incompatible with owner lifestyle     996\n",
       "Unsuitable Accommodation              441\n",
       "Born in Shelter                       407\n",
       "Unable to Afford                      372\n",
       "Moving                                325\n",
       "Abandoned                             254\n",
       "Transfer from Other Shelter           198\n",
       "Sick/Injured                          133\n",
       "Owner Deceased                        129\n",
       "Landlord issues                       127\n",
       "Allergies                             124\n",
       "TNR - Trap/Neuter/Release             111\n",
       "Incompatible with other pets           76\n",
       "Police Assist                          73\n",
       "Marriage/Relationship split            34\n",
       "Behavioral Issues                      25\n",
       "Biting                                 11\n",
       "Owner requested Euthanasia              9\n",
       "Rabies Monitoring                       4\n",
       "Abuse/ neglect                          3\n",
       "Return adopt - lifestyle issue          2\n",
       "DOA                                     1\n",
       "Name: intakereason, dtype: int64"
      ]
     },
     "execution_count": 4,
     "metadata": {},
     "output_type": "execute_result"
    }
   ],
   "source": [
    "Cat['intakereason'].value_counts()"
   ]
  },
  {
   "cell_type": "markdown",
   "id": "d2f772f0",
   "metadata": {},
   "source": [
    "## Graph top 10 intake reasons"
   ]
  },
  {
   "cell_type": "code",
   "execution_count": 5,
   "id": "54978f11",
   "metadata": {},
   "outputs": [
    {
     "data": {
      "text/plain": [
       "Text(0, 0.5, 'Intake Reason')"
      ]
     },
     "execution_count": 5,
     "metadata": {},
     "output_type": "execute_result"
    },
    {
     "data": {
      "image/png": "[encoded data removed]",
      "text/plain": [
       "<Figure size 432x288 with 1 Axes>"
      ]
     },
     "metadata": {
      "needs_background": "light"
     },
     "output_type": "display_data"
    }
   ],
   "source": [
    "CatIntakeFreq = Cat['intakereason'].value_counts(ascending=False).nlargest(10).plot.barh()\n",
    "CatIntakeFreq.set_title(\"Shelter Intake Reason - Cats\")\n",
    "CatIntakeFreq.set_xlabel(\"Number of Cats Taken Into Shelters\")\n",
    "CatIntakeFreq.set_ylabel(\"Intake Reason\")"
   ]
  },
  {
   "cell_type": "markdown",
   "id": "936eed04",
   "metadata": {},
   "source": [
    "## Intake reasons by percent"
   ]
  },
  {
   "cell_type": "code",
   "execution_count": 6,
   "id": "00bbd22a",
   "metadata": {},
   "outputs": [
    {
     "data": {
      "text/plain": [
       "Stray                                50.99%\n",
       "Litter relinquishment                15.36%\n",
       "Incompatible with owner lifestyle     8.69%\n",
       "Unsuitable Accommodation              3.85%\n",
       "Born in Shelter                       3.55%\n",
       "Unable to Afford                      3.25%\n",
       "Moving                                2.84%\n",
       "Abandoned                             2.22%\n",
       "Transfer from Other Shelter           1.73%\n",
       "Sick/Injured                          1.16%\n",
       "Owner Deceased                        1.13%\n",
       "Landlord issues                       1.11%\n",
       "Allergies                             1.08%\n",
       "TNR - Trap/Neuter/Release             0.97%\n",
       "Incompatible with other pets          0.66%\n",
       "Police Assist                         0.64%\n",
       "Marriage/Relationship split            0.3%\n",
       "Behavioral Issues                     0.22%\n",
       "Biting                                 0.1%\n",
       "Owner requested Euthanasia            0.08%\n",
       "Rabies Monitoring                     0.03%\n",
       "Abuse/ neglect                        0.03%\n",
       "Return adopt - lifestyle issue        0.02%\n",
       "DOA                                   0.01%\n",
       "Name: intakereason, dtype: object"
      ]
     },
     "execution_count": 6,
     "metadata": {},
     "output_type": "execute_result"
    }
   ],
   "source": [
    "Cat.intakereason.value_counts(normalize=True).mul(100).round(2).astype(str) + '%'"
   ]
  },
  {
   "cell_type": "markdown",
   "id": "a86a1967",
   "metadata": {},
   "source": [
    "## Summary: Top 3 reasons cats were taken into shelters\n",
    "### #1: Stray (50.99%).\n",
    "### #2: Litter relinquishment (15.36%).\n",
    "### #3: Incompatible with owner lifestyle (8.69%)."
   ]
  },
  {
   "cell_type": "markdown",
   "id": "79f1e529",
   "metadata": {},
   "source": [
    "# Analyze for dogs only"
   ]
  },
  {
   "cell_type": "code",
   "execution_count": 7,
   "id": "caa30a36",
   "metadata": {},
   "outputs": [
    {
     "data": {
      "text/plain": [
       "(6609, 16)"
      ]
     },
     "execution_count": 7,
     "metadata": {},
     "output_type": "execute_result"
    }
   ],
   "source": [
    "Dog = shelter[(shelter['speciesname'].isin(['Dog']))]\n",
    "Dog.shape"
   ]
  },
  {
   "cell_type": "markdown",
   "id": "ea9c2830",
   "metadata": {},
   "source": [
    "## Count of intake reasons"
   ]
  },
  {
   "cell_type": "code",
   "execution_count": 8,
   "id": "9859e6b1",
   "metadata": {},
   "outputs": [
    {
     "data": {
      "text/plain": [
       "Stray                                3177\n",
       "Incompatible with owner lifestyle     806\n",
       "Police Assist                         334\n",
       "Moving                                314\n",
       "Litter relinquishment                 308\n",
       "Unsuitable Accommodation              264\n",
       "Unable to Afford                      237\n",
       "Transfer from Other Shelter           210\n",
       "Abandoned                             203\n",
       "Landlord issues                       138\n",
       "Owner Deceased                        111\n",
       "Born in Shelter                        95\n",
       "Rabies Monitoring                      78\n",
       "Biting                                 74\n",
       "Sick/Injured                           65\n",
       "Incompatible with other pets           64\n",
       "Marriage/Relationship split            49\n",
       "Abuse/ neglect                         27\n",
       "Behavioral Issues                      16\n",
       "Owner requested Euthanasia             14\n",
       "Allergies                              14\n",
       "TNR - Trap/Neuter/Release              11\n",
       "Name: intakereason, dtype: int64"
      ]
     },
     "execution_count": 8,
     "metadata": {},
     "output_type": "execute_result"
    }
   ],
   "source": [
    "Dog['intakereason'].value_counts()"
   ]
  },
  {
   "cell_type": "markdown",
   "id": "f2119b91",
   "metadata": {},
   "source": [
    "## Graph top 10 intake reasons"
   ]
  },
  {
   "cell_type": "code",
   "execution_count": 9,
   "id": "ac202d85",
   "metadata": {},
   "outputs": [
    {
     "data": {
      "text/plain": [
       "Text(0, 0.5, 'Intake Reason')"
      ]
     },
     "execution_count": 9,
     "metadata": {},
     "output_type": "execute_result"
    },
    {
     "data": {
      "image/png": "[encoded data removed]",
      "text/plain": [
       "<Figure size 432x288 with 1 Axes>"
      ]
     },
     "metadata": {
      "needs_background": "light"
     },
     "output_type": "display_data"
    }
   ],
   "source": [
    "DogIntakeFreq = Dog['intakereason'].value_counts().nlargest(10).plot.barh()\n",
    "DogIntakeFreq.set_title(\"Shelter Intake Reason - Dogs\")\n",
    "DogIntakeFreq.set_xlabel(\"Number of Dogs Taken Into Shelters\")\n",
    "DogIntakeFreq.set_ylabel(\"Intake Reason\")"
   ]
  },
  {
   "cell_type": "markdown",
   "id": "5fac9abf",
   "metadata": {},
   "source": [
    "## Intake reasons by percent"
   ]
  },
  {
   "cell_type": "code",
   "execution_count": 10,
   "id": "223b7ef2",
   "metadata": {},
   "outputs": [
    {
     "data": {
      "text/plain": [
       "Stray                                48.07%\n",
       "Incompatible with owner lifestyle     12.2%\n",
       "Police Assist                         5.05%\n",
       "Moving                                4.75%\n",
       "Litter relinquishment                 4.66%\n",
       "Unsuitable Accommodation              3.99%\n",
       "Unable to Afford                      3.59%\n",
       "Transfer from Other Shelter           3.18%\n",
       "Abandoned                             3.07%\n",
       "Landlord issues                       2.09%\n",
       "Owner Deceased                        1.68%\n",
       "Born in Shelter                       1.44%\n",
       "Rabies Monitoring                     1.18%\n",
       "Biting                                1.12%\n",
       "Sick/Injured                          0.98%\n",
       "Incompatible with other pets          0.97%\n",
       "Marriage/Relationship split           0.74%\n",
       "Abuse/ neglect                        0.41%\n",
       "Behavioral Issues                     0.24%\n",
       "Owner requested Euthanasia            0.21%\n",
       "Allergies                             0.21%\n",
       "TNR - Trap/Neuter/Release             0.17%\n",
       "Name: intakereason, dtype: object"
      ]
     },
     "execution_count": 10,
     "metadata": {},
     "output_type": "execute_result"
    }
   ],
   "source": [
    "Dog.intakereason.value_counts(normalize=True).mul(100).round(2).astype(str) + '%'"
   ]
  },
  {
   "cell_type": "markdown",
   "id": "610aee75",
   "metadata": {},
   "source": [
    "## Summary: Top 3 reasons dogs were taken into shelters\n",
    "### #1: Stray (48.07%).\n",
    "### #2: Incompatible with owner lifestyle (12.2%).\n",
    "### #3: Police Assist (5.05%)."
   ]
  },
  {
   "cell_type": "code",
   "execution_count": null,
   "id": "c2ce01e4",
   "metadata": {},
   "outputs": [],
   "source": []
  }
 ],
 "metadata": {
  "kernelspec": {
   "display_name": "Python 3",
   "language": "python",
   "name": "python3"
  },
  "language_info": {
   "codemirror_mode": {
    "name": "ipython",
    "version": 3
   },
   "file_extension": ".py",
   "mimetype": "text/x-python",
   "name": "python",
   "nbconvert_exporter": "python",
   "pygments_lexer": "ipython3",
   "version": "3.8.8"
  }
 },
 "nbformat": 4,
 "nbformat_minor": 5
}
