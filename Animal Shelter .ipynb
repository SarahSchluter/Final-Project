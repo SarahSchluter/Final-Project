{
 "cells": [
  {
   "cell_type": "markdown",
   "id": "c2f8a2ed",
   "metadata": {},
   "source": [
    "# Question 1"
   ]
  },
  {
   "cell_type": "markdown",
   "id": "5009e76b",
   "metadata": {},
   "source": [
    "# What time of year are pets more likely to get adopted? "
   ]
  },
  {
   "cell_type": "markdown",
   "id": "c34e703b",
   "metadata": {},
   "source": [
    "## import packages"
   ]
  },
  {
   "cell_type": "code",
   "execution_count": 1,
   "id": "e3c50d3c",
   "metadata": {},
   "outputs": [],
   "source": [
    "import pandas as pd\n",
    "import numpy as np\n",
    "from sklearn import preprocessing\n",
    "import matplotlib.pyplot as plt\n",
    "%matplotlib inline\n"
   ]
  },
  {
   "cell_type": "markdown",
   "id": "8ab14412",
   "metadata": {},
   "source": [
    "## read in data"
   ]
  },
  {
   "cell_type": "code",
   "execution_count": 19,
   "id": "34fbe300",
   "metadata": {},
   "outputs": [],
   "source": [
    "shelter = pd.read_csv(\"C:/Users/hazre/OneDrive/Desktop/Pontiac/Animal_Shelter_Animals.csv\")"
   ]
  },
  {
   "cell_type": "code",
   "execution_count": 20,
   "id": "cd8e36ef",
   "metadata": {},
   "outputs": [
    {
     "data": {
      "text/html": [
       "<div>\n",
       "<style scoped>\n",
       "    .dataframe tbody tr th:only-of-type {\n",
       "        vertical-align: middle;\n",
       "    }\n",
       "\n",
       "    .dataframe tbody tr th {\n",
       "        vertical-align: top;\n",
       "    }\n",
       "\n",
       "    .dataframe thead th {\n",
       "        text-align: right;\n",
       "    }\n",
       "</style>\n",
       "<table border=\"1\" class=\"dataframe\">\n",
       "  <thead>\n",
       "    <tr style=\"text-align: right;\">\n",
       "      <th></th>\n",
       "      <th>id</th>\n",
       "      <th>intakedate</th>\n",
       "      <th>intakereason</th>\n",
       "      <th>istransfer</th>\n",
       "      <th>sheltercode</th>\n",
       "      <th>identichipnumber</th>\n",
       "      <th>animalname</th>\n",
       "      <th>breedname</th>\n",
       "      <th>basecolour</th>\n",
       "      <th>speciesname</th>\n",
       "      <th>animalage</th>\n",
       "      <th>sexname</th>\n",
       "      <th>location</th>\n",
       "      <th>movementdate</th>\n",
       "      <th>movementtype</th>\n",
       "      <th>istrial</th>\n",
       "      <th>returndate</th>\n",
       "      <th>returnedreason</th>\n",
       "      <th>deceaseddate</th>\n",
       "      <th>deceasedreason</th>\n",
       "      <th>diedoffshelter</th>\n",
       "      <th>puttosleep</th>\n",
       "      <th>isdoa</th>\n",
       "    </tr>\n",
       "  </thead>\n",
       "  <tbody>\n",
       "    <tr>\n",
       "      <th>0</th>\n",
       "      <td>15801</td>\n",
       "      <td>11/28/2009 12:00:00 AM</td>\n",
       "      <td>Moving</td>\n",
       "      <td>False</td>\n",
       "      <td>C09115463</td>\n",
       "      <td>0A115D7358</td>\n",
       "      <td>Jadzia</td>\n",
       "      <td>Domestic Short Hair</td>\n",
       "      <td>Tortoiseshell</td>\n",
       "      <td>Cat</td>\n",
       "      <td>11 years 8 months.</td>\n",
       "      <td>Female</td>\n",
       "      <td>Adoptable Cat Glass Colony</td>\n",
       "      <td>05/13/2017 12:00:00 AM</td>\n",
       "      <td>Adoption</td>\n",
       "      <td>False</td>\n",
       "      <td>NaN</td>\n",
       "      <td>Stray</td>\n",
       "      <td>NaN</td>\n",
       "      <td>Died in care</td>\n",
       "      <td>False</td>\n",
       "      <td>False</td>\n",
       "      <td>False</td>\n",
       "    </tr>\n",
       "    <tr>\n",
       "      <th>1</th>\n",
       "      <td>15932</td>\n",
       "      <td>12/08/2009 12:00:00 AM</td>\n",
       "      <td>Moving</td>\n",
       "      <td>False</td>\n",
       "      <td>D09125594</td>\n",
       "      <td>0A11675477</td>\n",
       "      <td>Gonzo</td>\n",
       "      <td>German Shepherd Dog/Mix</td>\n",
       "      <td>Tan</td>\n",
       "      <td>Dog</td>\n",
       "      <td>10 years 9 months.</td>\n",
       "      <td>Male</td>\n",
       "      <td>Adoptable Dogs</td>\n",
       "      <td>04/24/2017 12:00:00 AM</td>\n",
       "      <td>Adoption</td>\n",
       "      <td>False</td>\n",
       "      <td>NaN</td>\n",
       "      <td>Stray</td>\n",
       "      <td>NaN</td>\n",
       "      <td>Died in care</td>\n",
       "      <td>False</td>\n",
       "      <td>False</td>\n",
       "      <td>False</td>\n",
       "    </tr>\n",
       "    <tr>\n",
       "      <th>2</th>\n",
       "      <td>28859</td>\n",
       "      <td>08/10/2012 12:00:00 AM</td>\n",
       "      <td>Abandoned</td>\n",
       "      <td>False</td>\n",
       "      <td>D12082309</td>\n",
       "      <td>0A13253C7B</td>\n",
       "      <td>Maggie</td>\n",
       "      <td>Shep Mix/Siberian Husky</td>\n",
       "      <td>Various</td>\n",
       "      <td>Dog</td>\n",
       "      <td>8 years 1 month.</td>\n",
       "      <td>Female</td>\n",
       "      <td>Canine intake room</td>\n",
       "      <td>04/15/2017 12:00:00 AM</td>\n",
       "      <td>Adoption</td>\n",
       "      <td>False</td>\n",
       "      <td>02/28/2020 12:00:00 AM</td>\n",
       "      <td>Stray</td>\n",
       "      <td>NaN</td>\n",
       "      <td>Died in care</td>\n",
       "      <td>False</td>\n",
       "      <td>False</td>\n",
       "      <td>False</td>\n",
       "    </tr>\n",
       "    <tr>\n",
       "      <th>3</th>\n",
       "      <td>28859</td>\n",
       "      <td>08/10/2012 12:00:00 AM</td>\n",
       "      <td>Abandoned</td>\n",
       "      <td>False</td>\n",
       "      <td>D12082309</td>\n",
       "      <td>0A13253C7B</td>\n",
       "      <td>Maggie</td>\n",
       "      <td>Shep Mix/Siberian Husky</td>\n",
       "      <td>Various</td>\n",
       "      <td>Dog</td>\n",
       "      <td>8 years 1 month.</td>\n",
       "      <td>Female</td>\n",
       "      <td>Canine intake room</td>\n",
       "      <td>02/29/2020 12:00:00 AM</td>\n",
       "      <td>Reclaimed</td>\n",
       "      <td>False</td>\n",
       "      <td>NaN</td>\n",
       "      <td>Stray</td>\n",
       "      <td>NaN</td>\n",
       "      <td>Died in care</td>\n",
       "      <td>False</td>\n",
       "      <td>False</td>\n",
       "      <td>False</td>\n",
       "    </tr>\n",
       "    <tr>\n",
       "      <th>4</th>\n",
       "      <td>30812</td>\n",
       "      <td>01/11/2013 12:00:00 AM</td>\n",
       "      <td>Abandoned</td>\n",
       "      <td>False</td>\n",
       "      <td>C1301091</td>\n",
       "      <td>0A13403D4D</td>\n",
       "      <td>Pretty Girl</td>\n",
       "      <td>Domestic Short Hair</td>\n",
       "      <td>Dilute tortoiseshell</td>\n",
       "      <td>Cat</td>\n",
       "      <td>10 years 6 months.</td>\n",
       "      <td>Female</td>\n",
       "      <td>Stray Cats</td>\n",
       "      <td>04/18/2017 12:00:00 AM</td>\n",
       "      <td>Foster</td>\n",
       "      <td>False</td>\n",
       "      <td>05/29/2018 12:00:00 AM</td>\n",
       "      <td>Stray</td>\n",
       "      <td>NaN</td>\n",
       "      <td>Died in care</td>\n",
       "      <td>False</td>\n",
       "      <td>False</td>\n",
       "      <td>False</td>\n",
       "    </tr>\n",
       "  </tbody>\n",
       "</table>\n",
       "</div>"
      ],
      "text/plain": [
       "      id              intakedate intakereason  istransfer sheltercode  \\\n",
       "0  15801  11/28/2009 12:00:00 AM       Moving       False   C09115463   \n",
       "1  15932  12/08/2009 12:00:00 AM       Moving       False   D09125594   \n",
       "2  28859  08/10/2012 12:00:00 AM    Abandoned       False   D12082309   \n",
       "3  28859  08/10/2012 12:00:00 AM    Abandoned       False   D12082309   \n",
       "4  30812  01/11/2013 12:00:00 AM    Abandoned       False    C1301091   \n",
       "\n",
       "  identichipnumber   animalname                breedname  \\\n",
       "0       0A115D7358       Jadzia      Domestic Short Hair   \n",
       "1       0A11675477        Gonzo  German Shepherd Dog/Mix   \n",
       "2       0A13253C7B       Maggie  Shep Mix/Siberian Husky   \n",
       "3       0A13253C7B       Maggie  Shep Mix/Siberian Husky   \n",
       "4       0A13403D4D  Pretty Girl      Domestic Short Hair   \n",
       "\n",
       "             basecolour speciesname           animalage sexname  \\\n",
       "0         Tortoiseshell         Cat  11 years 8 months.  Female   \n",
       "1                   Tan         Dog  10 years 9 months.    Male   \n",
       "2               Various         Dog    8 years 1 month.  Female   \n",
       "3               Various         Dog    8 years 1 month.  Female   \n",
       "4  Dilute tortoiseshell         Cat  10 years 6 months.  Female   \n",
       "\n",
       "                     location            movementdate movementtype  istrial  \\\n",
       "0  Adoptable Cat Glass Colony  05/13/2017 12:00:00 AM     Adoption    False   \n",
       "1              Adoptable Dogs  04/24/2017 12:00:00 AM     Adoption    False   \n",
       "2          Canine intake room  04/15/2017 12:00:00 AM     Adoption    False   \n",
       "3          Canine intake room  02/29/2020 12:00:00 AM    Reclaimed    False   \n",
       "4                  Stray Cats  04/18/2017 12:00:00 AM       Foster    False   \n",
       "\n",
       "               returndate returnedreason deceaseddate deceasedreason  \\\n",
       "0                     NaN          Stray          NaN   Died in care   \n",
       "1                     NaN          Stray          NaN   Died in care   \n",
       "2  02/28/2020 12:00:00 AM          Stray          NaN   Died in care   \n",
       "3                     NaN          Stray          NaN   Died in care   \n",
       "4  05/29/2018 12:00:00 AM          Stray          NaN   Died in care   \n",
       "\n",
       "   diedoffshelter  puttosleep  isdoa  \n",
       "0           False       False  False  \n",
       "1           False       False  False  \n",
       "2           False       False  False  \n",
       "3           False       False  False  \n",
       "4           False       False  False  "
      ]
     },
     "execution_count": 20,
     "metadata": {},
     "output_type": "execute_result"
    }
   ],
   "source": [
    "shelter.head()"
   ]
  },
  {
   "cell_type": "code",
   "execution_count": 4,
   "id": "db03a4ac",
   "metadata": {},
   "outputs": [],
   "source": [
    "pd.options.display.max_columns=None"
   ]
  },
  {
   "cell_type": "code",
   "execution_count": 5,
   "id": "9bbeb5f0",
   "metadata": {},
   "outputs": [
    {
     "data": {
      "text/html": [
       "<div>\n",
       "<style scoped>\n",
       "    .dataframe tbody tr th:only-of-type {\n",
       "        vertical-align: middle;\n",
       "    }\n",
       "\n",
       "    .dataframe tbody tr th {\n",
       "        vertical-align: top;\n",
       "    }\n",
       "\n",
       "    .dataframe thead th {\n",
       "        text-align: right;\n",
       "    }\n",
       "</style>\n",
       "<table border=\"1\" class=\"dataframe\">\n",
       "  <thead>\n",
       "    <tr style=\"text-align: right;\">\n",
       "      <th></th>\n",
       "      <th>id</th>\n",
       "      <th>intakedate</th>\n",
       "      <th>intakereason</th>\n",
       "      <th>istransfer</th>\n",
       "      <th>sheltercode</th>\n",
       "      <th>identichipnumber</th>\n",
       "      <th>animalname</th>\n",
       "      <th>breedname</th>\n",
       "      <th>basecolour</th>\n",
       "      <th>speciesname</th>\n",
       "      <th>animalage</th>\n",
       "      <th>sexname</th>\n",
       "      <th>location</th>\n",
       "      <th>movementdate</th>\n",
       "      <th>movementtype</th>\n",
       "      <th>istrial</th>\n",
       "      <th>returndate</th>\n",
       "      <th>returnedreason</th>\n",
       "      <th>deceaseddate</th>\n",
       "      <th>deceasedreason</th>\n",
       "      <th>diedoffshelter</th>\n",
       "      <th>puttosleep</th>\n",
       "      <th>isdoa</th>\n",
       "    </tr>\n",
       "  </thead>\n",
       "  <tbody>\n",
       "    <tr>\n",
       "      <th>0</th>\n",
       "      <td>15801</td>\n",
       "      <td>11/28/2009 12:00:00 AM</td>\n",
       "      <td>Moving</td>\n",
       "      <td>False</td>\n",
       "      <td>C09115463</td>\n",
       "      <td>0A115D7358</td>\n",
       "      <td>Jadzia</td>\n",
       "      <td>Domestic Short Hair</td>\n",
       "      <td>Tortoiseshell</td>\n",
       "      <td>Cat</td>\n",
       "      <td>11 years 8 months.</td>\n",
       "      <td>Female</td>\n",
       "      <td>Adoptable Cat Glass Colony</td>\n",
       "      <td>05/13/2017 12:00:00 AM</td>\n",
       "      <td>Adoption</td>\n",
       "      <td>False</td>\n",
       "      <td>NaN</td>\n",
       "      <td>Stray</td>\n",
       "      <td>NaN</td>\n",
       "      <td>Died in care</td>\n",
       "      <td>False</td>\n",
       "      <td>False</td>\n",
       "      <td>False</td>\n",
       "    </tr>\n",
       "    <tr>\n",
       "      <th>1</th>\n",
       "      <td>15932</td>\n",
       "      <td>12/08/2009 12:00:00 AM</td>\n",
       "      <td>Moving</td>\n",
       "      <td>False</td>\n",
       "      <td>D09125594</td>\n",
       "      <td>0A11675477</td>\n",
       "      <td>Gonzo</td>\n",
       "      <td>German Shepherd Dog/Mix</td>\n",
       "      <td>Tan</td>\n",
       "      <td>Dog</td>\n",
       "      <td>10 years 9 months.</td>\n",
       "      <td>Male</td>\n",
       "      <td>Adoptable Dogs</td>\n",
       "      <td>04/24/2017 12:00:00 AM</td>\n",
       "      <td>Adoption</td>\n",
       "      <td>False</td>\n",
       "      <td>NaN</td>\n",
       "      <td>Stray</td>\n",
       "      <td>NaN</td>\n",
       "      <td>Died in care</td>\n",
       "      <td>False</td>\n",
       "      <td>False</td>\n",
       "      <td>False</td>\n",
       "    </tr>\n",
       "    <tr>\n",
       "      <th>2</th>\n",
       "      <td>28859</td>\n",
       "      <td>08/10/2012 12:00:00 AM</td>\n",
       "      <td>Abandoned</td>\n",
       "      <td>False</td>\n",
       "      <td>D12082309</td>\n",
       "      <td>0A13253C7B</td>\n",
       "      <td>Maggie</td>\n",
       "      <td>Shep Mix/Siberian Husky</td>\n",
       "      <td>Various</td>\n",
       "      <td>Dog</td>\n",
       "      <td>8 years 1 month.</td>\n",
       "      <td>Female</td>\n",
       "      <td>Canine intake room</td>\n",
       "      <td>04/15/2017 12:00:00 AM</td>\n",
       "      <td>Adoption</td>\n",
       "      <td>False</td>\n",
       "      <td>02/28/2020 12:00:00 AM</td>\n",
       "      <td>Stray</td>\n",
       "      <td>NaN</td>\n",
       "      <td>Died in care</td>\n",
       "      <td>False</td>\n",
       "      <td>False</td>\n",
       "      <td>False</td>\n",
       "    </tr>\n",
       "    <tr>\n",
       "      <th>3</th>\n",
       "      <td>28859</td>\n",
       "      <td>08/10/2012 12:00:00 AM</td>\n",
       "      <td>Abandoned</td>\n",
       "      <td>False</td>\n",
       "      <td>D12082309</td>\n",
       "      <td>0A13253C7B</td>\n",
       "      <td>Maggie</td>\n",
       "      <td>Shep Mix/Siberian Husky</td>\n",
       "      <td>Various</td>\n",
       "      <td>Dog</td>\n",
       "      <td>8 years 1 month.</td>\n",
       "      <td>Female</td>\n",
       "      <td>Canine intake room</td>\n",
       "      <td>02/29/2020 12:00:00 AM</td>\n",
       "      <td>Reclaimed</td>\n",
       "      <td>False</td>\n",
       "      <td>NaN</td>\n",
       "      <td>Stray</td>\n",
       "      <td>NaN</td>\n",
       "      <td>Died in care</td>\n",
       "      <td>False</td>\n",
       "      <td>False</td>\n",
       "      <td>False</td>\n",
       "    </tr>\n",
       "    <tr>\n",
       "      <th>4</th>\n",
       "      <td>30812</td>\n",
       "      <td>01/11/2013 12:00:00 AM</td>\n",
       "      <td>Abandoned</td>\n",
       "      <td>False</td>\n",
       "      <td>C1301091</td>\n",
       "      <td>0A13403D4D</td>\n",
       "      <td>Pretty Girl</td>\n",
       "      <td>Domestic Short Hair</td>\n",
       "      <td>Dilute tortoiseshell</td>\n",
       "      <td>Cat</td>\n",
       "      <td>10 years 6 months.</td>\n",
       "      <td>Female</td>\n",
       "      <td>Stray Cats</td>\n",
       "      <td>04/18/2017 12:00:00 AM</td>\n",
       "      <td>Foster</td>\n",
       "      <td>False</td>\n",
       "      <td>05/29/2018 12:00:00 AM</td>\n",
       "      <td>Stray</td>\n",
       "      <td>NaN</td>\n",
       "      <td>Died in care</td>\n",
       "      <td>False</td>\n",
       "      <td>False</td>\n",
       "      <td>False</td>\n",
       "    </tr>\n",
       "  </tbody>\n",
       "</table>\n",
       "</div>"
      ],
      "text/plain": [
       "      id              intakedate intakereason  istransfer sheltercode  \\\n",
       "0  15801  11/28/2009 12:00:00 AM       Moving       False   C09115463   \n",
       "1  15932  12/08/2009 12:00:00 AM       Moving       False   D09125594   \n",
       "2  28859  08/10/2012 12:00:00 AM    Abandoned       False   D12082309   \n",
       "3  28859  08/10/2012 12:00:00 AM    Abandoned       False   D12082309   \n",
       "4  30812  01/11/2013 12:00:00 AM    Abandoned       False    C1301091   \n",
       "\n",
       "  identichipnumber   animalname                breedname  \\\n",
       "0       0A115D7358       Jadzia      Domestic Short Hair   \n",
       "1       0A11675477        Gonzo  German Shepherd Dog/Mix   \n",
       "2       0A13253C7B       Maggie  Shep Mix/Siberian Husky   \n",
       "3       0A13253C7B       Maggie  Shep Mix/Siberian Husky   \n",
       "4       0A13403D4D  Pretty Girl      Domestic Short Hair   \n",
       "\n",
       "             basecolour speciesname           animalage sexname  \\\n",
       "0         Tortoiseshell         Cat  11 years 8 months.  Female   \n",
       "1                   Tan         Dog  10 years 9 months.    Male   \n",
       "2               Various         Dog    8 years 1 month.  Female   \n",
       "3               Various         Dog    8 years 1 month.  Female   \n",
       "4  Dilute tortoiseshell         Cat  10 years 6 months.  Female   \n",
       "\n",
       "                     location            movementdate movementtype  istrial  \\\n",
       "0  Adoptable Cat Glass Colony  05/13/2017 12:00:00 AM     Adoption    False   \n",
       "1              Adoptable Dogs  04/24/2017 12:00:00 AM     Adoption    False   \n",
       "2          Canine intake room  04/15/2017 12:00:00 AM     Adoption    False   \n",
       "3          Canine intake room  02/29/2020 12:00:00 AM    Reclaimed    False   \n",
       "4                  Stray Cats  04/18/2017 12:00:00 AM       Foster    False   \n",
       "\n",
       "               returndate returnedreason deceaseddate deceasedreason  \\\n",
       "0                     NaN          Stray          NaN   Died in care   \n",
       "1                     NaN          Stray          NaN   Died in care   \n",
       "2  02/28/2020 12:00:00 AM          Stray          NaN   Died in care   \n",
       "3                     NaN          Stray          NaN   Died in care   \n",
       "4  05/29/2018 12:00:00 AM          Stray          NaN   Died in care   \n",
       "\n",
       "   diedoffshelter  puttosleep  isdoa  \n",
       "0           False       False  False  \n",
       "1           False       False  False  \n",
       "2           False       False  False  \n",
       "3           False       False  False  \n",
       "4           False       False  False  "
      ]
     },
     "execution_count": 5,
     "metadata": {},
     "output_type": "execute_result"
    }
   ],
   "source": [
    "shelter.head()"
   ]
  },
  {
   "cell_type": "code",
   "execution_count": 6,
   "id": "edbd4030",
   "metadata": {},
   "outputs": [
    {
     "data": {
      "text/plain": [
       "Index(['id', 'intakedate', 'intakereason', 'istransfer', 'sheltercode',\n",
       "       'identichipnumber', 'animalname', 'breedname', 'basecolour',\n",
       "       'speciesname', 'animalage', 'sexname', 'location', 'movementdate',\n",
       "       'movementtype', 'istrial', 'returndate', 'returnedreason',\n",
       "       'deceaseddate', 'deceasedreason', 'diedoffshelter', 'puttosleep',\n",
       "       'isdoa'],\n",
       "      dtype='object')"
      ]
     },
     "execution_count": 6,
     "metadata": {},
     "output_type": "execute_result"
    }
   ],
   "source": [
    "shelter.columns"
   ]
  },
  {
   "cell_type": "markdown",
   "id": "32539cc6",
   "metadata": {},
   "source": [
    "## data wrangling"
   ]
  },
  {
   "cell_type": "markdown",
   "id": "54313ce9",
   "metadata": {},
   "source": [
    "### keeping columns"
   ]
  },
  {
   "cell_type": "code",
   "execution_count": 21,
   "id": "f7a635b6",
   "metadata": {},
   "outputs": [],
   "source": [
    "shelter1 = shelter[{'breedname', 'movementdate', 'movementtype',  'speciesname' }]"
   ]
  },
  {
   "cell_type": "code",
   "execution_count": 22,
   "id": "43bc6b9f",
   "metadata": {},
   "outputs": [
    {
     "data": {
      "text/plain": [
       "Index(['speciesname', 'movementdate', 'breedname', 'movementtype'], dtype='object')"
      ]
     },
     "execution_count": 22,
     "metadata": {},
     "output_type": "execute_result"
    }
   ],
   "source": [
    "shelter1.columns"
   ]
  },
  {
   "cell_type": "code",
   "execution_count": 23,
   "id": "7fa537d4",
   "metadata": {},
   "outputs": [
    {
     "name": "stdout",
     "output_type": "stream",
     "text": [
      "<class 'pandas.core.frame.DataFrame'>\n",
      "RangeIndex: 19341 entries, 0 to 19340\n",
      "Data columns (total 4 columns):\n",
      " #   Column        Non-Null Count  Dtype \n",
      "---  ------        --------------  ----- \n",
      " 0   speciesname   19341 non-null  object\n",
      " 1   movementdate  19284 non-null  object\n",
      " 2   breedname     19285 non-null  object\n",
      " 3   movementtype  19341 non-null  object\n",
      "dtypes: object(4)\n",
      "memory usage: 604.5+ KB\n"
     ]
    }
   ],
   "source": [
    "shelter1.info()"
   ]
  },
  {
   "cell_type": "code",
   "execution_count": 24,
   "id": "e00027de",
   "metadata": {},
   "outputs": [
    {
     "data": {
      "text/html": [
       "<div>\n",
       "<style scoped>\n",
       "    .dataframe tbody tr th:only-of-type {\n",
       "        vertical-align: middle;\n",
       "    }\n",
       "\n",
       "    .dataframe tbody tr th {\n",
       "        vertical-align: top;\n",
       "    }\n",
       "\n",
       "    .dataframe thead th {\n",
       "        text-align: right;\n",
       "    }\n",
       "</style>\n",
       "<table border=\"1\" class=\"dataframe\">\n",
       "  <thead>\n",
       "    <tr style=\"text-align: right;\">\n",
       "      <th></th>\n",
       "      <th>speciesname</th>\n",
       "      <th>movementdate</th>\n",
       "      <th>breedname</th>\n",
       "      <th>movementtype</th>\n",
       "    </tr>\n",
       "  </thead>\n",
       "  <tbody>\n",
       "    <tr>\n",
       "      <th>0</th>\n",
       "      <td>Cat</td>\n",
       "      <td>05/13/2017 12:00:00 AM</td>\n",
       "      <td>Domestic Short Hair</td>\n",
       "      <td>Adoption</td>\n",
       "    </tr>\n",
       "    <tr>\n",
       "      <th>1</th>\n",
       "      <td>Dog</td>\n",
       "      <td>04/24/2017 12:00:00 AM</td>\n",
       "      <td>German Shepherd Dog/Mix</td>\n",
       "      <td>Adoption</td>\n",
       "    </tr>\n",
       "    <tr>\n",
       "      <th>2</th>\n",
       "      <td>Dog</td>\n",
       "      <td>04/15/2017 12:00:00 AM</td>\n",
       "      <td>Shep Mix/Siberian Husky</td>\n",
       "      <td>Adoption</td>\n",
       "    </tr>\n",
       "    <tr>\n",
       "      <th>3</th>\n",
       "      <td>Dog</td>\n",
       "      <td>02/29/2020 12:00:00 AM</td>\n",
       "      <td>Shep Mix/Siberian Husky</td>\n",
       "      <td>Reclaimed</td>\n",
       "    </tr>\n",
       "    <tr>\n",
       "      <th>4</th>\n",
       "      <td>Cat</td>\n",
       "      <td>04/18/2017 12:00:00 AM</td>\n",
       "      <td>Domestic Short Hair</td>\n",
       "      <td>Foster</td>\n",
       "    </tr>\n",
       "  </tbody>\n",
       "</table>\n",
       "</div>"
      ],
      "text/plain": [
       "  speciesname            movementdate                breedname movementtype\n",
       "0         Cat  05/13/2017 12:00:00 AM      Domestic Short Hair     Adoption\n",
       "1         Dog  04/24/2017 12:00:00 AM  German Shepherd Dog/Mix     Adoption\n",
       "2         Dog  04/15/2017 12:00:00 AM  Shep Mix/Siberian Husky     Adoption\n",
       "3         Dog  02/29/2020 12:00:00 AM  Shep Mix/Siberian Husky    Reclaimed\n",
       "4         Cat  04/18/2017 12:00:00 AM      Domestic Short Hair       Foster"
      ]
     },
     "execution_count": 24,
     "metadata": {},
     "output_type": "execute_result"
    }
   ],
   "source": [
    "shelter1.head()"
   ]
  },
  {
   "cell_type": "code",
   "execution_count": 25,
   "id": "ee5fe6b2",
   "metadata": {},
   "outputs": [
    {
     "data": {
      "text/plain": [
       "Domestic Short Hair                           9615\n",
       "Domestic Medium Hair                           903\n",
       "Bully Breed Mix                                638\n",
       "Domestic Long Hair                             638\n",
       "Labrador Retriever                             266\n",
       "                                              ... \n",
       "Yorkshire Terrier Yorkie/Poodle, Miniature       1\n",
       "Doberman Pinscher/German Shepherd Dog            1\n",
       "Border Collie/Terrier                            1\n",
       "Pug/Mix                                          1\n",
       "Shep Mix/Border Collie                           1\n",
       "Name: breedname, Length: 1075, dtype: int64"
      ]
     },
     "execution_count": 25,
     "metadata": {},
     "output_type": "execute_result"
    }
   ],
   "source": [
    "shelter1.breedname.value_counts()"
   ]
  },
  {
   "cell_type": "markdown",
   "id": "b676ca2b",
   "metadata": {},
   "source": [
    "### do we need to do anything with the breedname? "
   ]
  },
  {
   "cell_type": "markdown",
   "id": "3705e5d3",
   "metadata": {},
   "source": [
    "### or is just species ok?"
   ]
  },
  {
   "cell_type": "code",
   "execution_count": 26,
   "id": "47a27516",
   "metadata": {},
   "outputs": [
    {
     "data": {
      "text/plain": [
       "Cat                 11670\n",
       "Dog                  6644\n",
       "House Rabbit          353\n",
       "Guinea Pig            188\n",
       "Rat                   164\n",
       "Bird                   80\n",
       "Livestock              40\n",
       "Hamster                26\n",
       "Mouse                  20\n",
       "Hedgehog               18\n",
       "Gerbil                 18\n",
       "Snake                  14\n",
       "Ferret                 14\n",
       "Wildlife - other       14\n",
       "Pig                    13\n",
       "Lizard                 13\n",
       "Chicken                10\n",
       "Turtle                  8\n",
       "Sugar Glider            7\n",
       "Fish                    6\n",
       "Opossum                 6\n",
       "Goat                    5\n",
       "Chinchilla              4\n",
       "Tortoise                3\n",
       "Raccoon                 1\n",
       "Squirrel                1\n",
       "Tarantula               1\n",
       "Name: speciesname, dtype: int64"
      ]
     },
     "execution_count": 26,
     "metadata": {},
     "output_type": "execute_result"
    }
   ],
   "source": [
    "shelter1.speciesname.value_counts()"
   ]
  },
  {
   "cell_type": "markdown",
   "id": "99c9bf49",
   "metadata": {},
   "source": [
    "### need to subset for cats and dogs only"
   ]
  },
  {
   "cell_type": "code",
   "execution_count": 35,
   "id": "1263979c",
   "metadata": {},
   "outputs": [],
   "source": [
    "import pandas as pd\n",
    "import numpy as np\n",
    "from scipy.stats import norm\n",
    "from scipy import stats"
   ]
  },
  {
   "cell_type": "code",
   "execution_count": 36,
   "id": "a12630d0",
   "metadata": {},
   "outputs": [
    {
     "data": {
      "text/plain": [
       "08/17/2019 12:00:00 AM    112\n",
       "10/04/2019 12:00:00 AM     68\n",
       "11/12/2021 12:00:00 AM     61\n",
       "07/17/2021 12:00:00 AM     46\n",
       "08/10/2019 12:00:00 AM     44\n",
       "                         ... \n",
       "11/26/2016 12:00:00 AM      1\n",
       "12/01/2019 12:00:00 AM      1\n",
       "02/21/2021 12:00:00 AM      1\n",
       "12/09/2019 12:00:00 AM      1\n",
       "03/07/2017 12:00:00 AM      1\n",
       "Name: movementdate, Length: 1709, dtype: int64"
      ]
     },
     "execution_count": 36,
     "metadata": {},
     "output_type": "execute_result"
    }
   ],
   "source": [
    "shelter1.movementdate.value_counts()\t"
   ]
  },
  {
   "cell_type": "code",
   "execution_count": 37,
   "id": "6d1ebbc2",
   "metadata": {},
   "outputs": [],
   "source": [
    "pd.options.display.max_columns=None"
   ]
  },
  {
   "cell_type": "markdown",
   "id": "a0bd066a",
   "metadata": {},
   "source": [
    "### need to separate out month, day, year- remove time stamp"
   ]
  },
  {
   "cell_type": "code",
   "execution_count": 42,
   "id": "8d971bcb",
   "metadata": {},
   "outputs": [
    {
     "data": {
      "text/plain": [
       "Adoption            11060\n",
       "Foster               4975\n",
       "Reclaimed            2485\n",
       "Transfer              711\n",
       "None                   57\n",
       "Released To Wild       36\n",
       "Escaped                 9\n",
       "Stolen                  8\n",
       "Name: movementtype, dtype: int64"
      ]
     },
     "execution_count": 42,
     "metadata": {},
     "output_type": "execute_result"
    }
   ],
   "source": [
    "shelter1.movementtype.value_counts()"
   ]
  },
  {
   "cell_type": "markdown",
   "id": "a9bdc47c",
   "metadata": {},
   "source": [
    "## missing data to be removed "
   ]
  },
  {
   "cell_type": "code",
   "execution_count": null,
   "id": "0932f47c",
   "metadata": {},
   "outputs": [],
   "source": []
  }
 ],
 "metadata": {
  "kernelspec": {
   "display_name": "Python 3",
   "language": "python",
   "name": "python3"
  },
  "language_info": {
   "codemirror_mode": {
    "name": "ipython",
    "version": 3
   },
   "file_extension": ".py",
   "mimetype": "text/x-python",
   "name": "python",
   "nbconvert_exporter": "python",
   "pygments_lexer": "ipython3",
   "version": "3.8.8"
  }
 },
 "nbformat": 4,
 "nbformat_minor": 5
}
